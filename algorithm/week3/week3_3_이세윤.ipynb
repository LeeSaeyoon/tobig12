{
 "cells": [
  {
   "cell_type": "code",
   "execution_count": 29,
   "metadata": {},
   "outputs": [
    {
     "name": "stdout",
     "output_type": "stream",
     "text": [
      "3 4\n",
      "grace\n",
      "david\n",
      "charlie\n",
      "grace\n",
      "anne\n",
      "elsa\n",
      "david\n",
      "2\n",
      "David\n",
      "Grace\n"
     ]
    }
   ],
   "source": [
    "M, N = input().split()\n",
    "A = [input() for i in range(int(M))]\n",
    "B = [input() for i in range(int(N))]\n",
    "result = list(set(A) & set(B))\n",
    "print(len(result))\n",
    "for i in sorted(result):\n",
    "    print(i.capitalize())"
   ]
  }
 ],
 "metadata": {
  "kernelspec": {
   "display_name": "Python 3",
   "language": "python",
   "name": "python3"
  },
  "language_info": {
   "codemirror_mode": {
    "name": "ipython",
    "version": 3
   },
   "file_extension": ".py",
   "mimetype": "text/x-python",
   "name": "python",
   "nbconvert_exporter": "python",
   "pygments_lexer": "ipython3",
   "version": "3.7.3"
  }
 },
 "nbformat": 4,
 "nbformat_minor": 2
}
