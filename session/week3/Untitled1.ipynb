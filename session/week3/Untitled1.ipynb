{
 "cells": [
  {
   "cell_type": "code",
   "execution_count": 181,
   "metadata": {},
   "outputs": [],
   "source": [
    "import operator\n",
    "\n",
    "def getNeighbors(p, trainSet, testInstance, k):\n",
    "    # p=1 : return Manhattan Distance\n",
    "    # p=2 : return Eucludean Distance\n",
    "    N = len(trainSet)\n",
    "    distances = np.zeros(N)\n",
    "    for i in range(N):\n",
    "        distances[i] = getDistance(p, testInstance[:-1], trainSet[i][:-1]) # 각 trainSet마다 testInstance와의 거리 계산\n",
    "    sortDist = np.argsort(distances)[:k]\n",
    "    \n",
    "    neighbors = []\n",
    "    for i in range(k):\n",
    "        neighbors.append([trainSet[sortDist[i]], distances[sortDist[i]]]) # 데이터와 해당하는 거리를 k번째까지 neighbors에 저장\n",
    "    return neighbors"
   ]
  },
  {
   "cell_type": "code",
   "execution_count": null,
   "metadata": {},
   "outputs": [],
   "source": [
    "from sklearn.preprocessing import StandardScaler\n",
    "\n",
    "ss = StandardScaler()\n",
    "\n",
    "X_train=ss.fit_transform(X_train)\n",
    "X_test=ss.transform(X_test)\n",
    "# 데이터 별 분포가 달라 정규화를 이용해 데이터를 평균이 0, 분산이 1이 되도록 만들어주었다"
   ]
  },
  {
   "cell_type": "code",
   "execution_count": 263,
   "metadata": {},
   "outputs": [],
   "source": [
    "import numpy as np\n",
    "import pandas as pd\n",
    "from sklearn.datasets import load_iris\n",
    "from sklearn.model_selection import train_test_split \n",
    "from sklearn.neighbors import KNeighborsClassifier\n",
    "import math\n",
    "import warnings\n",
    "warnings.filterwarnings(\"ignore\")\n",
    "\n",
    "iris = load_iris()\n",
    "\n",
    "#iris.data -> features, iris.target -> labels\n",
    "X = iris.data\n",
    "y = iris.target\n",
    "\n",
    "# split into test and train dataset, and use random_state=48\n",
    "X_train, X_test, y_train, y_test = train_test_split(X, y, test_size = 0.3, random_state=48)\n",
    "\n",
    "trainSet = np.column_stack((X_train, y_train))\n",
    "testSet = np.column_stack((X_test, y_test))"
   ]
  },
  {
   "cell_type": "code",
   "execution_count": 264,
   "metadata": {},
   "outputs": [],
   "source": [
    "def getDistance(p, instance1, instance2):\n",
    "    # p=1 : return Manhattan Distance\n",
    "    # p=2 : return Eucludean Distance\n",
    "    distance = np.sum(pow(abs(instance1 - instance2), p))\n",
    "    return distance ** (1/p)"
   ]
  },
  {
   "cell_type": "code",
   "execution_count": 265,
   "metadata": {},
   "outputs": [],
   "source": [
    "def getWeight(k, distance):\n",
    "    weight = np.zeros(k)\n",
    "    sum = 0\n",
    "    for i in range(k):\n",
    "        weight[i] += 1 / distance[i]\n",
    "        sum += weight[i]\n",
    "    return weight / sum"
   ]
  },
  {
   "cell_type": "code",
   "execution_count": 266,
   "metadata": {},
   "outputs": [],
   "source": [
    "import operator\n",
    "\n",
    "def getNeighbors(p, trainSet, testInstance, k):\n",
    "    # p=1 : return Manhattan Distance\n",
    "    # p=2 : return Eucludean Distance\n",
    "    distances = []\n",
    "    for i in range(len(trainSet)):\n",
    "        dist = getDistance(p, trainSet[i][:-1], testInstance[:-1]) # 각 trainSet마다 testInstance와의 거리 계산\n",
    "        distances.append([trainSet[i], dist])\n",
    "    distances.sort(key=operator.itemgetter(1)) # 거리를 기준으로 정렬\n",
    "    \n",
    "    neighbors = []\n",
    "    for i in range(k):\n",
    "        neighbors.append(distances[i]) # 데이터를 k번째까지 neighbors에 저장\n",
    "    return neighbors"
   ]
  },
  {
   "cell_type": "code",
   "execution_count": 267,
   "metadata": {},
   "outputs": [],
   "source": [
    "def getResponse(neighbors, weightKnn):\n",
    "    classVotes = {}\n",
    "    neighbors = np.array(neighbors)\n",
    "    weight = getWeight(k, neighbors[:, -1])\n",
    "    for i in range(len(neighbors)):\n",
    "        response = neighbors[i][0][-1]\n",
    "        if response in classVotes:\n",
    "            if weightKnn == True:\n",
    "                classVotes[response] += 1 * weight[i]\n",
    "            else:\n",
    "                classVotes[response] += 1\n",
    "        else:\n",
    "            classVotes[response] = 1\n",
    "    vote = sorted(classVotes.items(), key=operator.itemgetter(1), reverse=True)\n",
    "    return vote[0][0] # 가장 투표를 많이 받은 클래스 리턴"
   ]
  },
  {
   "cell_type": "code",
   "execution_count": 268,
   "metadata": {},
   "outputs": [],
   "source": [
    "def getAccuracy(testSet, predictions):\n",
    "    correct = 0\n",
    "    for i in range(len(testSet)):\n",
    "        if testSet[i][-1] == predictions[i]:\n",
    "            correct += 1\n",
    "    accuracy = (correct/len(testSet)) * 100.0\n",
    "    return accuracy"
   ]
  },
  {
   "cell_type": "code",
   "execution_count": 271,
   "metadata": {},
   "outputs": [
    {
     "name": "stdout",
     "output_type": "stream",
     "text": [
      "0 > predicted : 1.0, actual : 1.0\n",
      "1 > predicted : 1.0, actual : 1.0\n",
      "2 > predicted : 2.0, actual : 2.0\n",
      "3 > predicted : 0.0, actual : 0.0\n",
      "4 > predicted : 1.0, actual : 1.0\n",
      "5 > predicted : 2.0, actual : 2.0\n",
      "6 > predicted : 0.0, actual : 0.0\n",
      "7 > predicted : 1.0, actual : 2.0\n",
      "8 > predicted : 0.0, actual : 0.0\n",
      "9 > predicted : 1.0, actual : 1.0\n",
      "10 > predicted : 2.0, actual : 2.0\n",
      "11 > predicted : 0.0, actual : 0.0\n",
      "12 > predicted : 0.0, actual : 0.0\n",
      "13 > predicted : 2.0, actual : 2.0\n",
      "14 > predicted : 1.0, actual : 1.0\n",
      "15 > predicted : 1.0, actual : 1.0\n",
      "16 > predicted : 0.0, actual : 0.0\n",
      "17 > predicted : 1.0, actual : 1.0\n",
      "18 > predicted : 2.0, actual : 1.0\n",
      "19 > predicted : 2.0, actual : 2.0\n",
      "20 > predicted : 0.0, actual : 0.0\n",
      "21 > predicted : 2.0, actual : 2.0\n",
      "22 > predicted : 1.0, actual : 1.0\n",
      "23 > predicted : 1.0, actual : 1.0\n",
      "24 > predicted : 2.0, actual : 2.0\n",
      "25 > predicted : 0.0, actual : 0.0\n",
      "26 > predicted : 0.0, actual : 0.0\n",
      "27 > predicted : 2.0, actual : 2.0\n",
      "28 > predicted : 2.0, actual : 2.0\n",
      "29 > predicted : 1.0, actual : 1.0\n",
      "30 > predicted : 2.0, actual : 2.0\n",
      "31 > predicted : 1.0, actual : 1.0\n",
      "32 > predicted : 2.0, actual : 2.0\n",
      "33 > predicted : 0.0, actual : 0.0\n",
      "34 > predicted : 1.0, actual : 1.0\n",
      "35 > predicted : 2.0, actual : 2.0\n",
      "36 > predicted : 2.0, actual : 2.0\n",
      "37 > predicted : 1.0, actual : 1.0\n",
      "38 > predicted : 0.0, actual : 0.0\n",
      "39 > predicted : 1.0, actual : 1.0\n",
      "40 > predicted : 1.0, actual : 1.0\n",
      "41 > predicted : 1.0, actual : 1.0\n",
      "42 > predicted : 2.0, actual : 2.0\n",
      "43 > predicted : 2.0, actual : 2.0\n",
      "44 > predicted : 1.0, actual : 1.0\n"
     ]
    }
   ],
   "source": [
    "k=3\n",
    "p=2\n",
    "\n",
    "predictions=[]\n",
    "\n",
    "for i in range(len(testSet)):\n",
    "    neighbors = getNeighbors(p, trainSet, testSet[i], k)\n",
    "    result = getResponse(neighbors, True)\n",
    "    predictions.append(result)\n",
    "    print(str(i) + ' > predicted : ' + str(result) + ', actual : ' + str(testSet[i][-1]))"
   ]
  },
  {
   "cell_type": "code",
   "execution_count": 272,
   "metadata": {},
   "outputs": [
    {
     "name": "stdout",
     "output_type": "stream",
     "text": [
      "Accuracy: 95.55555555555556%\n"
     ]
    }
   ],
   "source": [
    "accuracy = getAccuracy(testSet, predictions)\n",
    "print('Accuracy: ' + str(accuracy) + '%')"
   ]
  },
  {
   "cell_type": "code",
   "execution_count": 279,
   "metadata": {},
   "outputs": [],
   "source": [
    "k_range = range(1, 31)\n",
    "k_scores = []"
   ]
  },
  {
   "cell_type": "code",
   "execution_count": 280,
   "metadata": {},
   "outputs": [],
   "source": [
    "for k in k_range:\n",
    "    predictions=[]\n",
    "    for i in range(len(testSet)):\n",
    "        neighbors = getNeighbors(p, trainSet, testSet[i], k)\n",
    "        result = getResponse(neighbors, True)\n",
    "        predictions.append(result)\n",
    "    k_scores.append(getAccuracy(testSet, predictions))"
   ]
  },
  {
   "cell_type": "code",
   "execution_count": 282,
   "metadata": {},
   "outputs": [
    {
     "data": {
      "image/png": "[encoded data removed]",
      "text/plain": [
       "<Figure size 432x288 with 1 Axes>"
      ]
     },
     "metadata": {
      "needs_background": "light"
     },
     "output_type": "display_data"
    }
   ],
   "source": [
    "import matplotlib.pyplot as plt \n",
    "%matplotlib inline\n",
    "\n",
    "plt.plot(k_range, k_scores)\n",
    "plt.xlabel('Value of K for KNN')\n",
    "plt.ylabel('Accuracy')\n",
    "plt.show()"
   ]
  }
 ],
 "metadata": {
  "kernelspec": {
   "display_name": "Python 3",
   "language": "python",
   "name": "python3"
  },
  "language_info": {
   "codemirror_mode": {
    "name": "ipython",
    "version": 3
   },
   "file_extension": ".py",
   "mimetype": "text/x-python",
   "name": "python",
   "nbconvert_exporter": "python",
   "pygments_lexer": "ipython3",
   "version": "3.7.3"
  }
 },
 "nbformat": 4,
 "nbformat_minor": 2
}
