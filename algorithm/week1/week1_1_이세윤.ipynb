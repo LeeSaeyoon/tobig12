{
 "cells": [
  {
   "cell_type": "code",
   "execution_count": 33,
   "metadata": {},
   "outputs": [
    {
     "name": "stdout",
     "output_type": "stream",
     "text": [
      "7\n",
      "1 99 89 321 198 4 5 12 77\n",
      "999999999\n"
     ]
    }
   ],
   "source": [
    "N = int(input())\n",
    "numList = list(map(int, input().split()))\n",
    "\n",
    "def notNine(x):\n",
    "    for i in str(x):\n",
    "        if i == \"9\":\n",
    "            return False\n",
    "    return x\n",
    "            \n",
    "newList = list(filter(notNine, numList))\n",
    "try:\n",
    "    print(newList[N-1] ** 2)\n",
    "except IndexError:\n",
    "    print(999999999)"
   ]
  }
 ],
 "metadata": {
  "kernelspec": {
   "display_name": "Python 3",
   "language": "python",
   "name": "python3"
  },
  "language_info": {
   "codemirror_mode": {
    "name": "ipython",
    "version": 3
   },
   "file_extension": ".py",
   "mimetype": "text/x-python",
   "name": "python",
   "nbconvert_exporter": "python",
   "pygments_lexer": "ipython3",
   "version": "3.7.3"
  }
 },
 "nbformat": 4,
 "nbformat_minor": 2
}
