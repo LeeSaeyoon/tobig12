{
 "cells": [
  {
   "cell_type": "code",
   "execution_count": 47,
   "metadata": {},
   "outputs": [
    {
     "name": "stdin",
     "output_type": "stream",
     "text": [
      " 3 15\n",
      " 1 16 12\n"
     ]
    }
   ],
   "source": [
    "# N과 X int type으로 입력 받기\n",
    "N, X = map(int, input().split())\n",
    "# N개의 입력 한 줄에 받기\n",
    "W = list(map(int, input().split()))"
   ]
  },
  {
   "cell_type": "code",
   "execution_count": 49,
   "metadata": {},
   "outputs": [
    {
     "name": "stdout",
     "output_type": "stream",
     "text": [
      "13\n"
     ]
    }
   ],
   "source": [
    "# 동적 프로그래밍\n",
    "def knapsack(N, X):\n",
    "    # array[i][x] = 배낭 무게 한도가 x일 때, i개의 물건을 넣었을 때의 최대 무게\n",
    "    array = [[0 for _ in range(X+1)] for _ in range(N+1)]\n",
    "    for i in range(1, N+1): \n",
    "        for x in range(1, X+1):\n",
    "            # 짐의 무게가 x보다 크면\n",
    "            if W[i-1] > x: \n",
    "                # 넣을 수 없으므로 전 단계의 최적값 그대로 가져오기\n",
    "                array[i][x] = array[i-1][x] \n",
    "            # 물건의 무게가 x보다 작거나 같으면\n",
    "            else:\n",
    "                # 1. i번째 짐만큼의 무게를 비웠을 때의 최적값에 i번째 짐 무게를 더한 값\n",
    "                # 2. i-1개의 짐들을 가지고 구한 전 단계의 최적값\n",
    "                # 1과 2 중 큰 값 선택\n",
    "                array[i][x] = max(W[i-1] + array[i-1][x-W[i-1]], array[i-1][x])\n",
    "    return array[N][X]\n",
    "\n",
    "print(knapsack(N, X))"
   ]
  }
 ],
 "metadata": {
  "kernelspec": {
   "display_name": "Python 3",
   "language": "python",
   "name": "python3"
  },
  "language_info": {
   "codemirror_mode": {
    "name": "ipython",
    "version": 3
   },
   "file_extension": ".py",
   "mimetype": "text/x-python",
   "name": "python",
   "nbconvert_exporter": "python",
   "pygments_lexer": "ipython3",
   "version": "3.7.3"
  }
 },
 "nbformat": 4,
 "nbformat_minor": 2
}
