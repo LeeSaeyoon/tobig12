{
 "cells": [
  {
   "cell_type": "code",
   "execution_count": 35,
   "metadata": {
    "scrolled": true
   },
   "outputs": [
    {
     "name": "stdout",
     "output_type": "stream",
     "text": [
      "5\n",
      "mpwf xzvcf\n",
      "krvz cv\n",
      "j vzcqru\n",
      "zpv dfda\n",
      "tfcxa good\n",
      "vzcqru xzvcf dfda\n",
      "i love you\n"
     ]
    }
   ],
   "source": [
    "N = int(input())\n",
    "P = [0 for i in range(N)]\n",
    "C = [0 for i in range(N)]\n",
    "code = {}\n",
    "\n",
    "for i in range(N):\n",
    "    P[i], C[i] = input().split()\n",
    "    decode = lambda x: chr(ord(x) - 1 % 26) if x != 'a' else 'z'\n",
    "    P[i] = ''.join(decode(ch) for ch in P[i])\n",
    "    code[C[i]] = P[i]\n",
    "    \n",
    "sentence = input().split()\n",
    "print(' '.join(code[i] for i in sentence))"
   ]
  }
 ],
 "metadata": {
  "kernelspec": {
   "display_name": "Python 3",
   "language": "python",
   "name": "python3"
  },
  "language_info": {
   "codemirror_mode": {
    "name": "ipython",
    "version": 3
   },
   "file_extension": ".py",
   "mimetype": "text/x-python",
   "name": "python",
   "nbconvert_exporter": "python",
   "pygments_lexer": "ipython3",
   "version": "3.7.3"
  }
 },
 "nbformat": 4,
 "nbformat_minor": 2
}
