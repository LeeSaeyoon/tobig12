{
 "cells": [
  {
   "cell_type": "code",
   "execution_count": 21,
   "metadata": {},
   "outputs": [
    {
     "name": "stdout",
     "output_type": "stream",
     "text": [
      "OOXXOOXXOO\n",
      "9\n"
     ]
    }
   ],
   "source": [
    "# 퀴즈 결과 한 줄로 입력받기\n",
    "score = input()\n",
    "\n",
    "choco = 0\n",
    "j = 0\n",
    "# 문제 개수에 대해서\n",
    "for i in range(len(score)):\n",
    "    # 문제를 맞췄을 때\n",
    "    if score[i] == 'O':\n",
    "        # 초콜릿이 전에 맞춘 개수보다 하나 더 많이 받는다.\n",
    "        j += 1\n",
    "        choco += j\n",
    "    # 틀렸으면 다시 한 문제에 대해 받을 수 있는 초콜릿 수 초기화\n",
    "    else:\n",
    "        j = 0\n",
    "        \n",
    "print(choco)"
   ]
  }
 ],
 "metadata": {
  "kernelspec": {
   "display_name": "Python 3",
   "language": "python",
   "name": "python3"
  },
  "language_info": {
   "codemirror_mode": {
    "name": "ipython",
    "version": 3
   },
   "file_extension": ".py",
   "mimetype": "text/x-python",
   "name": "python",
   "nbconvert_exporter": "python",
   "pygments_lexer": "ipython3",
   "version": "3.7.3"
  }
 },
 "nbformat": 4,
 "nbformat_minor": 2
}
