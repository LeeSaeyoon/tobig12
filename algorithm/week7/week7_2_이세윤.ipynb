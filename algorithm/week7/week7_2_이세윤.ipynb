{
 "cells": [
  {
   "cell_type": "code",
   "execution_count": 1,
   "metadata": {},
   "outputs": [],
   "source": [
    "import numpy as np\n",
    "import pandas as pd\n",
    "from tqdm import trange \n",
    "from tqdm import tqdm\n",
    "import time\n",
    "import os"
   ]
  },
  {
   "cell_type": "code",
   "execution_count": 2,
   "metadata": {},
   "outputs": [
    {
     "data": {
      "text/html": [
       "<div>\n",
       "<style scoped>\n",
       "    .dataframe tbody tr th:only-of-type {\n",
       "        vertical-align: middle;\n",
       "    }\n",
       "\n",
       "    .dataframe tbody tr th {\n",
       "        vertical-align: top;\n",
       "    }\n",
       "\n",
       "    .dataframe thead th {\n",
       "        text-align: right;\n",
       "    }\n",
       "</style>\n",
       "<table border=\"1\" class=\"dataframe\">\n",
       "  <thead>\n",
       "    <tr style=\"text-align: right;\">\n",
       "      <th></th>\n",
       "      <th>Unnamed: 0</th>\n",
       "      <th>study_start_day</th>\n",
       "      <th>study_start_time</th>\n",
       "      <th>study_end_day</th>\n",
       "      <th>study_end_time</th>\n",
       "      <th>hashed</th>\n",
       "    </tr>\n",
       "  </thead>\n",
       "  <tbody>\n",
       "    <tr>\n",
       "      <th>0</th>\n",
       "      <td>0</td>\n",
       "      <td>1</td>\n",
       "      <td>09:14:58.558</td>\n",
       "      <td>1</td>\n",
       "      <td>09:41:30.200</td>\n",
       "      <td>967393e81d99ce8e577ee130b7ce8e4fd45e3e9cecb560...</td>\n",
       "    </tr>\n",
       "    <tr>\n",
       "      <th>1</th>\n",
       "      <td>1</td>\n",
       "      <td>17</td>\n",
       "      <td>11:05:05.176</td>\n",
       "      <td>17</td>\n",
       "      <td>13:07:42.515</td>\n",
       "      <td>02181a0c962f34f019bc9d5b582fb0ec79b1441f96aa4d...</td>\n",
       "    </tr>\n",
       "    <tr>\n",
       "      <th>2</th>\n",
       "      <td>2</td>\n",
       "      <td>20</td>\n",
       "      <td>02:18:43.172</td>\n",
       "      <td>20</td>\n",
       "      <td>02:28:58.177</td>\n",
       "      <td>86022904c5cf72a54978479c94041f4256d6c3c2a1f71c...</td>\n",
       "    </tr>\n",
       "    <tr>\n",
       "      <th>3</th>\n",
       "      <td>3</td>\n",
       "      <td>22</td>\n",
       "      <td>09:22:01.936</td>\n",
       "      <td>22</td>\n",
       "      <td>09:47:40.192</td>\n",
       "      <td>aafb40d212fe18ff4eafb82fdcf3b53f2161cb3ce59de4...</td>\n",
       "    </tr>\n",
       "    <tr>\n",
       "      <th>4</th>\n",
       "      <td>4</td>\n",
       "      <td>26</td>\n",
       "      <td>06:29:21.182</td>\n",
       "      <td>26</td>\n",
       "      <td>06:50:55.004</td>\n",
       "      <td>c87c2fad141edf323f3787335b54be22945a02fe052448...</td>\n",
       "    </tr>\n",
       "  </tbody>\n",
       "</table>\n",
       "</div>"
      ],
      "text/plain": [
       "   Unnamed: 0  study_start_day study_start_time  study_end_day study_end_time  \\\n",
       "0           0                1     09:14:58.558              1   09:41:30.200   \n",
       "1           1               17     11:05:05.176             17   13:07:42.515   \n",
       "2           2               20     02:18:43.172             20   02:28:58.177   \n",
       "3           3               22     09:22:01.936             22   09:47:40.192   \n",
       "4           4               26     06:29:21.182             26   06:50:55.004   \n",
       "\n",
       "                                              hashed  \n",
       "0  967393e81d99ce8e577ee130b7ce8e4fd45e3e9cecb560...  \n",
       "1  02181a0c962f34f019bc9d5b582fb0ec79b1441f96aa4d...  \n",
       "2  86022904c5cf72a54978479c94041f4256d6c3c2a1f71c...  \n",
       "3  aafb40d212fe18ff4eafb82fdcf3b53f2161cb3ce59de4...  \n",
       "4  c87c2fad141edf323f3787335b54be22945a02fe052448...  "
      ]
     },
     "execution_count": 2,
     "metadata": {},
     "output_type": "execute_result"
    }
   ],
   "source": [
    "df = pd.read_csv('study_room_HMS.csv')\n",
    "df.head()"
   ]
  },
  {
   "cell_type": "code",
   "execution_count": 40,
   "metadata": {},
   "outputs": [
    {
     "name": "stderr",
     "output_type": "stream",
     "text": [
      "100%|█████████████████████████████████████████████████████████████████████| 6962341/6962341 [02:05<00:00, 55586.87it/s]\n"
     ]
    }
   ],
   "source": [
    "## 각 사람 별로 index 지정\n",
    "\n",
    "# 사람 별 index 변수\n",
    "idx = dict()\n",
    "# 사람 별 index\n",
    "cnt = 0\n",
    "for hsh in tqdm(df['hashed']):\n",
    "    # 각 사람에 대해\n",
    "    for user in hsh.split(\",\"):\n",
    "        # 사람이 idx에 존재할 경우 continue\n",
    "        if user in idx:\n",
    "            continue\n",
    "        # user에 해당하는 index 부여\n",
    "        idx[user] = cnt\n",
    "        cnt += 1"
   ]
  },
  {
   "cell_type": "code",
   "execution_count": 41,
   "metadata": {},
   "outputs": [
    {
     "data": {
      "text/plain": [
       "268148"
      ]
     },
     "execution_count": 41,
     "metadata": {},
     "output_type": "execute_result"
    }
   ],
   "source": [
    "len(idx)"
   ]
  },
  {
   "cell_type": "code",
   "execution_count": 5,
   "metadata": {},
   "outputs": [
    {
     "name": "stderr",
     "output_type": "stream",
     "text": [
      "100%|█████████████████████████████████████████████████████████████████████| 6962341/6962341 [01:45<00:00, 65749.40it/s]\n"
     ]
    }
   ],
   "source": [
    "## 각 사람에 대한 총 이용 횟수 구하기\n",
    "\n",
    "# 총 이용 횟수 변수\n",
    "user_freq = [0] * len(idx)\n",
    "\n",
    "for hsh in tqdm(df['hashed']):\n",
    "    for user in hsh.split(\",\"):\n",
    "        # user의 index에 이용 횟수 더하기\n",
    "        user_freq[idx[user]] += 1"
   ]
  },
  {
   "cell_type": "code",
   "execution_count": null,
   "metadata": {},
   "outputs": [],
   "source": [
    "## 각 사람에 대한 총 이용 시간 구하기\n",
    "\n",
    "\"\"\"\n",
    "import datetime\n",
    "\n",
    "for i in tqdm(range(len(df))):\n",
    "    # time 변수를 str에서 datetime 객체로 만들기\n",
    "    df['study_start_time'][i] = datetime.datetime.strptime(df['study_start_time'][i], '%H:%M:%S.%f')\n",
    "    df['study_end_time'][i] = datetime.datetime.strptime(df['study_end_time'][i], '%H:%M:%S.%f')\n",
    "    \n",
    "    # 시간에 일수를 더해주기\n",
    "    df['study_start_time'][i] += datetime.timedelta(days = int(df['study_start_day'][i]))\n",
    "    df['study_end_time'][i] += datetime.timedelta(days = int(df['study_end_day'][i]))\n",
    "\n",
    "\"\"\""
   ]
  },
  {
   "cell_type": "code",
   "execution_count": 7,
   "metadata": {},
   "outputs": [
    {
     "name": "stderr",
     "output_type": "stream",
     "text": [
      "6962341it [2:54:32, 664.82it/s]\n"
     ]
    }
   ],
   "source": [
    "## 각 사람에 대한 총 이용 일 수\n",
    "\n",
    "# 총 이용 일수 변수\n",
    "user_day = [0] * len(idx)\n",
    "\n",
    "for index, hsh in tqdm(enumerate(df['hashed'])):\n",
    "    for user in hsh.split(\",\"):\n",
    "        user_day[idx[user]] += (df['study_end_day'][index] - df['study_start_day'][index] + 1)"
   ]
  },
  {
   "cell_type": "code",
   "execution_count": 9,
   "metadata": {},
   "outputs": [
    {
     "name": "stderr",
     "output_type": "stream",
     "text": [
      "6962341it [1:26:18, 1344.52it/s]\n"
     ]
    }
   ],
   "source": [
    "## 각 사람에 대한 평균 같이 이용한 인원 수\n",
    "\n",
    "# 평균 같이 이용한 인원 수 변수\n",
    "user_together = [0] * len(idx)\n",
    "\n",
    "for index, hsh in tqdm(enumerate(df['hashed'])):\n",
    "    for user in hsh.split(\",\"):\n",
    "        # 자기 자신을 제외한 같이 이용한 인원 수 더하기\n",
    "        user_together[idx[user]] += len(df['hashed'][index].split(\",\")) - 1"
   ]
  },
  {
   "cell_type": "code",
   "execution_count": 10,
   "metadata": {},
   "outputs": [
    {
     "name": "stderr",
     "output_type": "stream",
     "text": [
      "100%|█████████████████████████████████████████████████████████████████████| 6962341/6962341 [03:05<00:00, 37552.13it/s]\n"
     ]
    }
   ],
   "source": [
    "for hsh in tqdm(df['hashed']):\n",
    "    for user in hsh.split(\",\"):\n",
    "        # 총 같이 이용한 인원 수를 이용 횟수로 나누어 평균 같이 이용한 인원 수 구함\n",
    "        user_together[idx[user]] /= user_freq[idx[user]]"
   ]
  },
  {
   "cell_type": "code",
   "execution_count": 8,
   "metadata": {},
   "outputs": [
    {
     "name": "stderr",
     "output_type": "stream",
     "text": [
      "6962341it [6:49:55, 283.08it/s]\n"
     ]
    }
   ],
   "source": [
    "## 각 사람의 요일별 이용일 수 (집계 시작일: 월요일, 시작일 기준)\n",
    "\n",
    "# 요일 이용일수 변수\n",
    "mon = [0] * len(idx)\n",
    "tue = [0] * len(idx)\n",
    "wed = [0] * len(idx)\n",
    "thu = [0] * len(idx)\n",
    "fri = [0] * len(idx)\n",
    "sat = [0] * len(idx)\n",
    "sun = [0] * len(idx)\n",
    "\n",
    "for index, hsh in tqdm(enumerate(df['hashed'])):\n",
    "    for user in hsh.split(\",\"):\n",
    "        # 각 요일에 해당하는 경우의 index 값에 횟수 더하기\n",
    "        if df['study_start_day'][index] % 7 == 1:\n",
    "            mon[idx[user]] += 1\n",
    "        elif df['study_start_day'][index] % 7 == 2:\n",
    "            tue[idx[user]] += 1\n",
    "        elif df['study_start_day'][index] % 7 == 3:\n",
    "            wed[idx[user]] += 1\n",
    "        elif df['study_start_day'][index] % 7 == 4:\n",
    "            thu[idx[user]] += 1\n",
    "        elif df['study_start_day'][index] % 7 == 5:\n",
    "            fri[idx[user]] += 1\n",
    "        elif df['study_start_day'][index] % 7 == 6:\n",
    "            sat[idx[user]] += 1\n",
    "        else:\n",
    "            sun[idx[user]] += 1"
   ]
  },
  {
   "cell_type": "code",
   "execution_count": 48,
   "metadata": {},
   "outputs": [],
   "source": [
    "idx = pd.Series(list(idx.keys()))"
   ]
  },
  {
   "cell_type": "code",
   "execution_count": 12,
   "metadata": {},
   "outputs": [],
   "source": [
    "user_freq = pd.Series(user_freq)"
   ]
  },
  {
   "cell_type": "code",
   "execution_count": 13,
   "metadata": {},
   "outputs": [],
   "source": [
    "user_day = pd.Series(user_day)"
   ]
  },
  {
   "cell_type": "code",
   "execution_count": 14,
   "metadata": {},
   "outputs": [],
   "source": [
    "user_together = pd.Series(user_together)"
   ]
  },
  {
   "cell_type": "code",
   "execution_count": 15,
   "metadata": {},
   "outputs": [],
   "source": [
    "mon = pd.Series(mon)\n",
    "tue = pd.Series(tue)\n",
    "wed = pd.Series(wed)\n",
    "thu = pd.Series(thu)\n",
    "fri = pd.Series(fri)\n",
    "sat = pd.Series(sat)\n",
    "sun = pd.Series(sun)"
   ]
  },
  {
   "cell_type": "code",
   "execution_count": 49,
   "metadata": {},
   "outputs": [],
   "source": [
    "data = pd.concat([idx, user_freq, user_day, user_together, mon, tue, wed, thu, fri, sat, sun], axis = 1,\n",
    "                keys = [\"idx\", \"user_freq\", \"user_day\", \"user_together\", \n",
    "                           \"mon\", \"tue\", \"wed\", \"thu\", \"fri\", \"sat\", \"sun\"])"
   ]
  },
  {
   "cell_type": "code",
   "execution_count": 50,
   "metadata": {},
   "outputs": [
    {
     "data": {
      "text/html": [
       "<div>\n",
       "<style scoped>\n",
       "    .dataframe tbody tr th:only-of-type {\n",
       "        vertical-align: middle;\n",
       "    }\n",
       "\n",
       "    .dataframe tbody tr th {\n",
       "        vertical-align: top;\n",
       "    }\n",
       "\n",
       "    .dataframe thead th {\n",
       "        text-align: right;\n",
       "    }\n",
       "</style>\n",
       "<table border=\"1\" class=\"dataframe\">\n",
       "  <thead>\n",
       "    <tr style=\"text-align: right;\">\n",
       "      <th></th>\n",
       "      <th>idx</th>\n",
       "      <th>user_freq</th>\n",
       "      <th>user_day</th>\n",
       "      <th>user_together</th>\n",
       "      <th>mon</th>\n",
       "      <th>tue</th>\n",
       "      <th>wed</th>\n",
       "      <th>thu</th>\n",
       "      <th>fri</th>\n",
       "      <th>sat</th>\n",
       "      <th>sun</th>\n",
       "    </tr>\n",
       "  </thead>\n",
       "  <tbody>\n",
       "    <tr>\n",
       "      <th>0</th>\n",
       "      <td>967393e81d99ce8e577ee130b7ce8e4fd45e3e9cecb560...</td>\n",
       "      <td>129</td>\n",
       "      <td>135</td>\n",
       "      <td>2.595750e-270</td>\n",
       "      <td>9</td>\n",
       "      <td>15</td>\n",
       "      <td>16</td>\n",
       "      <td>21</td>\n",
       "      <td>23</td>\n",
       "      <td>23</td>\n",
       "      <td>22</td>\n",
       "    </tr>\n",
       "    <tr>\n",
       "      <th>1</th>\n",
       "      <td>a0b6ecbec654b18fe36ebe6230e25a653fb12125733583...</td>\n",
       "      <td>110</td>\n",
       "      <td>112</td>\n",
       "      <td>1.096707e-222</td>\n",
       "      <td>13</td>\n",
       "      <td>21</td>\n",
       "      <td>13</td>\n",
       "      <td>15</td>\n",
       "      <td>17</td>\n",
       "      <td>10</td>\n",
       "      <td>21</td>\n",
       "    </tr>\n",
       "    <tr>\n",
       "      <th>2</th>\n",
       "      <td>3193ab18168bcadbcb8342c06c4a35fa0d6e58d9619fe8...</td>\n",
       "      <td>479</td>\n",
       "      <td>487</td>\n",
       "      <td>0.000000e+00</td>\n",
       "      <td>35</td>\n",
       "      <td>52</td>\n",
       "      <td>60</td>\n",
       "      <td>86</td>\n",
       "      <td>84</td>\n",
       "      <td>89</td>\n",
       "      <td>73</td>\n",
       "    </tr>\n",
       "    <tr>\n",
       "      <th>3</th>\n",
       "      <td>02181a0c962f34f019bc9d5b582fb0ec79b1441f96aa4d...</td>\n",
       "      <td>267</td>\n",
       "      <td>276</td>\n",
       "      <td>0.000000e+00</td>\n",
       "      <td>19</td>\n",
       "      <td>34</td>\n",
       "      <td>35</td>\n",
       "      <td>36</td>\n",
       "      <td>50</td>\n",
       "      <td>46</td>\n",
       "      <td>47</td>\n",
       "    </tr>\n",
       "    <tr>\n",
       "      <th>4</th>\n",
       "      <td>769f00750d87fa59f8b6083aae62fb394e165101796fe5...</td>\n",
       "      <td>290</td>\n",
       "      <td>306</td>\n",
       "      <td>0.000000e+00</td>\n",
       "      <td>26</td>\n",
       "      <td>38</td>\n",
       "      <td>44</td>\n",
       "      <td>50</td>\n",
       "      <td>39</td>\n",
       "      <td>52</td>\n",
       "      <td>41</td>\n",
       "    </tr>\n",
       "  </tbody>\n",
       "</table>\n",
       "</div>"
      ],
      "text/plain": [
       "                                                 idx  user_freq  user_day  \\\n",
       "0  967393e81d99ce8e577ee130b7ce8e4fd45e3e9cecb560...        129       135   \n",
       "1  a0b6ecbec654b18fe36ebe6230e25a653fb12125733583...        110       112   \n",
       "2  3193ab18168bcadbcb8342c06c4a35fa0d6e58d9619fe8...        479       487   \n",
       "3  02181a0c962f34f019bc9d5b582fb0ec79b1441f96aa4d...        267       276   \n",
       "4  769f00750d87fa59f8b6083aae62fb394e165101796fe5...        290       306   \n",
       "\n",
       "   user_together  mon  tue  wed  thu  fri  sat  sun  \n",
       "0  2.595750e-270    9   15   16   21   23   23   22  \n",
       "1  1.096707e-222   13   21   13   15   17   10   21  \n",
       "2   0.000000e+00   35   52   60   86   84   89   73  \n",
       "3   0.000000e+00   19   34   35   36   50   46   47  \n",
       "4   0.000000e+00   26   38   44   50   39   52   41  "
      ]
     },
     "execution_count": 50,
     "metadata": {},
     "output_type": "execute_result"
    }
   ],
   "source": [
    "data.head()"
   ]
  }
 ],
 "metadata": {
  "kernelspec": {
   "display_name": "Python 3",
   "language": "python",
   "name": "python3"
  },
  "language_info": {
   "codemirror_mode": {
    "name": "ipython",
    "version": 3
   },
   "file_extension": ".py",
   "mimetype": "text/x-python",
   "name": "python",
   "nbconvert_exporter": "python",
   "pygments_lexer": "ipython3",
   "version": "3.7.3"
  }
 },
 "nbformat": 4,
 "nbformat_minor": 2
}
