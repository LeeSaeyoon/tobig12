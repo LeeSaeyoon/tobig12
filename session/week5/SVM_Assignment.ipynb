{
 "cells": [
  {
   "cell_type": "code",
   "execution_count": 1,
   "metadata": {},
   "outputs": [],
   "source": [
    "import pandas as pd\n",
    "import numpy as np\n",
    "import seaborn as sns\n",
    "import matplotlib.pyplot as plt\n",
    "%matplotlib inline\n",
    "import warnings\n",
    "warnings.filterwarnings(\"ignore\")"
   ]
  },
  {
   "cell_type": "code",
   "execution_count": 2,
   "metadata": {
    "scrolled": false
   },
   "outputs": [
    {
     "data": {
      "text/html": [
       "<div>\n",
       "<style scoped>\n",
       "    .dataframe tbody tr th:only-of-type {\n",
       "        vertical-align: middle;\n",
       "    }\n",
       "\n",
       "    .dataframe tbody tr th {\n",
       "        vertical-align: top;\n",
       "    }\n",
       "\n",
       "    .dataframe thead th {\n",
       "        text-align: right;\n",
       "    }\n",
       "</style>\n",
       "<table border=\"1\" class=\"dataframe\">\n",
       "  <thead>\n",
       "    <tr style=\"text-align: right;\">\n",
       "      <th></th>\n",
       "      <th>ID_code</th>\n",
       "      <th>target</th>\n",
       "      <th>var_0</th>\n",
       "      <th>var_1</th>\n",
       "      <th>var_2</th>\n",
       "      <th>var_3</th>\n",
       "      <th>var_4</th>\n",
       "      <th>var_5</th>\n",
       "      <th>var_6</th>\n",
       "      <th>var_7</th>\n",
       "      <th>...</th>\n",
       "      <th>var_190</th>\n",
       "      <th>var_191</th>\n",
       "      <th>var_192</th>\n",
       "      <th>var_193</th>\n",
       "      <th>var_194</th>\n",
       "      <th>var_195</th>\n",
       "      <th>var_196</th>\n",
       "      <th>var_197</th>\n",
       "      <th>var_198</th>\n",
       "      <th>var_199</th>\n",
       "    </tr>\n",
       "  </thead>\n",
       "  <tbody>\n",
       "    <tr>\n",
       "      <th>0</th>\n",
       "      <td>train_0</td>\n",
       "      <td>0</td>\n",
       "      <td>8.9255</td>\n",
       "      <td>-6.7863</td>\n",
       "      <td>11.9081</td>\n",
       "      <td>5.0930</td>\n",
       "      <td>11.4607</td>\n",
       "      <td>-9.2834</td>\n",
       "      <td>5.1187</td>\n",
       "      <td>18.6266</td>\n",
       "      <td>...</td>\n",
       "      <td>4.4354</td>\n",
       "      <td>3.9642</td>\n",
       "      <td>3.1364</td>\n",
       "      <td>1.6910</td>\n",
       "      <td>18.5227</td>\n",
       "      <td>-2.3978</td>\n",
       "      <td>7.8784</td>\n",
       "      <td>8.5635</td>\n",
       "      <td>12.7803</td>\n",
       "      <td>-1.0914</td>\n",
       "    </tr>\n",
       "    <tr>\n",
       "      <th>1</th>\n",
       "      <td>train_1</td>\n",
       "      <td>0</td>\n",
       "      <td>11.5006</td>\n",
       "      <td>-4.1473</td>\n",
       "      <td>13.8588</td>\n",
       "      <td>5.3890</td>\n",
       "      <td>12.3622</td>\n",
       "      <td>7.0433</td>\n",
       "      <td>5.6208</td>\n",
       "      <td>16.5338</td>\n",
       "      <td>...</td>\n",
       "      <td>7.6421</td>\n",
       "      <td>7.7214</td>\n",
       "      <td>2.5837</td>\n",
       "      <td>10.9516</td>\n",
       "      <td>15.4305</td>\n",
       "      <td>2.0339</td>\n",
       "      <td>8.1267</td>\n",
       "      <td>8.7889</td>\n",
       "      <td>18.3560</td>\n",
       "      <td>1.9518</td>\n",
       "    </tr>\n",
       "    <tr>\n",
       "      <th>2</th>\n",
       "      <td>train_2</td>\n",
       "      <td>0</td>\n",
       "      <td>8.6093</td>\n",
       "      <td>-2.7457</td>\n",
       "      <td>12.0805</td>\n",
       "      <td>7.8928</td>\n",
       "      <td>10.5825</td>\n",
       "      <td>-9.0837</td>\n",
       "      <td>6.9427</td>\n",
       "      <td>14.6155</td>\n",
       "      <td>...</td>\n",
       "      <td>2.9057</td>\n",
       "      <td>9.7905</td>\n",
       "      <td>1.6704</td>\n",
       "      <td>1.6858</td>\n",
       "      <td>21.6042</td>\n",
       "      <td>3.1417</td>\n",
       "      <td>-6.5213</td>\n",
       "      <td>8.2675</td>\n",
       "      <td>14.7222</td>\n",
       "      <td>0.3965</td>\n",
       "    </tr>\n",
       "    <tr>\n",
       "      <th>3</th>\n",
       "      <td>train_3</td>\n",
       "      <td>0</td>\n",
       "      <td>11.0604</td>\n",
       "      <td>-2.1518</td>\n",
       "      <td>8.9522</td>\n",
       "      <td>7.1957</td>\n",
       "      <td>12.5846</td>\n",
       "      <td>-1.8361</td>\n",
       "      <td>5.8428</td>\n",
       "      <td>14.9250</td>\n",
       "      <td>...</td>\n",
       "      <td>4.4666</td>\n",
       "      <td>4.7433</td>\n",
       "      <td>0.7178</td>\n",
       "      <td>1.4214</td>\n",
       "      <td>23.0347</td>\n",
       "      <td>-1.2706</td>\n",
       "      <td>-2.9275</td>\n",
       "      <td>10.2922</td>\n",
       "      <td>17.9697</td>\n",
       "      <td>-8.9996</td>\n",
       "    </tr>\n",
       "    <tr>\n",
       "      <th>4</th>\n",
       "      <td>train_4</td>\n",
       "      <td>0</td>\n",
       "      <td>9.8369</td>\n",
       "      <td>-1.4834</td>\n",
       "      <td>12.8746</td>\n",
       "      <td>6.6375</td>\n",
       "      <td>12.2772</td>\n",
       "      <td>2.4486</td>\n",
       "      <td>5.9405</td>\n",
       "      <td>19.2514</td>\n",
       "      <td>...</td>\n",
       "      <td>-1.4905</td>\n",
       "      <td>9.5214</td>\n",
       "      <td>-0.1508</td>\n",
       "      <td>9.1942</td>\n",
       "      <td>13.2876</td>\n",
       "      <td>-1.5121</td>\n",
       "      <td>3.9267</td>\n",
       "      <td>9.5031</td>\n",
       "      <td>17.9974</td>\n",
       "      <td>-8.8104</td>\n",
       "    </tr>\n",
       "  </tbody>\n",
       "</table>\n",
       "<p>5 rows × 202 columns</p>\n",
       "</div>"
      ],
      "text/plain": [
       "   ID_code  target    var_0   var_1    var_2   var_3    var_4   var_5   var_6  \\\n",
       "0  train_0       0   8.9255 -6.7863  11.9081  5.0930  11.4607 -9.2834  5.1187   \n",
       "1  train_1       0  11.5006 -4.1473  13.8588  5.3890  12.3622  7.0433  5.6208   \n",
       "2  train_2       0   8.6093 -2.7457  12.0805  7.8928  10.5825 -9.0837  6.9427   \n",
       "3  train_3       0  11.0604 -2.1518   8.9522  7.1957  12.5846 -1.8361  5.8428   \n",
       "4  train_4       0   9.8369 -1.4834  12.8746  6.6375  12.2772  2.4486  5.9405   \n",
       "\n",
       "     var_7  ...  var_190  var_191  var_192  var_193  var_194  var_195  \\\n",
       "0  18.6266  ...   4.4354   3.9642   3.1364   1.6910  18.5227  -2.3978   \n",
       "1  16.5338  ...   7.6421   7.7214   2.5837  10.9516  15.4305   2.0339   \n",
       "2  14.6155  ...   2.9057   9.7905   1.6704   1.6858  21.6042   3.1417   \n",
       "3  14.9250  ...   4.4666   4.7433   0.7178   1.4214  23.0347  -1.2706   \n",
       "4  19.2514  ...  -1.4905   9.5214  -0.1508   9.1942  13.2876  -1.5121   \n",
       "\n",
       "   var_196  var_197  var_198  var_199  \n",
       "0   7.8784   8.5635  12.7803  -1.0914  \n",
       "1   8.1267   8.7889  18.3560   1.9518  \n",
       "2  -6.5213   8.2675  14.7222   0.3965  \n",
       "3  -2.9275  10.2922  17.9697  -8.9996  \n",
       "4   3.9267   9.5031  17.9974  -8.8104  \n",
       "\n",
       "[5 rows x 202 columns]"
      ]
     },
     "execution_count": 2,
     "metadata": {},
     "output_type": "execute_result"
    }
   ],
   "source": [
    "df = pd.read_csv('train.csv')\n",
    "df.head()"
   ]
  },
  {
   "cell_type": "code",
   "execution_count": 3,
   "metadata": {},
   "outputs": [
    {
     "data": {
      "text/plain": [
       "(200000, 202)"
      ]
     },
     "execution_count": 3,
     "metadata": {},
     "output_type": "execute_result"
    }
   ],
   "source": [
    "df.shape"
   ]
  },
  {
   "cell_type": "markdown",
   "metadata": {},
   "source": [
    "## Preprocessing"
   ]
  },
  {
   "cell_type": "code",
   "execution_count": 4,
   "metadata": {},
   "outputs": [
    {
     "data": {
      "text/plain": [
       "(10000, 202)"
      ]
     },
     "execution_count": 4,
     "metadata": {},
     "output_type": "execute_result"
    }
   ],
   "source": [
    "# 랜덤하게 10000개의 데이터를 뽑았다.\n",
    "rndperm = np.random.permutation(df.shape[0])\n",
    "df1=df.loc[rndperm[:10000],:]\n",
    "df1.shape"
   ]
  },
  {
   "cell_type": "code",
   "execution_count": 5,
   "metadata": {},
   "outputs": [],
   "source": [
    "X = df1.drop([\"ID_code\",\"target\"], axis=1)\n",
    "y = df1[\"target\"]"
   ]
  },
  {
   "cell_type": "code",
   "execution_count": 6,
   "metadata": {},
   "outputs": [],
   "source": [
    "#train / validation / test set 으로 나누기\n",
    "from sklearn.model_selection import train_test_split\n",
    "X_train, X_test, y_train, y_test = train_test_split(X, y, test_size=0.2, random_state=1)\n",
    "X_train, X_val, y_train, y_val = train_test_split(X_train, y_train, test_size=0.2, random_state=1)"
   ]
  },
  {
   "cell_type": "code",
   "execution_count": 7,
   "metadata": {},
   "outputs": [],
   "source": [
    "# 정규화\n",
    "from sklearn.preprocessing import StandardScaler\n",
    "\n",
    "ss = StandardScaler()\n",
    "\n",
    "X_train=ss.fit_transform(X_train)\n",
    "X_val=ss.fit_transform(X_val)\n",
    "X_test=ss.transform(X_test)"
   ]
  },
  {
   "cell_type": "code",
   "execution_count": 8,
   "metadata": {},
   "outputs": [],
   "source": [
    "# PCA로 149차원으로 축소\n",
    "from sklearn.decomposition import PCA\n",
    "\n",
    "pca = PCA(n_components = 0.8).fit(X_train)\n",
    "\n",
    "X_train = pca.transform(X_train)\n",
    "X_val = pca.transform(X_val)\n",
    "X_test = pca.transform(X_test)"
   ]
  },
  {
   "cell_type": "code",
   "execution_count": 9,
   "metadata": {},
   "outputs": [
    {
     "data": {
      "text/plain": [
       "((6400, 149), (1600, 149), (2000, 149))"
      ]
     },
     "execution_count": 9,
     "metadata": {},
     "output_type": "execute_result"
    }
   ],
   "source": [
    "X_train.shape, X_val.shape, X_test.shape"
   ]
  },
  {
   "cell_type": "markdown",
   "metadata": {},
   "source": [
    "## SVM"
   ]
  },
  {
   "cell_type": "code",
   "execution_count": 10,
   "metadata": {},
   "outputs": [],
   "source": [
    "from sklearn.svm import SVC\n",
    "from sklearn import metrics"
   ]
  },
  {
   "cell_type": "code",
   "execution_count": 11,
   "metadata": {},
   "outputs": [
    {
     "name": "stdout",
     "output_type": "stream",
     "text": [
      "Accuracy Score:\n",
      "0.914375\n"
     ]
    }
   ],
   "source": [
    "#default linear\n",
    "svc=SVC(kernel='linear')\n",
    "svc.fit(X_train,y_train)\n",
    "y_pred=svc.predict(X_val)\n",
    "print('Accuracy Score:')\n",
    "print(metrics.accuracy_score(y_val,y_pred))"
   ]
  },
  {
   "cell_type": "code",
   "execution_count": 12,
   "metadata": {},
   "outputs": [
    {
     "name": "stdout",
     "output_type": "stream",
     "text": [
      "Accuracy Score:\n",
      "0.900625\n"
     ]
    }
   ],
   "source": [
    "#default RBF kernel\n",
    "svc=SVC(kernel='rbf')\n",
    "svc.fit(X_train,y_train)\n",
    "y_pred=svc.predict(X_val)\n",
    "print('Accuracy Score:')\n",
    "print(metrics.accuracy_score(y_val,y_pred))"
   ]
  },
  {
   "cell_type": "code",
   "execution_count": 13,
   "metadata": {},
   "outputs": [
    {
     "name": "stdout",
     "output_type": "stream",
     "text": [
      "Accuracy Score:\n",
      "0.899375\n"
     ]
    }
   ],
   "source": [
    "#default polynomial kernel\n",
    "svc=SVC(kernel='poly')\n",
    "svc.fit(X_train,y_train)\n",
    "y_pred=svc.predict(X_val)\n",
    "print('Accuracy Score:')\n",
    "print(metrics.accuracy_score(y_val,y_pred))"
   ]
  },
  {
   "cell_type": "markdown",
   "metadata": {},
   "source": [
    "## Hypterparameter Tuning"
   ]
  },
  {
   "cell_type": "markdown",
   "metadata": {},
   "source": [
    "### 1. Hyperparameter C Tuning (Linear Kernel)"
   ]
  },
  {
   "cell_type": "code",
   "execution_count": 15,
   "metadata": {},
   "outputs": [],
   "source": [
    "# 시간이 너무 오래 걸려 cross validation을 사용하지 않고 validation set을 통해 accuracy를 측정하였습니다."
   ]
  },
  {
   "cell_type": "code",
   "execution_count": 14,
   "metadata": {},
   "outputs": [
    {
     "name": "stdout",
     "output_type": "stream",
     "text": [
      "C: 1 Accuracy: 0.914375\n",
      "C: 2 Accuracy: 0.914375\n",
      "C: 3 Accuracy: 0.914375\n",
      "C: 4 Accuracy: 0.914375\n",
      "C: 5 Accuracy: 0.91375\n",
      "C: 6 Accuracy: 0.914375\n",
      "C: 7 Accuracy: 0.914375\n",
      "C: 8 Accuracy: 0.914375\n",
      "C: 9 Accuracy: 0.914375\n",
      "C: 10 Accuracy: 0.91375\n",
      "C: 11 Accuracy: 0.914375\n",
      "C: 12 Accuracy: 0.914375\n",
      "C: 13 Accuracy: 0.914375\n",
      "C: 14 Accuracy: 0.914375\n",
      "C: 15 Accuracy: 0.914375\n"
     ]
    }
   ],
   "source": [
    "C_range=list(range(1,16))\n",
    "acc_score = []\n",
    "for c in C_range:\n",
    "    svc = SVC(kernel='linear', C=c)\n",
    "    svc.fit(X_train,y_train)\n",
    "    y_pred = svc.predict(X_val)\n",
    "    score = metrics.accuracy_score(y_val,y_pred)\n",
    "    print('C:',c,'Accuracy:',score)\n",
    "    acc_score.append(score)"
   ]
  },
  {
   "cell_type": "code",
   "execution_count": 15,
   "metadata": {},
   "outputs": [
    {
     "name": "stdout",
     "output_type": "stream",
     "text": [
      "0.9142916666666666\n"
     ]
    }
   ],
   "source": [
    "print(np.mean(acc_score))"
   ]
  },
  {
   "cell_type": "code",
   "execution_count": 16,
   "metadata": {},
   "outputs": [
    {
     "data": {
      "image/png": "[encoded data removed]",
      "text/plain": [
       "<Figure size 432x288 with 1 Axes>"
      ]
     },
     "metadata": {
      "needs_background": "light"
     },
     "output_type": "display_data"
    }
   ],
   "source": [
    "C_values=list(range(1,16))\n",
    "# plot the value of C for SVM (x-axis) versus the cross-validated accuracy (y-axis)\n",
    "plt.plot(C_values,acc_score)\n",
    "plt.xticks(np.arange(0,16,1))\n",
    "plt.xlabel('Value of C for SVC')\n",
    "plt.ylabel('Cross-Validated Accuracy')\n",
    "plt.show()"
   ]
  },
  {
   "cell_type": "code",
   "execution_count": 17,
   "metadata": {},
   "outputs": [],
   "source": [
    "# accuracy가 높은 부분을 중점적으로 다시 해보자"
   ]
  },
  {
   "cell_type": "code",
   "execution_count": 31,
   "metadata": {},
   "outputs": [
    {
     "name": "stdout",
     "output_type": "stream",
     "text": [
      "C: 0.2 Accuracy: 0.913125\n",
      "C: 0.4 Accuracy: 0.91375\n",
      "C: 0.6000000000000001 Accuracy: 0.913125\n",
      "C: 0.8 Accuracy: 0.914375\n",
      "C: 1.0 Accuracy: 0.914375\n",
      "C: 1.2 Accuracy: 0.914375\n",
      "C: 1.4000000000000001 Accuracy: 0.914375\n",
      "C: 1.6 Accuracy: 0.914375\n",
      "C: 1.8 Accuracy: 0.914375\n",
      "C: 2.0 Accuracy: 0.914375\n",
      "C: 2.2 Accuracy: 0.91375\n",
      "C: 2.4000000000000004 Accuracy: 0.914375\n",
      "C: 2.6000000000000005 Accuracy: 0.914375\n",
      "C: 2.8000000000000003 Accuracy: 0.914375\n",
      "C: 3.0000000000000004 Accuracy: 0.914375\n",
      "C: 3.2 Accuracy: 0.914375\n",
      "C: 3.4000000000000004 Accuracy: 0.914375\n",
      "C: 3.6000000000000005 Accuracy: 0.914375\n",
      "C: 3.8000000000000003 Accuracy: 0.914375\n",
      "C: 4.0 Accuracy: 0.914375\n",
      "C: 4.2 Accuracy: 0.914375\n",
      "C: 4.4 Accuracy: 0.914375\n",
      "C: 4.6000000000000005 Accuracy: 0.914375\n",
      "C: 4.800000000000001 Accuracy: 0.914375\n",
      "C: 6.0 Accuracy: 0.914375\n",
      "C: 6.2 Accuracy: 0.914375\n",
      "C: 6.4 Accuracy: 0.914375\n",
      "C: 6.6000000000000005 Accuracy: 0.914375\n",
      "C: 6.800000000000001 Accuracy: 0.914375\n",
      "C: 7.000000000000001 Accuracy: 0.914375\n",
      "C: 7.200000000000001 Accuracy: 0.914375\n",
      "C: 7.400000000000001 Accuracy: 0.914375\n",
      "C: 7.600000000000001 Accuracy: 0.914375\n",
      "C: 7.800000000000002 Accuracy: 0.91375\n",
      "C: 8.000000000000002 Accuracy: 0.914375\n",
      "C: 8.200000000000003 Accuracy: 0.914375\n",
      "C: 8.400000000000002 Accuracy: 0.914375\n",
      "C: 8.600000000000001 Accuracy: 0.914375\n",
      "C: 8.800000000000002 Accuracy: 0.914375\n",
      "C: 11.0 Accuracy: 0.914375\n",
      "C: 11.2 Accuracy: 0.914375\n",
      "C: 11.399999999999999 Accuracy: 0.914375\n",
      "C: 11.599999999999998 Accuracy: 0.914375\n",
      "C: 11.799999999999997 Accuracy: 0.914375\n",
      "C: 11.999999999999996 Accuracy: 0.914375\n",
      "C: 12.199999999999996 Accuracy: 0.914375\n",
      "C: 12.399999999999995 Accuracy: 0.914375\n",
      "C: 12.599999999999994 Accuracy: 0.914375\n",
      "C: 12.799999999999994 Accuracy: 0.914375\n",
      "C: 12.999999999999993 Accuracy: 0.914375\n",
      "C: 13.199999999999992 Accuracy: 0.914375\n",
      "C: 13.399999999999991 Accuracy: 0.914375\n",
      "C: 13.59999999999999 Accuracy: 0.914375\n",
      "C: 13.79999999999999 Accuracy: 0.914375\n",
      "C: 13.99999999999999 Accuracy: 0.914375\n",
      "C: 14.199999999999989 Accuracy: 0.914375\n",
      "C: 14.399999999999988 Accuracy: 0.914375\n",
      "C: 14.599999999999987 Accuracy: 0.914375\n",
      "C: 14.799999999999986 Accuracy: 0.914375\n"
     ]
    }
   ],
   "source": [
    "C_range=list(np.arange(0.2,5,0.2))\n",
    "C_range.extend(np.arange(6,9,0.2))\n",
    "C_range.extend(np.arange(11,15,0.2))\n",
    "\n",
    "acc_score=[]\n",
    "for c in C_range:\n",
    "    svc = SVC(kernel='linear', C=c)\n",
    "    svc.fit(X_train,y_train)\n",
    "    y_pred = svc.predict(X_val)\n",
    "    score = metrics.accuracy_score(y_val,y_pred)\n",
    "    print('C:',c, 'Accuracy:',score)\n",
    "    acc_score.append(score)"
   ]
  },
  {
   "cell_type": "code",
   "execution_count": null,
   "metadata": {},
   "outputs": [],
   "source": [
    "C_range=list(np.arange(0.2,5,0.2))\n",
    "C_range.extend(np.arange(6,9,0.2))\n",
    "C_range.extend(np.arange(11,15,0.2))\n",
    "# plot the value of C for SVM (x-axis) versus the cross-validated accuracy (y-axis)\n",
    "plt.plot(C_range,acc_score)\n",
    "plt.xticks(np.arange(0,17,0.5))\n",
    "plt.xlabel('Value of C for SVC ')\n",
    "plt.ylabel('Cross-Validated Accuracy')\n",
    "plt.show()"
   ]
  },
  {
   "cell_type": "markdown",
   "metadata": {},
   "source": [
    "### 2. Hyperparameter C Tuning (RBF Kernel)"
   ]
  },
  {
   "cell_type": "code",
   "execution_count": 24,
   "metadata": {},
   "outputs": [
    {
     "name": "stdout",
     "output_type": "stream",
     "text": [
      "C: 1 Accuracy: 0.900625\n",
      "C: 2 Accuracy: 0.9125\n",
      "C: 3 Accuracy: 0.915\n",
      "C: 4 Accuracy: 0.915\n",
      "C: 5 Accuracy: 0.914375\n",
      "C: 6 Accuracy: 0.914375\n",
      "C: 7 Accuracy: 0.914375\n",
      "C: 8 Accuracy: 0.914375\n",
      "C: 9 Accuracy: 0.914375\n",
      "C: 10 Accuracy: 0.914375\n",
      "C: 11 Accuracy: 0.914375\n",
      "C: 12 Accuracy: 0.914375\n",
      "C: 13 Accuracy: 0.914375\n",
      "C: 14 Accuracy: 0.914375\n",
      "C: 15 Accuracy: 0.914375\n"
     ]
    }
   ],
   "source": [
    "C_range=list(range(1,16))\n",
    "acc_score = []\n",
    "for c in C_range:\n",
    "    svc = SVC(kernel='rbf', C=c)\n",
    "    svc.fit(X_train,y_train)\n",
    "    y_pred = svc.predict(X_val)\n",
    "    score = metrics.accuracy_score(y_val,y_pred)\n",
    "    print('C:',c,'Accuracy:',score)\n",
    "    acc_score.append(score)"
   ]
  },
  {
   "cell_type": "code",
   "execution_count": 25,
   "metadata": {},
   "outputs": [
    {
     "name": "stdout",
     "output_type": "stream",
     "text": [
      "0.9134166666666665\n"
     ]
    }
   ],
   "source": [
    "print(np.mean(acc_score))"
   ]
  },
  {
   "cell_type": "code",
   "execution_count": 26,
   "metadata": {},
   "outputs": [
    {
     "data": {
      "image/png": "[encoded data removed]",
      "text/plain": [
       "<Figure size 432x288 with 1 Axes>"
      ]
     },
     "metadata": {
      "needs_background": "light"
     },
     "output_type": "display_data"
    }
   ],
   "source": [
    "C_values=list(range(1,16))\n",
    "# plot the value of C for SVM (x-axis) versus the cross-validated accuracy (y-axis)\n",
    "plt.plot(C_values,acc_score)\n",
    "plt.xticks(np.arange(0,16,1))\n",
    "plt.xlabel('Value of C for SVC')\n",
    "plt.ylabel('Cross-Validated Accuracy')\n",
    "plt.show()"
   ]
  },
  {
   "cell_type": "code",
   "execution_count": 27,
   "metadata": {},
   "outputs": [
    {
     "name": "stdout",
     "output_type": "stream",
     "text": [
      "C: 2.0 Accuracy: 0.9125\n",
      "C: 2.1 Accuracy: 0.913125\n",
      "C: 2.2 Accuracy: 0.914375\n",
      "C: 2.3000000000000003 Accuracy: 0.914375\n",
      "C: 2.4000000000000004 Accuracy: 0.914375\n",
      "C: 2.5000000000000004 Accuracy: 0.914375\n",
      "C: 2.6000000000000005 Accuracy: 0.914375\n",
      "C: 2.7000000000000006 Accuracy: 0.914375\n",
      "C: 2.8000000000000007 Accuracy: 0.914375\n",
      "C: 2.900000000000001 Accuracy: 0.915\n",
      "C: 3.000000000000001 Accuracy: 0.915\n",
      "C: 3.100000000000001 Accuracy: 0.914375\n",
      "C: 3.200000000000001 Accuracy: 0.915\n",
      "C: 3.300000000000001 Accuracy: 0.915\n",
      "C: 3.4000000000000012 Accuracy: 0.915\n",
      "C: 3.5000000000000013 Accuracy: 0.914375\n",
      "C: 3.6000000000000014 Accuracy: 0.914375\n",
      "C: 3.7000000000000015 Accuracy: 0.914375\n",
      "C: 3.8000000000000016 Accuracy: 0.914375\n",
      "C: 3.9000000000000017 Accuracy: 0.914375\n",
      "C: 4.000000000000002 Accuracy: 0.915\n",
      "C: 4.100000000000001 Accuracy: 0.915\n",
      "C: 4.200000000000002 Accuracy: 0.915\n",
      "C: 4.3000000000000025 Accuracy: 0.915\n",
      "C: 4.400000000000002 Accuracy: 0.915\n",
      "C: 4.500000000000002 Accuracy: 0.914375\n",
      "C: 4.600000000000002 Accuracy: 0.914375\n",
      "C: 4.700000000000003 Accuracy: 0.914375\n",
      "C: 4.8000000000000025 Accuracy: 0.914375\n",
      "C: 4.900000000000002 Accuracy: 0.914375\n"
     ]
    }
   ],
   "source": [
    "C_range=list(np.arange(2,5,0.1))\n",
    "acc_score=[]\n",
    "for c in C_range:\n",
    "    svc = SVC(kernel='rbf', C=c)\n",
    "    svc.fit(X_train,y_train)\n",
    "    y_pred = svc.predict(X_val)\n",
    "    score = metrics.accuracy_score(y_val,y_pred)\n",
    "    print('C:',c, 'Accuracy:',score)\n",
    "    acc_score.append(score)"
   ]
  },
  {
   "cell_type": "code",
   "execution_count": 30,
   "metadata": {},
   "outputs": [
    {
     "data": {
      "image/png": "[encoded data removed]",
      "text/plain": [
       "<Figure size 432x288 with 1 Axes>"
      ]
     },
     "metadata": {
      "needs_background": "light"
     },
     "output_type": "display_data"
    }
   ],
   "source": [
    "C_values=list(np.arange(2,5,0.1))\n",
    "# plot the value of C for SVM (x-axis) versus the cross-validated accuracy (y-axis)\n",
    "plt.plot(C_values,acc_score)\n",
    "plt.xticks(np.arange(1,5,0.2))\n",
    "plt.xlabel('Value of C for SVC')\n",
    "plt.ylabel('Cross-Validated Accuracy')\n",
    "plt.show()"
   ]
  },
  {
   "cell_type": "markdown",
   "metadata": {},
   "source": [
    "### 3. Hyperparameter Gamma Tuning (RBF Kernel)"
   ]
  },
  {
   "cell_type": "code",
   "execution_count": 18,
   "metadata": {},
   "outputs": [
    {
     "name": "stdout",
     "output_type": "stream",
     "text": [
      "Gamma: 0.0001 Accuracy: 0.899375\n",
      "Gamma: 0.001 Accuracy: 0.899375\n",
      "Gamma: 0.01 Accuracy: 0.9\n",
      "Gamma: 0.1 Accuracy: 0.899375\n",
      "Gamma: 1 Accuracy: 0.899375\n",
      "Gamma: 10 Accuracy: 0.899375\n",
      "Gamma: 100 Accuracy: 0.899375\n"
     ]
    }
   ],
   "source": [
    "#RBF kernel의 하이퍼파라미터 C, gamma중 gamma만 해보자\n",
    "gamma_range=[0.0001,0.001,0.01,0.1,1,10,100]\n",
    "acc_score=[]\n",
    "for g in gamma_range:\n",
    "    svc = SVC(kernel='rbf', gamma=g)\n",
    "    svc.fit(X_train,y_train)\n",
    "    y_pred = svc.predict(X_val)\n",
    "    score = metrics.accuracy_score(y_val,y_pred)\n",
    "    print('Gamma:',g, 'Accuracy:',score)\n",
    "    acc_score.append(score)"
   ]
  },
  {
   "cell_type": "code",
   "execution_count": 19,
   "metadata": {},
   "outputs": [
    {
     "data": {
      "image/png": "[encoded data removed]",
      "text/plain": [
       "<Figure size 432x288 with 1 Axes>"
      ]
     },
     "metadata": {
      "needs_background": "light"
     },
     "output_type": "display_data"
    }
   ],
   "source": [
    "gamma_range=[0.0001,0.001,0.01,0.1,1,10,100]\n",
    "\n",
    "# plot the value of C for SVM (x-axis) versus the cross-validated accuracy (y-axis)\n",
    "plt.plot(gamma_range,acc_score)\n",
    "plt.xlabel('Value of gamma for SVC ')\n",
    "plt.xticks(np.arange(0.0001,100,5))\n",
    "plt.ylabel('Cross-Validated Accuracy')\n",
    "plt.show()"
   ]
  },
  {
   "cell_type": "code",
   "execution_count": 20,
   "metadata": {},
   "outputs": [
    {
     "data": {
      "text/plain": [
       "0.01"
      ]
     },
     "execution_count": 20,
     "metadata": {},
     "output_type": "execute_result"
    }
   ],
   "source": [
    "#accuracy가 가장 높은 gamma는 0.01\n",
    "gamma_range[np.argmax(acc_score)]"
   ]
  },
  {
   "cell_type": "code",
   "execution_count": 21,
   "metadata": {},
   "outputs": [
    {
     "name": "stdout",
     "output_type": "stream",
     "text": [
      "Gamma: 0.005 Accuracy: 0.900625\n",
      "Gamma: 0.01 Accuracy: 0.9\n",
      "Gamma: 0.015 Accuracy: 0.899375\n",
      "Gamma: 0.02 Accuracy: 0.899375\n",
      "Gamma: 0.025 Accuracy: 0.899375\n",
      "Gamma: 0.03 Accuracy: 0.899375\n",
      "Gamma: 0.035 Accuracy: 0.899375\n",
      "Gamma: 0.04 Accuracy: 0.899375\n",
      "Gamma: 0.045 Accuracy: 0.899375\n",
      "Gamma: 0.05 Accuracy: 0.899375\n"
     ]
    }
   ],
   "source": [
    "#gammma 0.01을 주위로 더 자세하게 해보자\n",
    "gamma_range=[0.005,0.01,0.015,0.02,0.025,0.03,0.035,0.04,0.045,0.05]\n",
    "acc_score=[]\n",
    "for g in gamma_range:\n",
    "    svc = SVC(kernel='rbf', gamma=g)\n",
    "    svc.fit(X_train,y_train)\n",
    "    y_pred = svc.predict(X_val)\n",
    "    score = metrics.accuracy_score(y_val,y_pred)\n",
    "    print('Gamma:',g, 'Accuracy:',score)\n",
    "    acc_score.append(score)"
   ]
  },
  {
   "cell_type": "code",
   "execution_count": 22,
   "metadata": {},
   "outputs": [
    {
     "data": {
      "image/png": "[encoded data removed]",
      "text/plain": [
       "<Figure size 432x288 with 1 Axes>"
      ]
     },
     "metadata": {
      "needs_background": "light"
     },
     "output_type": "display_data"
    }
   ],
   "source": [
    "gamma_range=[0.005,0.01,0.015,0.02,0.025,0.03,0.035,0.04,0.045,0.05]\n",
    "\n",
    "# plot the value of C for SVM (x-axis) versus the cross-validated accuracy (y-axis)\n",
    "plt.plot(gamma_range,acc_score)\n",
    "plt.xlabel('Value of gamma for SVC ')\n",
    "plt.ylabel('Cross-Validated Accuracy')\n",
    "plt.show()"
   ]
  },
  {
   "cell_type": "code",
   "execution_count": 23,
   "metadata": {},
   "outputs": [],
   "source": [
    "# 0.005부근에 accuracy가 높다."
   ]
  },
  {
   "cell_type": "markdown",
   "metadata": {},
   "source": [
    "## 3. Grid Search"
   ]
  },
  {
   "cell_type": "code",
   "execution_count": 33,
   "metadata": {},
   "outputs": [],
   "source": [
    "from sklearn.svm import SVC\n",
    "svm_model= SVC()"
   ]
  },
  {
   "cell_type": "code",
   "execution_count": 34,
   "metadata": {},
   "outputs": [],
   "source": [
    "C_range=list(np.arange(0.8,5,0.2))\n",
    "C_range.extend(np.arange(6,9,0.2))\n",
    "C_range.extend(np.arange(11,15,0.2))\n",
    "\n",
    "C_range2=list(np.arange(2.9,3.5,0.1))\n",
    "C_range2.extend(np.arange(4,4.5,0.1))\n",
    "\n",
    "tuned_parameters = {\n",
    " 'C': C_range , 'kernel': ['linear'],\n",
    " 'C': C_range2 , 'gamma': (np.arange(0.001,0.015,0.001)), 'kernel': ['rbf']\n",
    "                   }"
   ]
  },
  {
   "cell_type": "code",
   "execution_count": 35,
   "metadata": {},
   "outputs": [],
   "source": [
    "from sklearn.model_selection import GridSearchCV\n",
    "\n",
    "model_svm = GridSearchCV(svm_model, tuned_parameters, cv=3, scoring='accuracy')"
   ]
  },
  {
   "cell_type": "code",
   "execution_count": 36,
   "metadata": {},
   "outputs": [
    {
     "name": "stdout",
     "output_type": "stream",
     "text": [
      "0.90640625\n"
     ]
    }
   ],
   "source": [
    "model_svm.fit(X_train, y_train)\n",
    "print(model_svm.best_score_)"
   ]
  },
  {
   "cell_type": "code",
   "execution_count": 37,
   "metadata": {},
   "outputs": [
    {
     "name": "stdout",
     "output_type": "stream",
     "text": [
      "{'C': 4.0, 'gamma': 0.003, 'kernel': 'rbf'}\n"
     ]
    }
   ],
   "source": [
    "print(model_svm.best_params_)"
   ]
  },
  {
   "cell_type": "markdown",
   "metadata": {},
   "source": [
    "## Final Model"
   ]
  },
  {
   "cell_type": "code",
   "execution_count": 38,
   "metadata": {},
   "outputs": [
    {
     "name": "stdout",
     "output_type": "stream",
     "text": [
      "Accuracy Score:\n",
      "0.897\n"
     ]
    }
   ],
   "source": [
    "from sklearn.svm import SVC\n",
    "svc= SVC(C=4, gamma=0.003, kernel='rbf')\n",
    "svc.fit(X_train,y_train)\n",
    "y_pred=svc.predict(X_test)\n",
    "print('Accuracy Score:')\n",
    "print(metrics.accuracy_score(y_test,y_pred))"
   ]
  }
 ],
 "metadata": {
  "kernelspec": {
   "display_name": "Python 3",
   "language": "python",
   "name": "python3"
  },
  "language_info": {
   "codemirror_mode": {
    "name": "ipython",
    "version": 3
   },
   "file_extension": ".py",
   "mimetype": "text/x-python",
   "name": "python",
   "nbconvert_exporter": "python",
   "pygments_lexer": "ipython3",
   "version": "3.7.3"
  }
 },
 "nbformat": 4,
 "nbformat_minor": 2
}
