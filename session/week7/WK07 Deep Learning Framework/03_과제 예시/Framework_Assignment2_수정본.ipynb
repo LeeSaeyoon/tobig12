{
 "cells": [
  {
   "cell_type": "code",
   "execution_count": 1,
   "metadata": {},
   "outputs": [],
   "source": [
    "from load_cifar_10 import *\n",
    "import numpy as np"
   ]
  },
  {
   "cell_type": "code",
   "execution_count": 2,
   "metadata": {},
   "outputs": [],
   "source": [
    "# Load Data\n",
    "cifar_10_dir = 'cifar-10-batches-py'\n",
    "\n",
    "train_data, train_filenames, train_labels, test_data, test_filenames, test_labels, label_names = \\\n",
    "load_cifar_10_data(cifar_10_dir)\n",
    "\n",
    "def Processing_data(train, test):\n",
    "    #change dtype\n",
    "    train = np.array(train, dtype=np.float64)\n",
    "    test = np.array(test, dtype=np.float64)\n",
    "    \n",
    "    #Reshaping\n",
    "    train = np.reshape(train, (train.shape[0], -1))\n",
    "    test = np.reshape(test, (test.shape[0], -1))\n",
    "    \n",
    "    #Normalizing\n",
    "    mean_image = np.mean(train, axis = 0)\n",
    "    \n",
    "    #print(train.dtype)\n",
    "    train -= mean_image\n",
    "    test -= mean_image\n",
    "    \n",
    "    return train, test"
   ]
  },
  {
   "cell_type": "code",
   "execution_count": 3,
   "metadata": {},
   "outputs": [],
   "source": [
    "train_data, test_data = Processing_data(train_data, test_data)"
   ]
  },
  {
   "cell_type": "code",
   "execution_count": 4,
   "metadata": {},
   "outputs": [
    {
     "name": "stdout",
     "output_type": "stream",
     "text": [
      "(50000, 3072)\n",
      "(50000,)\n",
      "(10000, 3072)\n",
      "(10000,)\n"
     ]
    }
   ],
   "source": [
    "print(train_data.shape)\n",
    "print(train_labels.shape)\n",
    "print(test_data.shape)\n",
    "print(test_labels.shape)"
   ]
  },
  {
   "cell_type": "code",
   "execution_count": 5,
   "metadata": {},
   "outputs": [],
   "source": [
    "# train, test 각각 5000, 1000개만 뽑기\n",
    "train_data = train_data[:5000]\n",
    "train_labels = train_labels[:5000]\n",
    "test_data = test_data[:1000]\n",
    "test_labels = test_labels[:1000]"
   ]
  },
  {
   "cell_type": "code",
   "execution_count": 6,
   "metadata": {},
   "outputs": [],
   "source": [
    "# Hyperparameters\n",
    "input_size = 32 * 32 * 3\n",
    "hidden_size = 50\n",
    "output_size = 10\n",
    "epoch_size = 1500\n",
    "batch_size = 128\n",
    "learning_rate = 5e-6\n",
    "N = train_data.shape[0]\n",
    "M = test_data.shape[0] # 새롭게 추가"
   ]
  },
  {
   "cell_type": "code",
   "execution_count": 7,
   "metadata": {},
   "outputs": [],
   "source": [
    "import torch\n",
    "import torch.nn as nn\n",
    "import torch.nn.functional as F"
   ]
  },
  {
   "cell_type": "markdown",
   "metadata": {},
   "source": [
    "## 1. General Model"
   ]
  },
  {
   "cell_type": "code",
   "execution_count": 8,
   "metadata": {},
   "outputs": [
    {
     "name": "stdout",
     "output_type": "stream",
     "text": [
      "Net(\n",
      "  (fc1): Linear(in_features=3072, out_features=50, bias=True)\n",
      "  (fc2): Linear(in_features=50, out_features=10, bias=True)\n",
      ")\n"
     ]
    }
   ],
   "source": [
    "####################\n",
    "### General Model \n",
    "###################\n",
    "class Net(nn.Module):\n",
    "    def __init__(self):\n",
    "        super(Net, self).__init__()\n",
    "        # an affine operation : y = Wx + b\n",
    "        self.fc1 = nn.Linear(input_size, hidden_size) # input, output\n",
    "        self.fc2 = nn.Linear(hidden_size, output_size)\n",
    "    \n",
    "    def forward(self, x):\n",
    "        x = x.view(-1, self.num_flat_features(x))\n",
    "        x = F.relu(self.fc1(x))\n",
    "        x = self.fc2(x)\n",
    "        return x\n",
    "    \n",
    "    def num_flat_features(self, x):\n",
    "        size = x.size()[1:]\n",
    "        num_features = 1\n",
    "        for s in size:\n",
    "            num_features *= s\n",
    "        return num_features\n",
    "\n",
    "net = Net()\n",
    "print(net)"
   ]
  },
  {
   "cell_type": "code",
   "execution_count": 9,
   "metadata": {},
   "outputs": [],
   "source": [
    "import torch.optim as optim\n",
    "criterion = nn.CrossEntropyLoss()\n",
    "optimizer = optim.SGD(net.parameters(), lr=learning_rate)"
   ]
  },
  {
   "cell_type": "code",
   "execution_count": 10,
   "metadata": {},
   "outputs": [
    {
     "name": "stderr",
     "output_type": "stream",
     "text": [
      "  7%|█████▎                                                                          | 99/1500 [01:39<21:46,  1.07it/s]"
     ]
    },
    {
     "name": "stdout",
     "output_type": "stream",
     "text": [
      "[100] loss: 151.219 acc: 36.038 \n",
      "Accuracy of the network on the 50000 train images: 36 %\n",
      "[100] loss: 42.043 acc: 29.353 \n",
      "Accuracy of the network on the 10000 test images: 29 %\n"
     ]
    },
    {
     "name": "stderr",
     "output_type": "stream",
     "text": [
      " 13%|██████████▍                                                                    | 199/1500 [03:15<19:50,  1.09it/s]"
     ]
    },
    {
     "name": "stdout",
     "output_type": "stream",
     "text": [
      "[200] loss: 91.323 acc: 47.636 \n",
      "Accuracy of the network on the 50000 train images: 47 %\n",
      "[200] loss: 37.750 acc: 27.567 \n",
      "Accuracy of the network on the 10000 test images: 27 %\n"
     ]
    },
    {
     "name": "stderr",
     "output_type": "stream",
     "text": [
      " 20%|███████████████▋                                                               | 299/1500 [04:50<18:15,  1.10it/s]"
     ]
    },
    {
     "name": "stdout",
     "output_type": "stream",
     "text": [
      "[300] loss: 67.873 acc: 56.010 \n",
      "Accuracy of the network on the 50000 train images: 56 %\n",
      "[300] loss: 34.947 acc: 29.576 \n",
      "Accuracy of the network on the 10000 test images: 29 %\n"
     ]
    },
    {
     "name": "stderr",
     "output_type": "stream",
     "text": [
      " 27%|█████████████████████                                                          | 399/1500 [06:26<16:47,  1.09it/s]"
     ]
    },
    {
     "name": "stdout",
     "output_type": "stream",
     "text": [
      "[400] loss: 52.024 acc: 63.702 \n",
      "Accuracy of the network on the 50000 train images: 63 %\n",
      "[400] loss: 33.277 acc: 27.790 \n",
      "Accuracy of the network on the 10000 test images: 27 %\n"
     ]
    },
    {
     "name": "stderr",
     "output_type": "stream",
     "text": [
      " 33%|██████████████████████████▎                                                    | 499/1500 [08:04<15:05,  1.11it/s]"
     ]
    },
    {
     "name": "stdout",
     "output_type": "stream",
     "text": [
      "[500] loss: 42.110 acc: 69.111 \n",
      "Accuracy of the network on the 50000 train images: 69 %\n",
      "[500] loss: 32.568 acc: 29.018 \n",
      "Accuracy of the network on the 10000 test images: 29 %\n"
     ]
    },
    {
     "name": "stderr",
     "output_type": "stream",
     "text": [
      " 40%|███████████████████████████████▌                                               | 599/1500 [09:44<13:36,  1.10it/s]"
     ]
    },
    {
     "name": "stdout",
     "output_type": "stream",
     "text": [
      "[600] loss: 34.872 acc: 75.321 \n",
      "Accuracy of the network on the 50000 train images: 75 %\n",
      "[600] loss: 32.178 acc: 29.576 \n",
      "Accuracy of the network on the 10000 test images: 29 %\n"
     ]
    },
    {
     "name": "stderr",
     "output_type": "stream",
     "text": [
      " 47%|████████████████████████████████████▊                                          | 699/1500 [11:21<12:04,  1.10it/s]"
     ]
    },
    {
     "name": "stdout",
     "output_type": "stream",
     "text": [
      "[700] loss: 29.383 acc: 78.926 \n",
      "Accuracy of the network on the 50000 train images: 78 %\n",
      "[700] loss: 32.276 acc: 28.795 \n",
      "Accuracy of the network on the 10000 test images: 28 %\n"
     ]
    },
    {
     "name": "stderr",
     "output_type": "stream",
     "text": [
      " 53%|██████████████████████████████████████████                                     | 799/1500 [12:58<10:55,  1.07it/s]"
     ]
    },
    {
     "name": "stdout",
     "output_type": "stream",
     "text": [
      "[800] loss: 25.598 acc: 82.853 \n",
      "Accuracy of the network on the 50000 train images: 82 %\n",
      "[800] loss: 33.781 acc: 28.348 \n",
      "Accuracy of the network on the 10000 test images: 28 %\n"
     ]
    },
    {
     "name": "stderr",
     "output_type": "stream",
     "text": [
      " 60%|███████████████████████████████████████████████▎                               | 899/1500 [14:31<09:11,  1.09it/s]"
     ]
    },
    {
     "name": "stdout",
     "output_type": "stream",
     "text": [
      "[900] loss: 21.625 acc: 85.437 \n",
      "Accuracy of the network on the 50000 train images: 85 %\n",
      "[900] loss: 32.547 acc: 28.571 \n",
      "Accuracy of the network on the 10000 test images: 28 %\n"
     ]
    },
    {
     "name": "stderr",
     "output_type": "stream",
     "text": [
      " 67%|████████████████████████████████████████████████████▌                          | 999/1500 [16:03<08:18,  1.00it/s]"
     ]
    },
    {
     "name": "stdout",
     "output_type": "stream",
     "text": [
      "[1000] loss: 20.265 acc: 87.360 \n",
      "Accuracy of the network on the 50000 train images: 87 %\n",
      "[1000] loss: 29.195 acc: 33.705 \n",
      "Accuracy of the network on the 10000 test images: 33 %\n"
     ]
    },
    {
     "name": "stderr",
     "output_type": "stream",
     "text": [
      " 73%|█████████████████████████████████████████████████████████▏                    | 1099/1500 [17:38<06:13,  1.07it/s]"
     ]
    },
    {
     "name": "stdout",
     "output_type": "stream",
     "text": [
      "[1100] loss: 17.474 acc: 90.044 \n",
      "Accuracy of the network on the 50000 train images: 90 %\n",
      "[1100] loss: 30.048 acc: 31.920 \n",
      "Accuracy of the network on the 10000 test images: 31 %\n"
     ]
    },
    {
     "name": "stderr",
     "output_type": "stream",
     "text": [
      " 80%|██████████████████████████████████████████████████████████████▎               | 1199/1500 [19:11<04:36,  1.09it/s]"
     ]
    },
    {
     "name": "stdout",
     "output_type": "stream",
     "text": [
      "[1200] loss: 15.154 acc: 91.687 \n",
      "Accuracy of the network on the 50000 train images: 91 %\n",
      "[1200] loss: 31.900 acc: 30.357 \n",
      "Accuracy of the network on the 10000 test images: 30 %\n"
     ]
    },
    {
     "name": "stderr",
     "output_type": "stream",
     "text": [
      " 87%|███████████████████████████████████████████████████████████████████▌          | 1299/1500 [20:42<03:02,  1.10it/s]"
     ]
    },
    {
     "name": "stdout",
     "output_type": "stream",
     "text": [
      "[1300] loss: 14.021 acc: 93.269 \n",
      "Accuracy of the network on the 50000 train images: 93 %\n",
      "[1300] loss: 31.755 acc: 30.692 \n",
      "Accuracy of the network on the 10000 test images: 30 %\n"
     ]
    },
    {
     "name": "stderr",
     "output_type": "stream",
     "text": [
      " 93%|████████████████████████████████████████████████████████████████████████▋     | 1399/1500 [22:14<01:33,  1.09it/s]"
     ]
    },
    {
     "name": "stdout",
     "output_type": "stream",
     "text": [
      "[1400] loss: 12.980 acc: 93.790 \n",
      "Accuracy of the network on the 50000 train images: 93 %\n",
      "[1400] loss: 31.072 acc: 29.688 \n",
      "Accuracy of the network on the 10000 test images: 29 %\n"
     ]
    },
    {
     "name": "stderr",
     "output_type": "stream",
     "text": [
      "100%|█████████████████████████████████████████████████████████████████████████████▉| 1499/1500 [23:47<00:00,  1.08it/s]"
     ]
    },
    {
     "name": "stdout",
     "output_type": "stream",
     "text": [
      "[1500] loss: 10.731 acc: 95.893 \n",
      "Accuracy of the network on the 50000 train images: 95 %\n",
      "[1500] loss: 31.682 acc: 33.147 \n",
      "Accuracy of the network on the 10000 test images: 33 %\n"
     ]
    },
    {
     "name": "stderr",
     "output_type": "stream",
     "text": [
      "100%|██████████████████████████████████████████████████████████████████████████████| 1500/1500 [23:48<00:00,  1.07it/s]\n"
     ]
    },
    {
     "name": "stdout",
     "output_type": "stream",
     "text": [
      "\n"
     ]
    }
   ],
   "source": [
    "from tqdm import tqdm\n",
    "history = {'val_acc': [],'val_loss': [], 'train_acc':[], 'train_loss':[]} #기록해서 그림 그리자!\n",
    "\n",
    "# TRAIN\n",
    "# epoch size만큼 iteration\n",
    "for i in tqdm(range(epoch_size)):\n",
    "    correct = 0\n",
    "    total = 0\n",
    "    running_loss = 0\n",
    "    ### 수정\n",
    "    net.train()\n",
    "    for j in range(N//batch_size):\n",
    "        batch_mask = np.random.choice(N, batch_size) #이번 배치에서 쓸 데이터들 인덱스 추출\n",
    "        x_batch = torch.FloatTensor(train_data[batch_mask])\n",
    "        t_batch = torch.LongTensor(train_labels[batch_mask])\n",
    "        \n",
    "        # Gradient buffer를 0으로 초기화\n",
    "        optimizer.zero_grad()\n",
    "        \n",
    "        # Forward\n",
    "        outputs = net(x_batch)\n",
    "        # Backward\n",
    "        loss = criterion(outputs, t_batch)\n",
    "        loss.backward()\n",
    "        # Update the weights\n",
    "        optimizer.step()\n",
    "        \n",
    "        # Statistics\n",
    "        _, predicted = torch.max(outputs.data, 1)\n",
    "        total += t_batch.size(0)\n",
    "        correct += (predicted == t_batch).sum().item()\n",
    "        running_loss += loss.item()\n",
    "        \n",
    "    acc = 100*correct/total    \n",
    "    history['train_loss'].append(running_loss / 5000)\n",
    "    history['train_acc'].append(acc)\n",
    "    \n",
    "    if i % 100 == 99: # print every 100 epochs \n",
    "\n",
    "        print('[%d] loss: %.3f acc: %.3f ' %\n",
    "              (i + 1, running_loss, acc))\n",
    "        print('Accuracy of the network on the 50000 train images: %d %%' %  acc)\n",
    "        running_loss = 0.0\n",
    "\n",
    "    # TEST\n",
    "    correct = 0\n",
    "    total = 0\n",
    "    val_loss = 0\n",
    "    ### 수정\n",
    "    net.eval()\n",
    "    with torch.no_grad():\n",
    "        for k in range(M//batch_size):\n",
    "            batch_mask = np.random.choice(M, batch_size) #이번 배치에서 쓸 데이터들 인덱스 추출\n",
    "            x_batch = torch.FloatTensor(test_data[batch_mask])\n",
    "            t_batch = torch.LongTensor(test_labels[batch_mask])\n",
    "            \n",
    "             # Forward\n",
    "            outputs = net(x_batch)\n",
    "\n",
    "            # loss\n",
    "            loss = criterion(outputs, t_batch)\n",
    "                        \n",
    "            # Statistics\n",
    "            _, predicted = torch.max(outputs.data, 1)\n",
    "            total += t_batch.size(0)\n",
    "            correct += (predicted == t_batch).sum().item()\n",
    "            val_loss += loss.item()\n",
    "        \n",
    "        #accuracy와 loss를 기록해둡시다.\n",
    "        acc = 100*correct/total\n",
    "        history[\"val_acc\"].append(acc)\n",
    "        history[\"val_loss\"].append(val_loss / 1000)\n",
    "    \n",
    "        if i % 100 == 99: # print every 100 epochs\n",
    "            print('[%d] loss: %.3f acc: %.3f ' %\n",
    "                  (i + 1, val_loss, acc))\n",
    "            print('Accuracy of the network on the 10000 test images: %d %%' % acc)\n",
    "            val_loss = 0.0\n",
    "            \n",
    "print(\"\")"
   ]
  },
  {
   "cell_type": "code",
   "execution_count": 11,
   "metadata": {},
   "outputs": [
    {
     "data": {
      "image/png": "[encoded data removed]",
      "text/plain": [
       "<Figure size 432x288 with 2 Axes>"
      ]
     },
     "metadata": {
      "needs_background": "light"
     },
     "output_type": "display_data"
    }
   ],
   "source": [
    "fig = plt.figure()\n",
    "ax_acc = fig.add_subplot(111)\n",
    "\n",
    "ax_acc.plot(range(epoch_size), history['val_acc'], label='정확도(%)', color='darkred')\n",
    "plt.xlabel('epochs')\n",
    "plt.ylabel('Validation Accuracy(%)')\n",
    "ax_acc.grid(linestyle='--', color='lavender')\n",
    "ax_loss = ax_acc.twinx()\n",
    "ax_loss.plot(range(epoch_size), history['val_loss'], label='오차', color='darkblue')\n",
    "plt.ylabel('Validation Error')\n",
    "ax_loss.yaxis.tick_right()\n",
    "ax_loss.grid(linestyle='--', color='lavender')\n",
    "\n",
    "# 그래프 표시\n",
    "plt.show()"
   ]
  },
  {
   "cell_type": "code",
   "execution_count": 12,
   "metadata": {},
   "outputs": [
    {
     "name": "stdout",
     "output_type": "stream",
     "text": [
      "Test accuracy: 33.15%\n",
      "Test loss: 0.03\n"
     ]
    }
   ],
   "source": [
    "print('Test accuracy: %.2f%%' % history['val_acc'][-1])\n",
    "print('Test loss: %.2f' % history['val_loss'][-1])"
   ]
  },
  {
   "cell_type": "markdown",
   "metadata": {},
   "source": [
    "## 2. Batch Norm Model"
   ]
  },
  {
   "cell_type": "code",
   "execution_count": 13,
   "metadata": {},
   "outputs": [
    {
     "name": "stdout",
     "output_type": "stream",
     "text": [
      "Net(\n",
      "  (fc1): Linear(\n",
      "    in_features=3072, out_features=50, bias=True\n",
      "    (bn): BatchNorm1d(50, eps=1e-05, momentum=0.1, affine=True, track_running_stats=True)\n",
      "  )\n",
      "  (fc2): Linear(in_features=50, out_features=10, bias=True)\n",
      ")\n"
     ]
    }
   ],
   "source": [
    "################################\n",
    "### Batch Normalization Model \n",
    "################################\n",
    "\n",
    "class Net(nn.Module):\n",
    "    def __init__(self):\n",
    "        super(Net, self).__init__()\n",
    "        # an affine operation : y = Wx + b\n",
    "        ### Hidden layer\n",
    "        self.fc1 = nn.Linear(input_size, hidden_size) \n",
    "        self.fc1.bn = nn.BatchNorm1d(hidden_size) # Batch Normalization\n",
    " \n",
    "        ### Output layer\n",
    "        self.fc2 = nn.Linear(hidden_size, output_size)\n",
    "        \n",
    "    def forward(self, x):\n",
    "        x = x.view(-1, self.num_flat_features(x))\n",
    "        x = self.fc1(x)\n",
    "        x = self.fc1.bn(x) # Batch Normalization\n",
    "        x = F.relu(x)\n",
    "        \n",
    "        x = self.fc2(x)\n",
    "        return x\n",
    "    \n",
    "    def num_flat_features(self, x):\n",
    "        size = x.size()[1:]\n",
    "        num_features = 1\n",
    "        for s in size:\n",
    "            num_features *= s\n",
    "        return num_features\n",
    "\n",
    "net = Net()\n",
    "print(net)"
   ]
  },
  {
   "cell_type": "code",
   "execution_count": 14,
   "metadata": {},
   "outputs": [],
   "source": [
    "import torch.optim as optim\n",
    "criterion = nn.CrossEntropyLoss()\n",
    "optimizer = optim.SGD(net.parameters(), lr=learning_rate)"
   ]
  },
  {
   "cell_type": "code",
   "execution_count": 15,
   "metadata": {},
   "outputs": [
    {
     "name": "stderr",
     "output_type": "stream",
     "text": [
      "  7%|█████▎                                                                          | 99/1500 [01:40<24:36,  1.05s/it]"
     ]
    },
    {
     "name": "stdout",
     "output_type": "stream",
     "text": [
      "[100] loss: 89.052 acc: 14.583 \n",
      "Accuracy of the network on the 50000 train images: 14 %\n",
      "[100] loss: 16.011 acc: 13.281 \n",
      "Accuracy of the network on the 10000 test images: 13 %\n"
     ]
    },
    {
     "name": "stderr",
     "output_type": "stream",
     "text": [
      " 13%|██████████▍                                                                    | 199/1500 [03:36<21:31,  1.01it/s]"
     ]
    },
    {
     "name": "stdout",
     "output_type": "stream",
     "text": [
      "[200] loss: 88.297 acc: 16.847 \n",
      "Accuracy of the network on the 50000 train images: 16 %\n",
      "[200] loss: 15.907 acc: 18.192 \n",
      "Accuracy of the network on the 10000 test images: 18 %\n"
     ]
    },
    {
     "name": "stderr",
     "output_type": "stream",
     "text": [
      " 20%|███████████████▋                                                               | 299/1500 [05:33<19:51,  1.01it/s]"
     ]
    },
    {
     "name": "stdout",
     "output_type": "stream",
     "text": [
      "[300] loss: 87.736 acc: 18.490 \n",
      "Accuracy of the network on the 50000 train images: 18 %\n",
      "[300] loss: 15.746 acc: 16.518 \n",
      "Accuracy of the network on the 10000 test images: 16 %\n"
     ]
    },
    {
     "name": "stderr",
     "output_type": "stream",
     "text": [
      " 27%|█████████████████████                                                          | 399/1500 [07:14<18:10,  1.01it/s]"
     ]
    },
    {
     "name": "stdout",
     "output_type": "stream",
     "text": [
      "[400] loss: 87.271 acc: 18.109 \n",
      "Accuracy of the network on the 50000 train images: 18 %\n",
      "[400] loss: 15.714 acc: 17.746 \n",
      "Accuracy of the network on the 10000 test images: 17 %\n"
     ]
    },
    {
     "name": "stderr",
     "output_type": "stream",
     "text": [
      " 33%|██████████████████████████▎                                                    | 499/1500 [08:53<16:21,  1.02it/s]"
     ]
    },
    {
     "name": "stdout",
     "output_type": "stream",
     "text": [
      "[500] loss: 86.877 acc: 19.772 \n",
      "Accuracy of the network on the 50000 train images: 19 %\n",
      "[500] loss: 15.654 acc: 16.518 \n",
      "Accuracy of the network on the 10000 test images: 16 %\n"
     ]
    },
    {
     "name": "stderr",
     "output_type": "stream",
     "text": [
      " 40%|███████████████████████████████▌                                               | 599/1500 [10:41<14:59,  1.00it/s]"
     ]
    },
    {
     "name": "stdout",
     "output_type": "stream",
     "text": [
      "[600] loss: 86.572 acc: 20.813 \n",
      "Accuracy of the network on the 50000 train images: 20 %\n",
      "[600] loss: 15.664 acc: 18.304 \n",
      "Accuracy of the network on the 10000 test images: 18 %\n"
     ]
    },
    {
     "name": "stderr",
     "output_type": "stream",
     "text": [
      " 47%|████████████████████████████████████▊                                          | 699/1500 [12:29<13:16,  1.01it/s]"
     ]
    },
    {
     "name": "stdout",
     "output_type": "stream",
     "text": [
      "[700] loss: 86.522 acc: 20.773 \n",
      "Accuracy of the network on the 50000 train images: 20 %\n",
      "[700] loss: 15.546 acc: 16.853 \n",
      "Accuracy of the network on the 10000 test images: 16 %\n"
     ]
    },
    {
     "name": "stderr",
     "output_type": "stream",
     "text": [
      " 53%|██████████████████████████████████████████                                     | 799/1500 [14:38<13:20,  1.14s/it]"
     ]
    },
    {
     "name": "stdout",
     "output_type": "stream",
     "text": [
      "[800] loss: 86.161 acc: 20.974 \n",
      "Accuracy of the network on the 50000 train images: 20 %\n",
      "[800] loss: 15.552 acc: 17.076 \n",
      "Accuracy of the network on the 10000 test images: 17 %\n"
     ]
    },
    {
     "name": "stderr",
     "output_type": "stream",
     "text": [
      " 60%|███████████████████████████████████████████████▎                               | 899/1500 [16:27<10:14,  1.02s/it]"
     ]
    },
    {
     "name": "stdout",
     "output_type": "stream",
     "text": [
      "[900] loss: 85.878 acc: 21.735 \n",
      "Accuracy of the network on the 50000 train images: 21 %\n",
      "[900] loss: 15.599 acc: 15.737 \n",
      "Accuracy of the network on the 10000 test images: 15 %\n"
     ]
    },
    {
     "name": "stderr",
     "output_type": "stream",
     "text": [
      " 67%|████████████████████████████████████████████████████▌                          | 999/1500 [18:14<08:33,  1.03s/it]"
     ]
    },
    {
     "name": "stdout",
     "output_type": "stream",
     "text": [
      "[1000] loss: 85.614 acc: 22.676 \n",
      "Accuracy of the network on the 50000 train images: 22 %\n",
      "[1000] loss: 15.450 acc: 18.304 \n",
      "Accuracy of the network on the 10000 test images: 18 %\n"
     ]
    },
    {
     "name": "stderr",
     "output_type": "stream",
     "text": [
      " 73%|█████████████████████████████████████████████████████████▏                    | 1099/1500 [20:01<07:02,  1.05s/it]"
     ]
    },
    {
     "name": "stdout",
     "output_type": "stream",
     "text": [
      "[1100] loss: 85.397 acc: 22.756 \n",
      "Accuracy of the network on the 50000 train images: 22 %\n",
      "[1100] loss: 15.330 acc: 23.103 \n",
      "Accuracy of the network on the 10000 test images: 23 %\n"
     ]
    },
    {
     "name": "stderr",
     "output_type": "stream",
     "text": [
      " 80%|██████████████████████████████████████████████████████████████▎               | 1199/1500 [21:53<05:08,  1.03s/it]"
     ]
    },
    {
     "name": "stdout",
     "output_type": "stream",
     "text": [
      "[1200] loss: 85.066 acc: 23.738 \n",
      "Accuracy of the network on the 50000 train images: 23 %\n",
      "[1200] loss: 15.407 acc: 20.424 \n",
      "Accuracy of the network on the 10000 test images: 20 %\n"
     ]
    },
    {
     "name": "stderr",
     "output_type": "stream",
     "text": [
      " 87%|███████████████████████████████████████████████████████████████████▌          | 1299/1500 [23:46<03:31,  1.05s/it]"
     ]
    },
    {
     "name": "stdout",
     "output_type": "stream",
     "text": [
      "[1300] loss: 84.600 acc: 25.100 \n",
      "Accuracy of the network on the 50000 train images: 25 %\n",
      "[1300] loss: 15.266 acc: 21.875 \n",
      "Accuracy of the network on the 10000 test images: 21 %\n"
     ]
    },
    {
     "name": "stderr",
     "output_type": "stream",
     "text": [
      " 93%|████████████████████████████████████████████████████████████████████████▋     | 1399/1500 [25:33<01:43,  1.03s/it]"
     ]
    },
    {
     "name": "stdout",
     "output_type": "stream",
     "text": [
      "[1400] loss: 84.888 acc: 23.938 \n",
      "Accuracy of the network on the 50000 train images: 23 %\n",
      "[1400] loss: 15.310 acc: 20.424 \n",
      "Accuracy of the network on the 10000 test images: 20 %\n"
     ]
    },
    {
     "name": "stderr",
     "output_type": "stream",
     "text": [
      "100%|█████████████████████████████████████████████████████████████████████████████▉| 1499/1500 [27:42<00:01,  1.07s/it]"
     ]
    },
    {
     "name": "stdout",
     "output_type": "stream",
     "text": [
      "[1500] loss: 84.577 acc: 24.299 \n",
      "Accuracy of the network on the 50000 train images: 24 %\n",
      "[1500] loss: 15.361 acc: 17.411 \n",
      "Accuracy of the network on the 10000 test images: 17 %\n"
     ]
    },
    {
     "name": "stderr",
     "output_type": "stream",
     "text": [
      "100%|██████████████████████████████████████████████████████████████████████████████| 1500/1500 [27:43<00:00,  1.08s/it]\n"
     ]
    },
    {
     "name": "stdout",
     "output_type": "stream",
     "text": [
      "\n"
     ]
    }
   ],
   "source": [
    "from tqdm import tqdm\n",
    "history = {'val_acc': [],'val_loss': [], 'train_acc':[], 'train_loss':[]} #기록해서 그림 그리자!\n",
    "\n",
    "# TRAIN\n",
    "# epoch size만큼 iteration\n",
    "for i in tqdm(range(epoch_size)):\n",
    "    correct = 0\n",
    "    total = 0\n",
    "    running_loss = 0\n",
    "    ### 수정\n",
    "    net.train()\n",
    "    for j in range(N//batch_size):\n",
    "        batch_mask = np.random.choice(N, batch_size) #이번 배치에서 쓸 데이터들 인덱스 추출\n",
    "        x_batch = torch.FloatTensor(train_data[batch_mask])\n",
    "        t_batch = torch.LongTensor(train_labels[batch_mask])\n",
    "        \n",
    "        # Gradient buffer를 0으로 초기화\n",
    "        optimizer.zero_grad()\n",
    "        \n",
    "        # Forward\n",
    "        outputs = net(x_batch)\n",
    "        # Backward\n",
    "        loss = criterion(outputs, t_batch)\n",
    "        loss.backward()\n",
    "        # Update the weights\n",
    "        optimizer.step()\n",
    "        \n",
    "        # Statistics\n",
    "        _, predicted = torch.max(outputs.data, 1)\n",
    "        total += t_batch.size(0)\n",
    "        correct += (predicted == t_batch).sum().item()\n",
    "        running_loss += loss.item()\n",
    "        \n",
    "    acc = 100*correct/total    \n",
    "    history['train_loss'].append(running_loss / 5000)\n",
    "    history['train_acc'].append(acc)\n",
    "    \n",
    "    if i % 100 == 99: # print every 100 epochs \n",
    "\n",
    "        print('[%d] loss: %.3f acc: %.3f ' %\n",
    "              (i + 1, running_loss, acc))\n",
    "        print('Accuracy of the network on the 50000 train images: %d %%' %  acc)\n",
    "        running_loss = 0.0\n",
    "\n",
    "    # TEST\n",
    "    correct = 0\n",
    "    total = 0\n",
    "    val_loss = 0\n",
    "    ### 수정\n",
    "    net.eval()\n",
    "    with torch.no_grad():\n",
    "        for k in range(M//batch_size):\n",
    "            batch_mask = np.random.choice(M, batch_size) #이번 배치에서 쓸 데이터들 인덱스 추출\n",
    "            x_batch = torch.FloatTensor(test_data[batch_mask])\n",
    "            t_batch = torch.LongTensor(test_labels[batch_mask])\n",
    "            \n",
    "             # Forward\n",
    "            outputs = net(x_batch)\n",
    "\n",
    "            # loss\n",
    "            loss = criterion(outputs, t_batch)\n",
    "                        \n",
    "            # Statistics\n",
    "            _, predicted = torch.max(outputs.data, 1)\n",
    "            total += t_batch.size(0)\n",
    "            correct += (predicted == t_batch).sum().item()\n",
    "            val_loss += loss.item()\n",
    "        \n",
    "        #accuracy와 loss를 기록해둡시다.\n",
    "        acc = 100*correct/total\n",
    "        history[\"val_acc\"].append(acc)\n",
    "        history[\"val_loss\"].append(val_loss / 1000)\n",
    "    \n",
    "        if i % 100 == 99: # print every 100 epochs\n",
    "            print('[%d] loss: %.3f acc: %.3f ' %\n",
    "                  (i + 1, val_loss, acc))\n",
    "            print('Accuracy of the network on the 10000 test images: %d %%' % acc)\n",
    "            val_loss = 0.0\n",
    "            \n",
    "print(\"\")"
   ]
  },
  {
   "cell_type": "code",
   "execution_count": 16,
   "metadata": {},
   "outputs": [
    {
     "data": {
      "image/png": "[encoded data removed]",
      "text/plain": [
       "<Figure size 432x288 with 2 Axes>"
      ]
     },
     "metadata": {
      "needs_background": "light"
     },
     "output_type": "display_data"
    }
   ],
   "source": [
    "fig = plt.figure()\n",
    "ax_acc = fig.add_subplot(111)\n",
    "\n",
    "ax_acc.plot(range(epoch_size), history['val_acc'], label='정확도(%)', color='darkred')\n",
    "plt.xlabel('epochs')\n",
    "plt.ylabel('Validation Accuracy(%)')\n",
    "ax_acc.grid(linestyle='--', color='lavender')\n",
    "ax_loss = ax_acc.twinx()\n",
    "ax_loss.plot(range(epoch_size), history['val_loss'], label='오차', color='darkblue')\n",
    "plt.ylabel('Validation Error')\n",
    "ax_loss.yaxis.tick_right()\n",
    "ax_loss.grid(linestyle='--', color='lavender')\n",
    "\n",
    "# 그래프 표시\n",
    "plt.show()"
   ]
  },
  {
   "cell_type": "code",
   "execution_count": 17,
   "metadata": {},
   "outputs": [
    {
     "name": "stdout",
     "output_type": "stream",
     "text": [
      "Test accuracy: 17.41%\n",
      "Test loss: 0.02\n"
     ]
    }
   ],
   "source": [
    "print('Test accuracy: %.2f%%' % history['val_acc'][-1])\n",
    "print('Test loss: %.2f' % history['val_loss'][-1])"
   ]
  },
  {
   "cell_type": "markdown",
   "metadata": {},
   "source": [
    "## 2-1. Batch Norm Model\n",
    "#### - increased learning rate"
   ]
  },
  {
   "cell_type": "code",
   "execution_count": 24,
   "metadata": {},
   "outputs": [],
   "source": [
    "# Hyperparameters\n",
    "input_size = 32 * 32 * 3\n",
    "hidden_size = 50\n",
    "output_size = 10\n",
    "epoch_size = 1500\n",
    "batch_size = 128\n",
    "learning_rate = 1e-4 ### 수정\n",
    "N = train_data.shape[0]\n",
    "M = test_data.shape[0] # 새롭게 추가"
   ]
  },
  {
   "cell_type": "code",
   "execution_count": 25,
   "metadata": {},
   "outputs": [
    {
     "name": "stdout",
     "output_type": "stream",
     "text": [
      "Net(\n",
      "  (fc1): Linear(\n",
      "    in_features=3072, out_features=50, bias=True\n",
      "    (bn): BatchNorm1d(50, eps=1e-05, momentum=0.1, affine=True, track_running_stats=True)\n",
      "  )\n",
      "  (fc2): Linear(in_features=50, out_features=10, bias=True)\n",
      ")\n"
     ]
    }
   ],
   "source": [
    "################################\n",
    "### Batch Normalization Model \n",
    "################################\n",
    "\n",
    "class Net(nn.Module):\n",
    "    def __init__(self):\n",
    "        super(Net, self).__init__()\n",
    "        # an affine operation : y = Wx + b\n",
    "        ### Hidden layer\n",
    "        self.fc1 = nn.Linear(input_size, hidden_size) \n",
    "        self.fc1.bn = nn.BatchNorm1d(hidden_size) # Batch Normalization\n",
    " \n",
    "        ### Output layer\n",
    "        self.fc2 = nn.Linear(hidden_size, output_size)\n",
    "        \n",
    "    def forward(self, x):\n",
    "        x = x.view(-1, self.num_flat_features(x))\n",
    "        x = self.fc1(x)\n",
    "        x = self.fc1.bn(x) # Batch Normalization\n",
    "        x = F.relu(x)\n",
    "        \n",
    "        x = self.fc2(x)\n",
    "        return x\n",
    "    \n",
    "    def num_flat_features(self, x):\n",
    "        size = x.size()[1:]\n",
    "        num_features = 1\n",
    "        for s in size:\n",
    "            num_features *= s\n",
    "        return num_features\n",
    "\n",
    "net = Net()\n",
    "print(net)"
   ]
  },
  {
   "cell_type": "code",
   "execution_count": 26,
   "metadata": {},
   "outputs": [],
   "source": [
    "import torch.optim as optim\n",
    "criterion = nn.CrossEntropyLoss()\n",
    "optimizer = optim.SGD(net.parameters(), lr=learning_rate)"
   ]
  },
  {
   "cell_type": "code",
   "execution_count": 27,
   "metadata": {},
   "outputs": [
    {
     "name": "stderr",
     "output_type": "stream",
     "text": [
      "  7%|█▉                           | 99/1500 [01:47<25:47,  1.10s/it]"
     ]
    },
    {
     "name": "stdout",
     "output_type": "stream",
     "text": [
      "[100] loss: 83.462 acc: 27.384 \n",
      "Accuracy of the network on the 50000 train images: 27 %\n",
      "[100] loss: 15.037 acc: 27.232 \n",
      "Accuracy of the network on the 10000 test images: 27 %\n"
     ]
    },
    {
     "name": "stderr",
     "output_type": "stream",
     "text": [
      " 13%|███▋                        | 199/1500 [03:36<23:52,  1.10s/it]"
     ]
    },
    {
     "name": "stdout",
     "output_type": "stream",
     "text": [
      "[200] loss: 80.950 acc: 33.794 \n",
      "Accuracy of the network on the 50000 train images: 33 %\n",
      "[200] loss: 14.726 acc: 30.580 \n",
      "Accuracy of the network on the 10000 test images: 30 %\n"
     ]
    },
    {
     "name": "stderr",
     "output_type": "stream",
     "text": [
      " 20%|█████▌                      | 299/1500 [05:25<21:15,  1.06s/it]"
     ]
    },
    {
     "name": "stdout",
     "output_type": "stream",
     "text": [
      "[300] loss: 79.065 acc: 36.639 \n",
      "Accuracy of the network on the 50000 train images: 36 %\n",
      "[300] loss: 14.422 acc: 32.366 \n",
      "Accuracy of the network on the 10000 test images: 32 %\n"
     ]
    },
    {
     "name": "stderr",
     "output_type": "stream",
     "text": [
      " 27%|███████▍                    | 399/1500 [07:16<20:06,  1.10s/it]"
     ]
    },
    {
     "name": "stdout",
     "output_type": "stream",
     "text": [
      "[400] loss: 77.633 acc: 37.079 \n",
      "Accuracy of the network on the 50000 train images: 37 %\n",
      "[400] loss: 14.206 acc: 34.375 \n",
      "Accuracy of the network on the 10000 test images: 34 %\n"
     ]
    },
    {
     "name": "stderr",
     "output_type": "stream",
     "text": [
      " 33%|█████████▎                  | 499/1500 [09:06<18:10,  1.09s/it]"
     ]
    },
    {
     "name": "stdout",
     "output_type": "stream",
     "text": [
      "[500] loss: 75.841 acc: 41.006 \n",
      "Accuracy of the network on the 50000 train images: 41 %\n",
      "[500] loss: 13.941 acc: 35.826 \n",
      "Accuracy of the network on the 10000 test images: 35 %\n"
     ]
    },
    {
     "name": "stderr",
     "output_type": "stream",
     "text": [
      " 40%|███████████▏                | 599/1500 [10:56<16:05,  1.07s/it]"
     ]
    },
    {
     "name": "stdout",
     "output_type": "stream",
     "text": [
      "[600] loss: 74.657 acc: 41.787 \n",
      "Accuracy of the network on the 50000 train images: 41 %\n",
      "[600] loss: 13.716 acc: 35.156 \n",
      "Accuracy of the network on the 10000 test images: 35 %\n"
     ]
    },
    {
     "name": "stderr",
     "output_type": "stream",
     "text": [
      " 47%|█████████████               | 699/1500 [12:44<14:24,  1.08s/it]"
     ]
    },
    {
     "name": "stdout",
     "output_type": "stream",
     "text": [
      "[700] loss: 73.264 acc: 43.029 \n",
      "Accuracy of the network on the 50000 train images: 43 %\n",
      "[700] loss: 13.599 acc: 36.719 \n",
      "Accuracy of the network on the 10000 test images: 36 %\n"
     ]
    },
    {
     "name": "stderr",
     "output_type": "stream",
     "text": [
      " 53%|██████████████▉             | 799/1500 [14:31<12:36,  1.08s/it]"
     ]
    },
    {
     "name": "stdout",
     "output_type": "stream",
     "text": [
      "[800] loss: 71.905 acc: 43.930 \n",
      "Accuracy of the network on the 50000 train images: 43 %\n",
      "[800] loss: 13.611 acc: 34.598 \n",
      "Accuracy of the network on the 10000 test images: 34 %\n"
     ]
    },
    {
     "name": "stderr",
     "output_type": "stream",
     "text": [
      " 60%|████████████████▊           | 899/1500 [16:21<10:44,  1.07s/it]"
     ]
    },
    {
     "name": "stdout",
     "output_type": "stream",
     "text": [
      "[900] loss: 70.864 acc: 45.172 \n",
      "Accuracy of the network on the 50000 train images: 45 %\n",
      "[900] loss: 13.460 acc: 35.826 \n",
      "Accuracy of the network on the 10000 test images: 35 %\n"
     ]
    },
    {
     "name": "stderr",
     "output_type": "stream",
     "text": [
      " 67%|██████████████████▋         | 999/1500 [18:11<09:08,  1.10s/it]"
     ]
    },
    {
     "name": "stdout",
     "output_type": "stream",
     "text": [
      "[1000] loss: 69.703 acc: 46.635 \n",
      "Accuracy of the network on the 50000 train images: 46 %\n",
      "[1000] loss: 13.411 acc: 31.808 \n",
      "Accuracy of the network on the 10000 test images: 31 %\n"
     ]
    },
    {
     "name": "stderr",
     "output_type": "stream",
     "text": [
      " 73%|███████████████████▊       | 1099/1500 [20:01<07:49,  1.17s/it]"
     ]
    },
    {
     "name": "stdout",
     "output_type": "stream",
     "text": [
      "[1100] loss: 68.324 acc: 47.716 \n",
      "Accuracy of the network on the 50000 train images: 47 %\n",
      "[1100] loss: 13.284 acc: 34.710 \n",
      "Accuracy of the network on the 10000 test images: 34 %\n"
     ]
    },
    {
     "name": "stderr",
     "output_type": "stream",
     "text": [
      " 80%|█████████████████████▌     | 1199/1500 [21:50<05:23,  1.08s/it]"
     ]
    },
    {
     "name": "stdout",
     "output_type": "stream",
     "text": [
      "[1200] loss: 66.948 acc: 49.519 \n",
      "Accuracy of the network on the 50000 train images: 49 %\n",
      "[1200] loss: 13.186 acc: 34.933 \n",
      "Accuracy of the network on the 10000 test images: 34 %\n"
     ]
    },
    {
     "name": "stderr",
     "output_type": "stream",
     "text": [
      " 87%|███████████████████████▍   | 1299/1500 [23:39<03:44,  1.12s/it]"
     ]
    },
    {
     "name": "stdout",
     "output_type": "stream",
     "text": [
      "[1300] loss: 65.897 acc: 50.120 \n",
      "Accuracy of the network on the 50000 train images: 50 %\n",
      "[1300] loss: 12.991 acc: 37.165 \n",
      "Accuracy of the network on the 10000 test images: 37 %\n"
     ]
    },
    {
     "name": "stderr",
     "output_type": "stream",
     "text": [
      " 93%|█████████████████████████▏ | 1399/1500 [25:30<01:51,  1.10s/it]"
     ]
    },
    {
     "name": "stdout",
     "output_type": "stream",
     "text": [
      "[1400] loss: 64.988 acc: 51.402 \n",
      "Accuracy of the network on the 50000 train images: 51 %\n",
      "[1400] loss: 12.779 acc: 35.045 \n",
      "Accuracy of the network on the 10000 test images: 35 %\n"
     ]
    },
    {
     "name": "stderr",
     "output_type": "stream",
     "text": [
      "100%|██████████████████████████▉| 1499/1500 [27:19<00:01,  1.09s/it]"
     ]
    },
    {
     "name": "stdout",
     "output_type": "stream",
     "text": [
      "[1500] loss: 62.857 acc: 54.046 \n",
      "Accuracy of the network on the 50000 train images: 54 %\n",
      "[1500] loss: 12.887 acc: 37.165 \n",
      "Accuracy of the network on the 10000 test images: 37 %\n"
     ]
    },
    {
     "name": "stderr",
     "output_type": "stream",
     "text": [
      "100%|███████████████████████████| 1500/1500 [27:20<00:00,  1.11s/it]\n"
     ]
    },
    {
     "name": "stdout",
     "output_type": "stream",
     "text": [
      "\n"
     ]
    }
   ],
   "source": [
    "from tqdm import tqdm\n",
    "history = {'val_acc': [],'val_loss': [], 'train_acc':[], 'train_loss':[]} #기록해서 그림 그리자!\n",
    "\n",
    "# TRAIN\n",
    "# epoch size만큼 iteration\n",
    "for i in tqdm(range(epoch_size)):\n",
    "    correct = 0\n",
    "    total = 0\n",
    "    running_loss = 0\n",
    "    ### 수정\n",
    "    net.train()\n",
    "    for j in range(N//batch_size):\n",
    "        batch_mask = np.random.choice(N, batch_size) #이번 배치에서 쓸 데이터들 인덱스 추출\n",
    "        x_batch = torch.FloatTensor(train_data[batch_mask])\n",
    "        t_batch = torch.LongTensor(train_labels[batch_mask])\n",
    "        \n",
    "        # Gradient buffer를 0으로 초기화\n",
    "        optimizer.zero_grad()\n",
    "        \n",
    "        # Forward\n",
    "        outputs = net(x_batch)\n",
    "        # Backward\n",
    "        loss = criterion(outputs, t_batch)\n",
    "        loss.backward()\n",
    "        # Update the weights\n",
    "        optimizer.step()\n",
    "        \n",
    "        # Statistics\n",
    "        _, predicted = torch.max(outputs.data, 1)\n",
    "        total += t_batch.size(0)\n",
    "        correct += (predicted == t_batch).sum().item()\n",
    "        running_loss += loss.item()\n",
    "        \n",
    "    acc = 100*correct/total    \n",
    "    history['train_loss'].append(running_loss / 5000)\n",
    "    history['train_acc'].append(acc)\n",
    "    \n",
    "    if i % 100 == 99: # print every 100 epochs \n",
    "\n",
    "        print('[%d] loss: %.3f acc: %.3f ' %\n",
    "              (i + 1, running_loss, acc))\n",
    "        print('Accuracy of the network on the 50000 train images: %d %%' %  acc)\n",
    "        running_loss = 0.0\n",
    "\n",
    "    # TEST\n",
    "    correct = 0\n",
    "    total = 0\n",
    "    val_loss = 0\n",
    "    ### 수정\n",
    "    net.eval()\n",
    "    with torch.no_grad():\n",
    "        for k in range(M//batch_size):\n",
    "            batch_mask = np.random.choice(M, batch_size) #이번 배치에서 쓸 데이터들 인덱스 추출\n",
    "            x_batch = torch.FloatTensor(test_data[batch_mask])\n",
    "            t_batch = torch.LongTensor(test_labels[batch_mask])\n",
    "            \n",
    "             # Forward\n",
    "            outputs = net(x_batch)\n",
    "\n",
    "            # loss\n",
    "            loss = criterion(outputs, t_batch)\n",
    "                        \n",
    "            # Statistics\n",
    "            _, predicted = torch.max(outputs.data, 1)\n",
    "            total += t_batch.size(0)\n",
    "            correct += (predicted == t_batch).sum().item()\n",
    "            val_loss += loss.item()\n",
    "        \n",
    "        #accuracy와 loss를 기록해둡시다.\n",
    "        acc = 100*correct/total\n",
    "        history[\"val_acc\"].append(acc)\n",
    "        history[\"val_loss\"].append(val_loss / 1000)\n",
    "    \n",
    "        if i % 100 == 99: # print every 100 epochs\n",
    "            print('[%d] loss: %.3f acc: %.3f ' %\n",
    "                  (i + 1, val_loss, acc))\n",
    "            print('Accuracy of the network on the 10000 test images: %d %%' % acc)\n",
    "            val_loss = 0.0\n",
    "            \n",
    "print(\"\")"
   ]
  },
  {
   "cell_type": "code",
   "execution_count": 28,
   "metadata": {},
   "outputs": [
    {
     "data": {
      "image/png": "[encoded data removed]",
      "text/plain": [
       "<Figure size 432x288 with 2 Axes>"
      ]
     },
     "metadata": {
      "needs_background": "light"
     },
     "output_type": "display_data"
    }
   ],
   "source": [
    "fig = plt.figure()\n",
    "ax_acc = fig.add_subplot(111)\n",
    "\n",
    "ax_acc.plot(range(epoch_size), history['val_acc'], label='정확도(%)', color='darkred')\n",
    "plt.xlabel('epochs')\n",
    "plt.ylabel('Validation Accuracy(%)')\n",
    "ax_acc.grid(linestyle='--', color='lavender')\n",
    "ax_loss = ax_acc.twinx()\n",
    "ax_loss.plot(range(epoch_size), history['val_loss'], label='오차', color='darkblue')\n",
    "plt.ylabel('Validation Error')\n",
    "ax_loss.yaxis.tick_right()\n",
    "ax_loss.grid(linestyle='--', color='lavender')\n",
    "\n",
    "# 그래프 표시\n",
    "plt.show()"
   ]
  },
  {
   "cell_type": "code",
   "execution_count": 29,
   "metadata": {},
   "outputs": [
    {
     "name": "stdout",
     "output_type": "stream",
     "text": [
      "Test accuracy: 37.17%\n",
      "Test loss: 0.01\n"
     ]
    }
   ],
   "source": [
    "print('Test accuracy: %.2f%%' % history['val_acc'][-1])\n",
    "print('Test loss: %.2f' % history['val_loss'][-1])\n",
    "# 위에서 learning rate를 일반 모델과 같게 했을 때에는 overfitting은 없어졌지만 오히려 underfitting되어 성능이 많이 떨어졌다.\n",
    "# 그러나 learning rate를 증가시켰을 때 성능이 올랐음을 알 수 있다."
   ]
  },
  {
   "cell_type": "markdown",
   "metadata": {},
   "source": [
    "## 3. Dropout Model"
   ]
  },
  {
   "cell_type": "code",
   "execution_count": 36,
   "metadata": {},
   "outputs": [],
   "source": [
    "# Hyperparameters\n",
    "dropout_prob = 0.5 # Dropout\n",
    "input_size = 32 * 32 * 3\n",
    "hidden_size = 50\n",
    "output_size = 10\n",
    "epoch_size = 1500\n",
    "batch_size = 128\n",
    "learning_rate = 5e-6\n",
    "N = train_data.shape[0]\n",
    "M = test_data.shape[0] # 새롭게 추가"
   ]
  },
  {
   "cell_type": "code",
   "execution_count": 37,
   "metadata": {},
   "outputs": [
    {
     "name": "stdout",
     "output_type": "stream",
     "text": [
      "Net(\n",
      "  (fc1): Linear(in_features=3072, out_features=50, bias=True)\n",
      "  (fc2): Linear(in_features=50, out_features=10, bias=True)\n",
      ")\n"
     ]
    }
   ],
   "source": [
    "#####################\n",
    "### Dropout Model \n",
    "#####################\n",
    "\n",
    "class Net(nn.Module):\n",
    "    def __init__(self):\n",
    "        super(Net, self).__init__()\n",
    "        # an affine operation : y = Wx + b\n",
    "        ### Hidden layer\n",
    "        self.fc1 = nn.Linear(input_size, hidden_size) \n",
    "\n",
    "        ### Output layer\n",
    "        self.fc2 = nn.Linear(hidden_size, output_size)\n",
    " \n",
    "    def forward(self, x):\n",
    "        x = x.view(-1, self.num_flat_features(x))\n",
    "        x = self.fc1(x)\n",
    "        x = F.relu(x)\n",
    "        x = F.dropout(x, p=dropout_prob, training=self.training) # drop out\n",
    "        \n",
    "        x = self.fc2(x)\n",
    "        return x\n",
    "    \n",
    "    def num_flat_features(self, x):\n",
    "        size = x.size()[1:]\n",
    "        num_features = 1\n",
    "        for s in size:\n",
    "            num_features *= s\n",
    "        return num_features\n",
    "\n",
    "net = Net()\n",
    "print(net)"
   ]
  },
  {
   "cell_type": "code",
   "execution_count": 38,
   "metadata": {},
   "outputs": [],
   "source": [
    "import torch.optim as optim\n",
    "criterion = nn.CrossEntropyLoss()\n",
    "optimizer = optim.SGD(net.parameters(), lr=learning_rate)"
   ]
  },
  {
   "cell_type": "code",
   "execution_count": 39,
   "metadata": {},
   "outputs": [
    {
     "name": "stderr",
     "output_type": "stream",
     "text": [
      "  7%|█▉                           | 99/1500 [02:06<36:22,  1.56s/it]"
     ]
    },
    {
     "name": "stdout",
     "output_type": "stream",
     "text": [
      "[100] loss: 294.915 acc: 25.000 \n",
      "Accuracy of the network on the 50000 train images: 25 %\n",
      "[100] loss: 39.705 acc: 26.674 \n",
      "Accuracy of the network on the 10000 test images: 26 %\n"
     ]
    },
    {
     "name": "stderr",
     "output_type": "stream",
     "text": [
      " 13%|███▋                        | 199/1500 [04:36<32:40,  1.51s/it]"
     ]
    },
    {
     "name": "stdout",
     "output_type": "stream",
     "text": [
      "[200] loss: 210.675 acc: 29.167 \n",
      "Accuracy of the network on the 50000 train images: 29 %\n",
      "[200] loss: 33.984 acc: 27.232 \n",
      "Accuracy of the network on the 10000 test images: 27 %\n"
     ]
    },
    {
     "name": "stderr",
     "output_type": "stream",
     "text": [
      " 20%|█████▌                      | 299/1500 [07:04<35:14,  1.76s/it]"
     ]
    },
    {
     "name": "stdout",
     "output_type": "stream",
     "text": [
      "[300] loss: 172.758 acc: 31.470 \n",
      "Accuracy of the network on the 50000 train images: 31 %\n",
      "[300] loss: 31.498 acc: 28.906 \n",
      "Accuracy of the network on the 10000 test images: 28 %\n"
     ]
    },
    {
     "name": "stderr",
     "output_type": "stream",
     "text": [
      " 27%|███████▍                    | 399/1500 [09:47<25:27,  1.39s/it]"
     ]
    },
    {
     "name": "stdout",
     "output_type": "stream",
     "text": [
      "[400] loss: 140.812 acc: 34.655 \n",
      "Accuracy of the network on the 50000 train images: 34 %\n",
      "[400] loss: 28.309 acc: 25.893 \n",
      "Accuracy of the network on the 10000 test images: 25 %\n"
     ]
    },
    {
     "name": "stderr",
     "output_type": "stream",
     "text": [
      " 33%|█████████▎                  | 499/1500 [12:32<24:49,  1.49s/it]"
     ]
    },
    {
     "name": "stdout",
     "output_type": "stream",
     "text": [
      "[500] loss: 122.857 acc: 38.141 \n",
      "Accuracy of the network on the 50000 train images: 38 %\n",
      "[500] loss: 23.892 acc: 30.357 \n",
      "Accuracy of the network on the 10000 test images: 30 %\n"
     ]
    },
    {
     "name": "stderr",
     "output_type": "stream",
     "text": [
      " 40%|███████████▏                | 599/1500 [15:14<26:10,  1.74s/it]"
     ]
    },
    {
     "name": "stdout",
     "output_type": "stream",
     "text": [
      "[600] loss: 111.008 acc: 38.421 \n",
      "Accuracy of the network on the 50000 train images: 38 %\n",
      "[600] loss: 24.172 acc: 31.362 \n",
      "Accuracy of the network on the 10000 test images: 31 %\n"
     ]
    },
    {
     "name": "stderr",
     "output_type": "stream",
     "text": [
      " 47%|█████████████               | 699/1500 [18:05<22:26,  1.68s/it]"
     ]
    },
    {
     "name": "stdout",
     "output_type": "stream",
     "text": [
      "[700] loss: 100.280 acc: 41.126 \n",
      "Accuracy of the network on the 50000 train images: 41 %\n",
      "[700] loss: 24.646 acc: 29.911 \n",
      "Accuracy of the network on the 10000 test images: 29 %\n"
     ]
    },
    {
     "name": "stderr",
     "output_type": "stream",
     "text": [
      " 53%|██████████████▉             | 799/1500 [21:01<19:33,  1.67s/it]"
     ]
    },
    {
     "name": "stdout",
     "output_type": "stream",
     "text": [
      "[800] loss: 95.981 acc: 41.346 \n",
      "Accuracy of the network on the 50000 train images: 41 %\n",
      "[800] loss: 22.089 acc: 31.473 \n",
      "Accuracy of the network on the 10000 test images: 31 %\n"
     ]
    },
    {
     "name": "stderr",
     "output_type": "stream",
     "text": [
      " 60%|████████████████▊           | 899/1500 [24:02<18:51,  1.88s/it]"
     ]
    },
    {
     "name": "stdout",
     "output_type": "stream",
     "text": [
      "[900] loss: 84.331 acc: 43.129 \n",
      "Accuracy of the network on the 50000 train images: 43 %\n",
      "[900] loss: 22.436 acc: 29.576 \n",
      "Accuracy of the network on the 10000 test images: 29 %\n"
     ]
    },
    {
     "name": "stderr",
     "output_type": "stream",
     "text": [
      " 67%|██████████████████▋         | 999/1500 [26:57<15:43,  1.88s/it]"
     ]
    },
    {
     "name": "stdout",
     "output_type": "stream",
     "text": [
      "[1000] loss: 79.231 acc: 46.114 \n",
      "Accuracy of the network on the 50000 train images: 46 %\n",
      "[1000] loss: 23.172 acc: 28.683 \n",
      "Accuracy of the network on the 10000 test images: 28 %\n"
     ]
    },
    {
     "name": "stderr",
     "output_type": "stream",
     "text": [
      " 73%|███████████████████▊       | 1099/1500 [29:48<09:36,  1.44s/it]"
     ]
    },
    {
     "name": "stdout",
     "output_type": "stream",
     "text": [
      "[1100] loss: 74.196 acc: 47.416 \n",
      "Accuracy of the network on the 50000 train images: 47 %\n",
      "[1100] loss: 20.829 acc: 31.250 \n",
      "Accuracy of the network on the 10000 test images: 31 %\n"
     ]
    },
    {
     "name": "stderr",
     "output_type": "stream",
     "text": [
      " 80%|█████████████████████▌     | 1199/1500 [32:28<07:15,  1.45s/it]"
     ]
    },
    {
     "name": "stdout",
     "output_type": "stream",
     "text": [
      "[1200] loss: 72.569 acc: 47.576 \n",
      "Accuracy of the network on the 50000 train images: 47 %\n",
      "[1200] loss: 22.429 acc: 31.027 \n",
      "Accuracy of the network on the 10000 test images: 31 %\n"
     ]
    },
    {
     "name": "stderr",
     "output_type": "stream",
     "text": [
      " 87%|███████████████████████▍   | 1299/1500 [34:59<04:40,  1.39s/it]"
     ]
    },
    {
     "name": "stdout",
     "output_type": "stream",
     "text": [
      "[1300] loss: 69.280 acc: 49.018 \n",
      "Accuracy of the network on the 50000 train images: 49 %\n",
      "[1300] loss: 20.183 acc: 30.804 \n",
      "Accuracy of the network on the 10000 test images: 30 %\n"
     ]
    },
    {
     "name": "stderr",
     "output_type": "stream",
     "text": [
      " 93%|█████████████████████████▏ | 1399/1500 [37:21<02:15,  1.34s/it]"
     ]
    },
    {
     "name": "stdout",
     "output_type": "stream",
     "text": [
      "[1400] loss: 65.233 acc: 49.760 \n",
      "Accuracy of the network on the 50000 train images: 49 %\n",
      "[1400] loss: 19.630 acc: 30.357 \n",
      "Accuracy of the network on the 10000 test images: 30 %\n"
     ]
    },
    {
     "name": "stderr",
     "output_type": "stream",
     "text": [
      "100%|██████████████████████████▉| 1499/1500 [40:11<00:01,  1.57s/it]"
     ]
    },
    {
     "name": "stdout",
     "output_type": "stream",
     "text": [
      "[1500] loss: 59.768 acc: 52.344 \n",
      "Accuracy of the network on the 50000 train images: 52 %\n",
      "[1500] loss: 20.960 acc: 30.134 \n",
      "Accuracy of the network on the 10000 test images: 30 %\n"
     ]
    },
    {
     "name": "stderr",
     "output_type": "stream",
     "text": [
      "100%|███████████████████████████| 1500/1500 [40:13<00:00,  1.52s/it]\n"
     ]
    },
    {
     "name": "stdout",
     "output_type": "stream",
     "text": [
      "\n"
     ]
    }
   ],
   "source": [
    "from tqdm import tqdm\n",
    "history = {'val_acc': [],'val_loss': [], 'train_acc':[], 'train_loss':[]} #기록해서 그림 그리자!\n",
    "\n",
    "# TRAIN\n",
    "# epoch size만큼 iteration\n",
    "for i in tqdm(range(epoch_size)):\n",
    "    correct = 0\n",
    "    total = 0\n",
    "    running_loss = 0\n",
    "    ### 수정\n",
    "    net.train()\n",
    "    for j in range(N//batch_size):\n",
    "        batch_mask = np.random.choice(N, batch_size) #이번 배치에서 쓸 데이터들 인덱스 추출\n",
    "        x_batch = torch.FloatTensor(train_data[batch_mask])\n",
    "        t_batch = torch.LongTensor(train_labels[batch_mask])\n",
    "        \n",
    "        # Gradient buffer를 0으로 초기화\n",
    "        optimizer.zero_grad()\n",
    "        \n",
    "        # Forward\n",
    "        outputs = net(x_batch)\n",
    "        # Backward\n",
    "        loss = criterion(outputs, t_batch)\n",
    "        loss.backward()\n",
    "        # Update the weights\n",
    "        optimizer.step()\n",
    "        \n",
    "        # Statistics\n",
    "        _, predicted = torch.max(outputs.data, 1)\n",
    "        total += t_batch.size(0)\n",
    "        correct += (predicted == t_batch).sum().item()\n",
    "        running_loss += loss.item()\n",
    "        \n",
    "    acc = 100*correct/total    \n",
    "    history['train_loss'].append(running_loss / 5000)\n",
    "    history['train_acc'].append(acc)\n",
    "    \n",
    "    if i % 100 == 99: # print every 100 epochs \n",
    "\n",
    "        print('[%d] loss: %.3f acc: %.3f ' %\n",
    "              (i + 1, running_loss, acc))\n",
    "        print('Accuracy of the network on the 50000 train images: %d %%' %  acc)\n",
    "        running_loss = 0.0\n",
    "\n",
    "    # TEST\n",
    "    correct = 0\n",
    "    total = 0\n",
    "    val_loss = 0\n",
    "    ### 수정\n",
    "    net.eval()\n",
    "    with torch.no_grad():\n",
    "        for k in range(M//batch_size):\n",
    "            batch_mask = np.random.choice(M, batch_size) #이번 배치에서 쓸 데이터들 인덱스 추출\n",
    "            x_batch = torch.FloatTensor(test_data[batch_mask])\n",
    "            t_batch = torch.LongTensor(test_labels[batch_mask])\n",
    "            \n",
    "             # Forward\n",
    "            outputs = net(x_batch)\n",
    "\n",
    "            # loss\n",
    "            loss = criterion(outputs, t_batch)\n",
    "                        \n",
    "            # Statistics\n",
    "            _, predicted = torch.max(outputs.data, 1)\n",
    "            total += t_batch.size(0)\n",
    "            correct += (predicted == t_batch).sum().item()\n",
    "            val_loss += loss.item()\n",
    "        \n",
    "        #accuracy와 loss를 기록해둡시다.\n",
    "        acc = 100*correct/total\n",
    "        history[\"val_acc\"].append(acc)\n",
    "        history[\"val_loss\"].append(val_loss / 1000)\n",
    "    \n",
    "        if i % 100 == 99: # print every 100 epochs\n",
    "            print('[%d] loss: %.3f acc: %.3f ' %\n",
    "                  (i + 1, val_loss, acc))\n",
    "            print('Accuracy of the network on the 10000 test images: %d %%' % acc)\n",
    "            val_loss = 0.0\n",
    "            \n",
    "print(\"\")"
   ]
  },
  {
   "cell_type": "code",
   "execution_count": 40,
   "metadata": {},
   "outputs": [
    {
     "data": {
      "image/png": "[encoded data removed]",
      "text/plain": [
       "<Figure size 432x288 with 2 Axes>"
      ]
     },
     "metadata": {
      "needs_background": "light"
     },
     "output_type": "display_data"
    }
   ],
   "source": [
    "fig = plt.figure()\n",
    "ax_acc = fig.add_subplot(111)\n",
    "\n",
    "ax_acc.plot(range(epoch_size), history['val_acc'], label='정확도(%)', color='darkred')\n",
    "plt.xlabel('epochs')\n",
    "plt.ylabel('Validation Accuracy(%)')\n",
    "ax_acc.grid(linestyle='--', color='lavender')\n",
    "ax_loss = ax_acc.twinx()\n",
    "ax_loss.plot(range(epoch_size), history['val_loss'], label='오차', color='darkblue')\n",
    "plt.ylabel('Validation Error')\n",
    "ax_loss.yaxis.tick_right()\n",
    "ax_loss.grid(linestyle='--', color='lavender')\n",
    "\n",
    "# 그래프 표시\n",
    "plt.show()"
   ]
  },
  {
   "cell_type": "code",
   "execution_count": 41,
   "metadata": {},
   "outputs": [
    {
     "name": "stdout",
     "output_type": "stream",
     "text": [
      "Test accuracy: 30.13%\n",
      "Test loss: 0.02\n"
     ]
    }
   ],
   "source": [
    "print('Test accuracy: %.2f%%' % history['val_acc'][-1])\n",
    "print('Test loss: %.2f' % history['val_loss'][-1])"
   ]
  }
 ],
 "metadata": {
  "kernelspec": {
   "display_name": "Python 3",
   "language": "python",
   "name": "python3"
  },
  "language_info": {
   "codemirror_mode": {
    "name": "ipython",
    "version": 3
   },
   "file_extension": ".py",
   "mimetype": "text/x-python",
   "name": "python",
   "nbconvert_exporter": "python",
   "pygments_lexer": "ipython3",
   "version": "3.7.3"
  }
 },
 "nbformat": 4,
 "nbformat_minor": 2
}
