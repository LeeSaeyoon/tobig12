{
 "cells": [
  {
   "cell_type": "code",
   "execution_count": 69,
   "metadata": {},
   "outputs": [
    {
     "name": "stdout",
     "output_type": "stream",
     "text": [
      "14\n",
      "14\n",
      "37442160\n"
     ]
    }
   ],
   "source": [
    "m = int(input())\n",
    "n = int(input())\n",
    "\n",
    "def fun(m, n):\n",
    "    guest = [] # m층의 1호 ~ n호의 투숙객 수\n",
    "    for j in range(n+1):\n",
    "        guest.append(j+1)\n",
    "\n",
    "    for i in range(m): # 계차수열의 diff값이 아래 층의 1 ~ n호 투숙객\n",
    "        result = 1\n",
    "        for j in range(n):\n",
    "            guest[j] = result\n",
    "            diff = guest[j+1]\n",
    "            result += diff\n",
    "            \n",
    "    return guest[j]\n",
    "\n",
    "print(fun(m, n))"
   ]
  }
 ],
 "metadata": {
  "kernelspec": {
   "display_name": "Python 3",
   "language": "python",
   "name": "python3"
  },
  "language_info": {
   "codemirror_mode": {
    "name": "ipython",
    "version": 3
   },
   "file_extension": ".py",
   "mimetype": "text/x-python",
   "name": "python",
   "nbconvert_exporter": "python",
   "pygments_lexer": "ipython3",
   "version": "3.7.3"
  }
 },
 "nbformat": 4,
 "nbformat_minor": 2
}
