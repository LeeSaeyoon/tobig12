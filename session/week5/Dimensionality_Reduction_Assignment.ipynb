{
 "cells": [
  {
   "cell_type": "code",
   "execution_count": 1,
   "metadata": {
    "scrolled": true
   },
   "outputs": [
    {
     "name": "stdout",
     "output_type": "stream",
     "text": [
      "(70000, 784) (70000, 1)\n"
     ]
    }
   ],
   "source": [
    "import numpy as np\n",
    "import pandas as pd\n",
    "from sklearn.datasets import fetch_mldata\n",
    "from scipy import io\n",
    "%matplotlib inline\n",
    "import matplotlib.pyplot as plt\n",
    "import warnings\n",
    "warnings.filterwarnings('ignore')\n",
    "\n",
    "mnist = io.loadmat('mnist-original.mat') \n",
    "X = mnist['data'].T\n",
    "y = mnist['label'].T\n",
    "\n",
    "print (X.shape, y.shape)"
   ]
  },
  {
   "cell_type": "code",
   "execution_count": 2,
   "metadata": {},
   "outputs": [],
   "source": [
    "feat_cols = [ 'pixel'+str(i) for i in range(X.shape[1]) ]\n",
    "df = pd.DataFrame(X,columns=feat_cols)"
   ]
  },
  {
   "cell_type": "code",
   "execution_count": 3,
   "metadata": {},
   "outputs": [
    {
     "name": "stdout",
     "output_type": "stream",
     "text": [
      "Size of the dataframe: (70000, 785)\n"
     ]
    }
   ],
   "source": [
    "df['y'] = y\n",
    "print('Size of the dataframe: {}'.format(df.shape))"
   ]
  },
  {
   "cell_type": "code",
   "execution_count": 4,
   "metadata": {},
   "outputs": [
    {
     "data": {
      "text/plain": [
       "(10000, 785)"
      ]
     },
     "execution_count": 4,
     "metadata": {},
     "output_type": "execute_result"
    }
   ],
   "source": [
    "# 랜덤하게 10000개 데이터만 뽑기\n",
    "rndperm = np.random.permutation(df.shape[0])\n",
    "df1=df.loc[rndperm[:10000],:]\n",
    "df1.shape"
   ]
  },
  {
   "cell_type": "code",
   "execution_count": 5,
   "metadata": {},
   "outputs": [],
   "source": [
    "#train set과 test set 분류하기\n",
    "from sklearn.model_selection import train_test_split\n",
    "X_train, X_test, y_train, y_test = train_test_split(df1[feat_cols], df1['y'], test_size=0.2, random_state=1)"
   ]
  },
  {
   "cell_type": "markdown",
   "metadata": {},
   "source": [
    "# 원본 데이터"
   ]
  },
  {
   "cell_type": "markdown",
   "metadata": {},
   "source": [
    "### Random Forest"
   ]
  },
  {
   "cell_type": "code",
   "execution_count": 6,
   "metadata": {},
   "outputs": [],
   "source": [
    "from sklearn.ensemble import RandomForestClassifier\n",
    "\n",
    "rf = RandomForestClassifier()"
   ]
  },
  {
   "cell_type": "code",
   "execution_count": 7,
   "metadata": {},
   "outputs": [],
   "source": [
    "# 파라미터 튜닝 - Grid Search\n",
    "n_estimators = [10, 200]\n",
    "\n",
    "params = {'n_estimators': n_estimators}"
   ]
  },
  {
   "cell_type": "code",
   "execution_count": 8,
   "metadata": {},
   "outputs": [],
   "source": [
    "from sklearn.model_selection import GridSearchCV\n",
    "grid = GridSearchCV(estimator=rf, param_grid=params, cv=5, n_jobs=-1)\n",
    "grid = grid.fit(X_train, y_train)"
   ]
  },
  {
   "cell_type": "code",
   "execution_count": 9,
   "metadata": {},
   "outputs": [
    {
     "data": {
      "text/plain": [
       "0.944875"
      ]
     },
     "execution_count": 9,
     "metadata": {},
     "output_type": "execute_result"
    }
   ],
   "source": [
    "grid.best_score_"
   ]
  },
  {
   "cell_type": "code",
   "execution_count": 10,
   "metadata": {
    "scrolled": false
   },
   "outputs": [
    {
     "data": {
      "text/plain": [
       "{'n_estimators': 200}"
      ]
     },
     "execution_count": 10,
     "metadata": {},
     "output_type": "execute_result"
    }
   ],
   "source": [
    "grid.best_params_\n",
    "# 200 근처의 값에서 파라미터 서치를 더 자세히 해보자!"
   ]
  },
  {
   "cell_type": "code",
   "execution_count": 11,
   "metadata": {},
   "outputs": [],
   "source": [
    "# 파라미터 튜닝 - Grid Search\n",
    "n_estimators = [180, 200, 220, 250]\n",
    "\n",
    "params = {'n_estimators': n_estimators}"
   ]
  },
  {
   "cell_type": "code",
   "execution_count": 12,
   "metadata": {},
   "outputs": [],
   "source": [
    "from sklearn.model_selection import GridSearchCV\n",
    "grid = GridSearchCV(estimator=rf, param_grid=params, cv=5, n_jobs=-1)\n",
    "grid = grid.fit(X_train, y_train)"
   ]
  },
  {
   "cell_type": "code",
   "execution_count": 13,
   "metadata": {},
   "outputs": [
    {
     "data": {
      "text/plain": [
       "0.944625"
      ]
     },
     "execution_count": 13,
     "metadata": {},
     "output_type": "execute_result"
    }
   ],
   "source": [
    "grid.best_score_"
   ]
  },
  {
   "cell_type": "code",
   "execution_count": 14,
   "metadata": {},
   "outputs": [
    {
     "data": {
      "text/plain": [
       "{'n_estimators': 250}"
      ]
     },
     "execution_count": 14,
     "metadata": {},
     "output_type": "execute_result"
    }
   ],
   "source": [
    "grid.best_params_"
   ]
  },
  {
   "cell_type": "code",
   "execution_count": 15,
   "metadata": {},
   "outputs": [],
   "source": [
    "# 파라미터 튜닝 - Grid Search\n",
    "n_estimators = [250, 300]\n",
    "\n",
    "params = {'n_estimators': n_estimators}"
   ]
  },
  {
   "cell_type": "code",
   "execution_count": 16,
   "metadata": {},
   "outputs": [],
   "source": [
    "from sklearn.model_selection import GridSearchCV\n",
    "grid = GridSearchCV(estimator=rf, param_grid=params, cv=5, n_jobs=-1)\n",
    "grid = grid.fit(X_train, y_train)"
   ]
  },
  {
   "cell_type": "code",
   "execution_count": 17,
   "metadata": {},
   "outputs": [
    {
     "data": {
      "text/plain": [
       "0.94575"
      ]
     },
     "execution_count": 17,
     "metadata": {},
     "output_type": "execute_result"
    }
   ],
   "source": [
    "grid.best_score_"
   ]
  },
  {
   "cell_type": "code",
   "execution_count": 18,
   "metadata": {
    "scrolled": true
   },
   "outputs": [
    {
     "data": {
      "text/plain": [
       "{'n_estimators': 300}"
      ]
     },
     "execution_count": 18,
     "metadata": {},
     "output_type": "execute_result"
    }
   ],
   "source": [
    "grid.best_params_"
   ]
  },
  {
   "cell_type": "code",
   "execution_count": 19,
   "metadata": {},
   "outputs": [
    {
     "name": "stdout",
     "output_type": "stream",
     "text": [
      "Accuracy : 0.9480 \n",
      "Time : 39.44 sec\n"
     ]
    }
   ],
   "source": [
    "import time\n",
    "from sklearn.ensemble import RandomForestClassifier\n",
    "from sklearn.metrics import accuracy_score\n",
    "\n",
    "time_start = time.time()\n",
    "\n",
    "rf = RandomForestClassifier(n_estimators = 300)\n",
    "rf.fit(X_train, y_train)\n",
    "rf_y_pred = rf.predict(X_test)\n",
    "rf_accuracy = accuracy_score(y_test, rf_y_pred)\n",
    "\n",
    "print('Accuracy : %.4f \\nTime : %.2f sec'\n",
    "      %(rf_accuracy, time.time() - time_start))"
   ]
  },
  {
   "cell_type": "markdown",
   "metadata": {},
   "source": [
    "### KNN"
   ]
  },
  {
   "cell_type": "code",
   "execution_count": 20,
   "metadata": {
    "scrolled": true
   },
   "outputs": [
    {
     "name": "stdout",
     "output_type": "stream",
     "text": [
      "Accuracy : 0.9365 \n",
      "Time : 73.00 sec\n"
     ]
    }
   ],
   "source": [
    "import time\n",
    "from sklearn.neighbors import KNeighborsClassifier\n",
    "from sklearn.metrics import accuracy_score\n",
    "\n",
    "time_start = time.time()\n",
    "\n",
    "knn = KNeighborsClassifier(n_neighbors = 3)\n",
    "knn.fit(X_train, y_train)\n",
    "knn_y_pred = knn.predict(X_test)\n",
    "knn_accuracy = accuracy_score(y_test, knn_y_pred)\n",
    "\n",
    "print('Accuracy : %.4f \\nTime : %.2f sec'\n",
    "      %(knn_accuracy, time.time() - time_start))"
   ]
  },
  {
   "cell_type": "markdown",
   "metadata": {},
   "source": [
    "### Naive Bayes"
   ]
  },
  {
   "cell_type": "code",
   "execution_count": 21,
   "metadata": {},
   "outputs": [
    {
     "name": "stdout",
     "output_type": "stream",
     "text": [
      "Accuracy : 0.5690 \n",
      "Time : 1.29 sec\n"
     ]
    }
   ],
   "source": [
    "import time\n",
    "from sklearn.naive_bayes import GaussianNB\n",
    "from sklearn.metrics import accuracy_score\n",
    "\n",
    "time_start = time.time()\n",
    "\n",
    "nb = GaussianNB()\n",
    "nb.fit(X_train, y_train)\n",
    "nb_y_pred = nb.predict(X_test)\n",
    "nb_accuracy = accuracy_score(y_test, nb_y_pred)\n",
    "\n",
    "print('Accuracy : %.4f \\nTime : %.2f sec'\n",
    "      %(nb_accuracy, time.time() - time_start))"
   ]
  },
  {
   "cell_type": "markdown",
   "metadata": {},
   "source": [
    "# PCA"
   ]
  },
  {
   "cell_type": "code",
   "execution_count": 22,
   "metadata": {},
   "outputs": [],
   "source": [
    "from sklearn.decomposition import PCA\n",
    "\n",
    "pca = PCA(n_components = 0.99).fit(X_train)\n",
    "\n",
    "X_train_pca = pca.transform(X_train)\n",
    "X_test_pca = pca.transform(X_test)"
   ]
  },
  {
   "cell_type": "code",
   "execution_count": 23,
   "metadata": {},
   "outputs": [
    {
     "data": {
      "text/plain": [
       "(8000, 324)"
      ]
     },
     "execution_count": 23,
     "metadata": {},
     "output_type": "execute_result"
    }
   ],
   "source": [
    "X_train_pca.shape"
   ]
  },
  {
   "cell_type": "code",
   "execution_count": 24,
   "metadata": {},
   "outputs": [],
   "source": [
    "# 동일한 조건에서 시간과 accuracy를 측정하기 위해 원본 데이터에서의 모델과 동일하게 진행하였다"
   ]
  },
  {
   "cell_type": "markdown",
   "metadata": {},
   "source": [
    "### Random Forest"
   ]
  },
  {
   "cell_type": "code",
   "execution_count": 25,
   "metadata": {},
   "outputs": [
    {
     "name": "stdout",
     "output_type": "stream",
     "text": [
      "Accuracy : 0.9125 \n",
      "Time : 118.86 sec\n"
     ]
    }
   ],
   "source": [
    "import time\n",
    "from sklearn.ensemble import RandomForestClassifier\n",
    "from sklearn.metrics import accuracy_score\n",
    "\n",
    "time_start = time.time()\n",
    "\n",
    "rf = RandomForestClassifier(n_estimators = 300)\n",
    "rf.fit(X_train_pca, y_train)\n",
    "rf_y_pred = rf.predict(X_test_pca)\n",
    "rf_accuracy = accuracy_score(y_test, rf_y_pred)\n",
    "\n",
    "print('Accuracy : %.4f \\nTime : %.2f sec'\n",
    "      %(rf_accuracy, time.time() - time_start))"
   ]
  },
  {
   "cell_type": "markdown",
   "metadata": {},
   "source": [
    "### KNN"
   ]
  },
  {
   "cell_type": "code",
   "execution_count": 26,
   "metadata": {},
   "outputs": [
    {
     "name": "stdout",
     "output_type": "stream",
     "text": [
      "Accuracy : 0.9385 \n",
      "Time : 31.36 sec\n"
     ]
    }
   ],
   "source": [
    "import time\n",
    "from sklearn.neighbors import KNeighborsClassifier\n",
    "from sklearn.metrics import accuracy_score\n",
    "\n",
    "time_start = time.time()\n",
    "\n",
    "knn = KNeighborsClassifier(n_neighbors = 3)\n",
    "knn.fit(X_train_pca, y_train)\n",
    "knn_y_pred = knn.predict(X_test_pca)\n",
    "knn_accuracy = accuracy_score(y_test, knn_y_pred)\n",
    "\n",
    "print('Accuracy : %.4f \\nTime : %.2f sec'\n",
    "      %(knn_accuracy, time.time() - time_start))"
   ]
  },
  {
   "cell_type": "markdown",
   "metadata": {},
   "source": [
    "### Naive Bayes"
   ]
  },
  {
   "cell_type": "code",
   "execution_count": 27,
   "metadata": {},
   "outputs": [
    {
     "name": "stdout",
     "output_type": "stream",
     "text": [
      "Accuracy : 0.7820 \n",
      "Time : 0.70 sec\n"
     ]
    }
   ],
   "source": [
    "import time\n",
    "from sklearn.naive_bayes import GaussianNB\n",
    "from sklearn.metrics import accuracy_score\n",
    "\n",
    "time_start = time.time()\n",
    "\n",
    "nb = GaussianNB()\n",
    "nb.fit(X_train_pca, y_train)\n",
    "nb_y_pred = nb.predict(X_test_pca)\n",
    "nb_accuracy = accuracy_score(y_test, nb_y_pred)\n",
    "\n",
    "print('Accuracy : %.4f \\nTime : %.2f sec'\n",
    "      %(nb_accuracy, time.time() - time_start))"
   ]
  },
  {
   "cell_type": "markdown",
   "metadata": {},
   "source": [
    "# LDA"
   ]
  },
  {
   "cell_type": "code",
   "execution_count": 35,
   "metadata": {},
   "outputs": [
    {
     "data": {
      "text/plain": [
       "LinearDiscriminantAnalysis(n_components=None, priors=None, shrinkage=None,\n",
       "              solver='svd', store_covariance=False, tol=0.0001)"
      ]
     },
     "execution_count": 35,
     "metadata": {},
     "output_type": "execute_result"
    }
   ],
   "source": [
    "from sklearn.discriminant_analysis import LinearDiscriminantAnalysis\n",
    "\n",
    "lda = LinearDiscriminantAnalysis()\n",
    "lda.fit(X_train, y_train)"
   ]
  },
  {
   "cell_type": "code",
   "execution_count": 36,
   "metadata": {},
   "outputs": [],
   "source": [
    "X_train_lda = lda.transform(X_train)\n",
    "X_test_lda = lda.transform(X_test)"
   ]
  },
  {
   "cell_type": "code",
   "execution_count": 37,
   "metadata": {},
   "outputs": [
    {
     "data": {
      "text/plain": [
       "(8000, 9)"
      ]
     },
     "execution_count": 37,
     "metadata": {},
     "output_type": "execute_result"
    }
   ],
   "source": [
    "X_train_lda.shape"
   ]
  },
  {
   "cell_type": "markdown",
   "metadata": {},
   "source": [
    "### Random Forest"
   ]
  },
  {
   "cell_type": "code",
   "execution_count": 38,
   "metadata": {},
   "outputs": [
    {
     "name": "stdout",
     "output_type": "stream",
     "text": [
      "Accuracy : 0.8755 \n",
      "Time : 17.65 sec\n"
     ]
    }
   ],
   "source": [
    "import time\n",
    "from sklearn.ensemble import RandomForestClassifier\n",
    "from sklearn.metrics import accuracy_score\n",
    "\n",
    "time_start = time.time()\n",
    "\n",
    "rf = RandomForestClassifier(n_estimators = 300)\n",
    "rf.fit(X_train_lda, y_train)\n",
    "rf_y_pred = rf.predict(X_test_lda)\n",
    "rf_accuracy = accuracy_score(y_test, rf_y_pred)\n",
    "\n",
    "print('Accuracy : %.4f \\nTime : %.2f sec'\n",
    "      %(rf_accuracy, time.time() - time_start))"
   ]
  },
  {
   "cell_type": "markdown",
   "metadata": {},
   "source": [
    "### KNN"
   ]
  },
  {
   "cell_type": "code",
   "execution_count": 39,
   "metadata": {},
   "outputs": [
    {
     "name": "stdout",
     "output_type": "stream",
     "text": [
      "Accuracy : 0.8765 \n",
      "Time : 0.62 sec\n"
     ]
    }
   ],
   "source": [
    "import time\n",
    "from sklearn.neighbors import KNeighborsClassifier\n",
    "from sklearn.metrics import accuracy_score\n",
    "\n",
    "time_start = time.time()\n",
    "\n",
    "knn = KNeighborsClassifier(n_neighbors = 3)\n",
    "knn.fit(X_train_lda, y_train)\n",
    "knn_y_pred = knn.predict(X_test_lda)\n",
    "knn_accuracy = accuracy_score(y_test, knn_y_pred)\n",
    "\n",
    "print('Accuracy : %.4f \\nTime : %.2f sec'\n",
    "      %(knn_accuracy, time.time() - time_start))"
   ]
  },
  {
   "cell_type": "markdown",
   "metadata": {},
   "source": [
    "### Naive Bayes"
   ]
  },
  {
   "cell_type": "code",
   "execution_count": 40,
   "metadata": {},
   "outputs": [
    {
     "name": "stdout",
     "output_type": "stream",
     "text": [
      "Accuracy : 0.8595 \n",
      "Time : 0.04 sec\n"
     ]
    }
   ],
   "source": [
    "import time\n",
    "from sklearn.naive_bayes import GaussianNB\n",
    "from sklearn.metrics import accuracy_score\n",
    "\n",
    "time_start = time.time()\n",
    "\n",
    "nb = GaussianNB()\n",
    "nb.fit(X_train_lda, y_train)\n",
    "nb_y_pred = nb.predict(X_test_lda)\n",
    "nb_accuracy = accuracy_score(y_test, nb_y_pred)\n",
    "\n",
    "print('Accuracy : %.4f \\nTime : %.2f sec'\n",
    "      %(nb_accuracy, time.time() - time_start))"
   ]
  },
  {
   "cell_type": "markdown",
   "metadata": {},
   "source": [
    "## 결론 해석"
   ]
  },
  {
   "cell_type": "code",
   "execution_count": 41,
   "metadata": {},
   "outputs": [
    {
     "data": {
      "text/plain": [
       "'\\n    # 원본 데이터 #\\n    - Random Forest\\n        Accuracy : 0.9480 \\n        Time : 39.44 sec\\n    - KNN\\n        Accuracy : 0.9365 \\n        Time : 73.00 sec\\n    - Naive Bayes\\n        Accuracy : 0.5690 \\n        Time : 1.29 sec\\n        \\n    # PCA #\\n    - Random Forest\\n        Accuracy : 0.9125 \\n        Time : 118.86 sec\\n    - KNN\\n        Accuracy : 0.9385 \\n        Time : 31.36 sec\\n    - Naive Bayes\\n        Accuracy : 0.7820 \\n        Time : 0.70 sec    \\n    \\n    # LDA #\\n    - Random Forest\\n        Accuracy : 0.8755 \\n        Time : 17.65 sec\\n    - KNN\\n        Accuracy : 0.8765 \\n        Time : 0.62 sec\\n    - Naive Bayes\\n        Accuracy : 0.8595 \\n        Time : 0.04 sec\\n'"
      ]
     },
     "execution_count": 41,
     "metadata": {},
     "output_type": "execute_result"
    }
   ],
   "source": [
    "\"\"\"\n",
    "    # 원본 데이터 #\n",
    "    - Random Forest\n",
    "        Accuracy : 0.9480 \n",
    "        Time : 39.44 sec\n",
    "    - KNN\n",
    "        Accuracy : 0.9365 \n",
    "        Time : 73.00 sec\n",
    "    - Naive Bayes\n",
    "        Accuracy : 0.5690 \n",
    "        Time : 1.29 sec\n",
    "        \n",
    "    # PCA #\n",
    "    - Random Forest\n",
    "        Accuracy : 0.9125 \n",
    "        Time : 118.86 sec\n",
    "    - KNN\n",
    "        Accuracy : 0.9385 \n",
    "        Time : 31.36 sec\n",
    "    - Naive Bayes\n",
    "        Accuracy : 0.7820 \n",
    "        Time : 0.70 sec    \n",
    "    \n",
    "    # LDA #\n",
    "    - Random Forest\n",
    "        Accuracy : 0.8755 \n",
    "        Time : 17.65 sec\n",
    "    - KNN\n",
    "        Accuracy : 0.8765 \n",
    "        Time : 0.62 sec\n",
    "    - Naive Bayes\n",
    "        Accuracy : 0.8595 \n",
    "        Time : 0.04 sec\n",
    "\"\"\""
   ]
  },
  {
   "cell_type": "markdown",
   "metadata": {},
   "source": [
    "* 원본 데이터\n",
    "    - Random Forest, KNN, Naive Bayes 순서로 정확도가 높았다.\n",
    "    - Naive Bayes, Random Forest, KNN 순서로 시간이 적게 걸렸다.\n",
    "\n",
    "* PCA\n",
    "    - Random Forest를 제외한 분류기에서 정확도가 증가하고 시간도 줄어들었다.\n",
    "    - Random Forest의 경우 정확도도 줄어들었고 시간도 더 늘어났다.\n",
    "    - 특히 Naive Bayes의 경우 정확도가 20% 늘어났다.\n",
    "    \n",
    "* LDA\n",
    "    - 차원이 적어 전체적으로 시간이 많이 줄어들었다.\n",
    "    - 그러나 Random Forest와 KNN의 정확도도 줄어들었다.\n",
    "    - Naive Bayes의 경우 정확도가 크게 늘어났다."
   ]
  },
  {
   "cell_type": "markdown",
   "metadata": {},
   "source": [
    "* Random Forest는 특이하게 원본데이터에서보다 PCA를 적용한 데이터에서 더 시간이 늘어났다. 왜 그럴까?\n",
    "\n",
    "    - 그 이유는 MNIST 데이터의 클래스가 0, 1로만 되어있어 비교적 DT에서 분류하기 쉬운 반면, 차원축소를 하게 되면 그 값이 연속형 값으로 바뀌어 분류가 더 어려워지게 된다. 이때 DT를 베이스 모델으로 하는 Random Forest도 같은 이유로 시간이 더 오래 걸리게 된 것으로 보인다."
   ]
  }
 ],
 "metadata": {
  "kernelspec": {
   "display_name": "Python 3",
   "language": "python",
   "name": "python3"
  },
  "language_info": {
   "codemirror_mode": {
    "name": "ipython",
    "version": 3
   },
   "file_extension": ".py",
   "mimetype": "text/x-python",
   "name": "python",
   "nbconvert_exporter": "python",
   "pygments_lexer": "ipython3",
   "version": "3.7.3"
  }
 },
 "nbformat": 4,
 "nbformat_minor": 2
}
