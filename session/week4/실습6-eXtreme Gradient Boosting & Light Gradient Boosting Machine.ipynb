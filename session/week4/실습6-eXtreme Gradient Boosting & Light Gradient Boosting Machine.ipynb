{
 "cells": [
  {
   "cell_type": "code",
   "execution_count": 5,
   "metadata": {},
   "outputs": [],
   "source": [
    "import warnings\n",
    "warnings.filterwarnings('ignore')\n",
    "import numpy as np\n",
    "import xgboost as xgb"
   ]
  },
  {
   "cell_type": "code",
   "execution_count": 6,
   "metadata": {},
   "outputs": [],
   "source": [
    "X = np.load(\"./tatanic_X_train.npy\")\n",
    "y = np.load(\"./tatanic_y_train.npy\")"
   ]
  },
  {
   "cell_type": "code",
   "execution_count": 7,
   "metadata": {},
   "outputs": [],
   "source": [
    "from sklearn.model_selection import train_test_split"
   ]
  },
  {
   "cell_type": "code",
   "execution_count": 8,
   "metadata": {},
   "outputs": [],
   "source": [
    "X_train, X_test, y_train, y_test = train_test_split(X, y, test_size =0.3)"
   ]
  },
  {
   "cell_type": "code",
   "execution_count": 11,
   "metadata": {},
   "outputs": [],
   "source": [
    "from xgboost import XGBClassifier\n",
    "\n",
    "model = XGBClassifier(n_estimators=1000, max_depth=2, learning_rate=0.5, nthread=7)\n",
    "model.fit(X_train, y_train)\n",
    "y_pred = model.predict(X_test)"
   ]
  },
  {
   "cell_type": "code",
   "execution_count": 12,
   "metadata": {},
   "outputs": [
    {
     "data": {
      "text/plain": [
       "0.8314606741573034"
      ]
     },
     "execution_count": 12,
     "metadata": {},
     "output_type": "execute_result"
    }
   ],
   "source": [
    "from sklearn.metrics import accuracy_score\n",
    "\n",
    "accuracy_score(y_test, y_pred)"
   ]
  },
  {
   "cell_type": "code",
   "execution_count": 13,
   "metadata": {},
   "outputs": [],
   "source": [
    "dtrain = xgb.DMatrix(X_train, label=y_train)\n",
    "dtest = xgb.DMatrix(X_test, label=y_test)"
   ]
  },
  {
   "cell_type": "code",
   "execution_count": 14,
   "metadata": {},
   "outputs": [],
   "source": [
    "param = {'max_depth': 2, 'eta': 0.5, 'silent': 1, 'objective': 'binary:logistic'}\n",
    "param['nthread'] = 7\n",
    "param['eval_metric'] = 'auc'\n",
    "evallist = [(dtest, 'eval'), (dtrain, 'train')]\n",
    "plst = param.items()"
   ]
  },
  {
   "cell_type": "code",
   "execution_count": 15,
   "metadata": {},
   "outputs": [
    {
     "name": "stdout",
     "output_type": "stream",
     "text": [
      "[0]\teval-auc:0.841095\ttrain-auc:0.83032\n",
      "[1]\teval-auc:0.878886\ttrain-auc:0.856715\n",
      "[2]\teval-auc:0.882222\ttrain-auc:0.860867\n",
      "[3]\teval-auc:0.886995\ttrain-auc:0.86653\n",
      "[4]\teval-auc:0.883201\ttrain-auc:0.872533\n",
      "[5]\teval-auc:0.88519\ttrain-auc:0.878433\n",
      "[6]\teval-auc:0.886934\ttrain-auc:0.881503\n",
      "[7]\teval-auc:0.889015\ttrain-auc:0.89201\n",
      "[8]\teval-auc:0.889259\ttrain-auc:0.892757\n",
      "[9]\teval-auc:0.88877\ttrain-auc:0.895702\n",
      "[10]\teval-auc:0.898439\ttrain-auc:0.902999\n",
      "[11]\teval-auc:0.894584\ttrain-auc:0.90393\n",
      "[12]\teval-auc:0.893972\ttrain-auc:0.904883\n",
      "[13]\teval-auc:0.895685\ttrain-auc:0.906777\n",
      "[14]\teval-auc:0.896695\ttrain-auc:0.908634\n",
      "[15]\teval-auc:0.8959\ttrain-auc:0.911671\n",
      "[16]\teval-auc:0.890453\ttrain-auc:0.912277\n",
      "[17]\teval-auc:0.89082\ttrain-auc:0.912959\n",
      "[18]\teval-auc:0.890575\ttrain-auc:0.914394\n",
      "[19]\teval-auc:0.892931\ttrain-auc:0.916673\n",
      "[20]\teval-auc:0.887852\ttrain-auc:0.919845\n",
      "[21]\teval-auc:0.885282\ttrain-auc:0.919683\n",
      "[22]\teval-auc:0.883446\ttrain-auc:0.920435\n",
      "[23]\teval-auc:0.886444\ttrain-auc:0.920446\n",
      "[24]\teval-auc:0.887393\ttrain-auc:0.922979\n",
      "[25]\teval-auc:0.886658\ttrain-auc:0.925838\n",
      "[26]\teval-auc:0.887026\ttrain-auc:0.926639\n",
      "[27]\teval-auc:0.888923\ttrain-auc:0.92685\n",
      "[28]\teval-auc:0.888311\ttrain-auc:0.92934\n",
      "[29]\teval-auc:0.889351\ttrain-auc:0.932123\n",
      "[30]\teval-auc:0.886903\ttrain-auc:0.932989\n",
      "[31]\teval-auc:0.884272\ttrain-auc:0.932978\n",
      "[32]\teval-auc:0.883109\ttrain-auc:0.934012\n",
      "[33]\teval-auc:0.884272\ttrain-auc:0.935084\n",
      "[34]\teval-auc:0.883721\ttrain-auc:0.935614\n",
      "[35]\teval-auc:0.884333\ttrain-auc:0.935842\n",
      "[36]\teval-auc:0.883476\ttrain-auc:0.936123\n",
      "[37]\teval-auc:0.884333\ttrain-auc:0.938028\n",
      "[38]\teval-auc:0.884578\ttrain-auc:0.938732\n",
      "[39]\teval-auc:0.885802\ttrain-auc:0.938938\n",
      "[40]\teval-auc:0.886352\ttrain-auc:0.939328\n",
      "[41]\teval-auc:0.887393\ttrain-auc:0.940816\n",
      "[42]\teval-auc:0.885373\ttrain-auc:0.941368\n",
      "[43]\teval-auc:0.886352\ttrain-auc:0.94178\n",
      "[44]\teval-auc:0.884823\ttrain-auc:0.943306\n",
      "[45]\teval-auc:0.884517\ttrain-auc:0.944281\n",
      "[46]\teval-auc:0.884027\ttrain-auc:0.944887\n",
      "[47]\teval-auc:0.88317\ttrain-auc:0.945385\n",
      "[48]\teval-auc:0.885128\ttrain-auc:0.944725\n",
      "[49]\teval-auc:0.885067\ttrain-auc:0.944952\n"
     ]
    }
   ],
   "source": [
    "num_round = 50\n",
    "bst = xgb.train(plst, dtrain, num_round, evallist)"
   ]
  },
  {
   "cell_type": "code",
   "execution_count": 16,
   "metadata": {},
   "outputs": [],
   "source": [
    "ypred = bst.predict(dtest, ntree_limit=bst.best_ntree_limit)"
   ]
  },
  {
   "cell_type": "code",
   "execution_count": 17,
   "metadata": {},
   "outputs": [
    {
     "data": {
      "text/plain": [
       "0.8689138576779026"
      ]
     },
     "execution_count": 17,
     "metadata": {},
     "output_type": "execute_result"
    }
   ],
   "source": [
    "(sum((ypred>0.5) == y_test)) / 267.0"
   ]
  },
  {
   "cell_type": "code",
   "execution_count": 18,
   "metadata": {},
   "outputs": [],
   "source": [
    "from sklearn.metrics import mean_squared_error\n",
    "from sklearn.model_selection import GridSearchCV\n",
    "import numpy as np"
   ]
  },
  {
   "cell_type": "code",
   "execution_count": 19,
   "metadata": {},
   "outputs": [],
   "source": [
    "X = np.load(\"./tatanic_X_train.npy\")\n",
    "y = np.load(\"./tatanic_y_train.npy\")"
   ]
  },
  {
   "cell_type": "code",
   "execution_count": 20,
   "metadata": {},
   "outputs": [],
   "source": [
    "X_train, X_test, y_train, y_test = train_test_split(X, y, test_size=0.3)"
   ]
  },
  {
   "cell_type": "code",
   "execution_count": 23,
   "metadata": {},
   "outputs": [
    {
     "name": "stdout",
     "output_type": "stream",
     "text": [
      "Best parameters found by grid search are: {'learning_rate': 0.5, 'n_estimators': 80}\n"
     ]
    }
   ],
   "source": [
    "import lightgbm as lgb\n",
    "\n",
    "estimator = lgb.LGBMClassifier(num_leaves=2)\n",
    "\n",
    "param_grid = {\n",
    "    'learning_rate': [0.01, 0.1, 0.05, 0.5, 1],\n",
    "    'n_estimators': [20, 40, 60, 80, 100, 120]\n",
    "}\n",
    "\n",
    "gbm = GridSearchCV(estimator, param_grid, cv=5, scoring='roc_auc')\n",
    "\n",
    "gbm.fit(X, y)\n",
    "\n",
    "print('Best parameters found by grid search are:', gbm.best_params_)"
   ]
  },
  {
   "cell_type": "code",
   "execution_count": 24,
   "metadata": {},
   "outputs": [
    {
     "data": {
      "text/plain": [
       "0.8576779026217228"
      ]
     },
     "execution_count": 24,
     "metadata": {},
     "output_type": "execute_result"
    }
   ],
   "source": [
    "sum(gbm.best_estimator_.predict(X_test) == y_test) / (len(y_test)*1.0)"
   ]
  },
  {
   "cell_type": "code",
   "execution_count": 25,
   "metadata": {},
   "outputs": [
    {
     "data": {
      "text/plain": [
       "0.8614232209737828"
      ]
     },
     "execution_count": 25,
     "metadata": {},
     "output_type": "execute_result"
    }
   ],
   "source": [
    "sum(\n",
    "    (gbm.best_estimator_.predict_proba(X_test)[:,1]> 0.51 ) == y_test) / (len(y_test)*1.0)"
   ]
  },
  {
   "cell_type": "code",
   "execution_count": 26,
   "metadata": {},
   "outputs": [],
   "source": [
    "\n",
    "from xgboost.sklearn import XGBClassifier\n",
    "estimator = XGBClassifier()"
   ]
  },
  {
   "cell_type": "code",
   "execution_count": 27,
   "metadata": {},
   "outputs": [],
   "source": [
    "parameters = {'nthread':[4], #when use hyperthread, xgboost may become slower\n",
    "              'objective':['binary:logistic'],\n",
    "              'learning_rate': [0.05], #so called `eta` value\n",
    "              'max_depth': [6],\n",
    "              'min_child_weight': [11],\n",
    "              'silent': [1],\n",
    "              'subsample': [0.8],\n",
    "              'colsample_bytree': [0.7],\n",
    "              'n_estimators': [5], #number of trees, change it to 1000 for better results\n",
    "              'missing':[-999],\n",
    "              'seed': [1337]}"
   ]
  },
  {
   "cell_type": "code",
   "execution_count": 28,
   "metadata": {},
   "outputs": [
    {
     "name": "stdout",
     "output_type": "stream",
     "text": [
      "Fitting 5 folds for each of 1 candidates, totalling 5 fits\n"
     ]
    },
    {
     "name": "stderr",
     "output_type": "stream",
     "text": [
      "[Parallel(n_jobs=5)]: Using backend LokyBackend with 5 concurrent workers.\n"
     ]
    },
    {
     "name": "stdout",
     "output_type": "stream",
     "text": [
      "Best parameters found by grid search are: {'learning_rate': 0.5, 'n_estimators': 80}\n"
     ]
    },
    {
     "name": "stderr",
     "output_type": "stream",
     "text": [
      "[Parallel(n_jobs=5)]: Done   2 out of   5 | elapsed:    2.8s remaining:    4.2s\n",
      "[Parallel(n_jobs=5)]: Done   5 out of   5 | elapsed:    2.8s remaining:    0.0s\n",
      "[Parallel(n_jobs=5)]: Done   5 out of   5 | elapsed:    2.8s finished\n"
     ]
    }
   ],
   "source": [
    "\n",
    "clf = GridSearchCV(estimator, parameters, n_jobs=5, \n",
    "                   cv=5, \n",
    "                   scoring='roc_auc',\n",
    "                   verbose=2, refit=True)\n",
    "\n",
    "clf.fit(X, y)\n",
    "print('Best parameters found by grid search are:', gbm.best_params_)"
   ]
  },
  {
   "cell_type": "code",
   "execution_count": 29,
   "metadata": {},
   "outputs": [
    {
     "data": {
      "text/plain": [
       "0.797752808988764"
      ]
     },
     "execution_count": 29,
     "metadata": {},
     "output_type": "execute_result"
    }
   ],
   "source": [
    "sum(clf.best_estimator_.predict(X_test) == y_test) / (len(y_test)*1.0)"
   ]
  },
  {
   "cell_type": "code",
   "execution_count": 30,
   "metadata": {},
   "outputs": [
    {
     "data": {
      "text/plain": [
       "0.8014981273408239"
      ]
     },
     "execution_count": 30,
     "metadata": {},
     "output_type": "execute_result"
    }
   ],
   "source": [
    "sum(\n",
    "    (clf.best_estimator_.predict_proba(X_test)[:,1]> 0.51 ) == y_test) / (len(y_test)*1.0)"
   ]
  }
 ],
 "metadata": {
  "kernelspec": {
   "display_name": "Python 3",
   "language": "python",
   "name": "python3"
  },
  "language_info": {
   "codemirror_mode": {
    "name": "ipython",
    "version": 3
   },
   "file_extension": ".py",
   "mimetype": "text/x-python",
   "name": "python",
   "nbconvert_exporter": "python",
   "pygments_lexer": "ipython3",
   "version": "3.7.3"
  }
 },
 "nbformat": 4,
 "nbformat_minor": 2
}
