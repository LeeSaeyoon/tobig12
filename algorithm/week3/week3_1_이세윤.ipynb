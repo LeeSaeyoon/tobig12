{
 "cells": [
  {
   "cell_type": "code",
   "execution_count": 21,
   "metadata": {
    "scrolled": true
   },
   "outputs": [
    {
     "name": "stdout",
     "output_type": "stream",
     "text": [
      "example2.csv\n"
     ]
    },
    {
     "data": {
      "text/html": [
       "<div>\n",
       "<style scoped>\n",
       "    .dataframe tbody tr th:only-of-type {\n",
       "        vertical-align: middle;\n",
       "    }\n",
       "\n",
       "    .dataframe tbody tr th {\n",
       "        vertical-align: top;\n",
       "    }\n",
       "\n",
       "    .dataframe thead th {\n",
       "        text-align: right;\n",
       "    }\n",
       "</style>\n",
       "<table border=\"1\" class=\"dataframe\">\n",
       "  <thead>\n",
       "    <tr style=\"text-align: right;\">\n",
       "      <th></th>\n",
       "      <th>Name</th>\n",
       "      <th>Height</th>\n",
       "      <th>IQ</th>\n",
       "      <th>Gender</th>\n",
       "    </tr>\n",
       "  </thead>\n",
       "  <tbody>\n",
       "    <tr>\n",
       "      <th>0</th>\n",
       "      <td>Youngjeon Lee</td>\n",
       "      <td>174</td>\n",
       "      <td>no</td>\n",
       "      <td>M</td>\n",
       "    </tr>\n",
       "    <tr>\n",
       "      <th>1</th>\n",
       "      <td>Chaebin Lim</td>\n",
       "      <td>172</td>\n",
       "      <td>102</td>\n",
       "      <td>M</td>\n",
       "    </tr>\n",
       "    <tr>\n",
       "      <th>2</th>\n",
       "      <td>Eunsun Shim</td>\n",
       "      <td>160</td>\n",
       "      <td>102</td>\n",
       "      <td>F</td>\n",
       "    </tr>\n",
       "    <tr>\n",
       "      <th>3</th>\n",
       "      <td>Daewoong Kim</td>\n",
       "      <td>170</td>\n",
       "      <td>101</td>\n",
       "      <td>M</td>\n",
       "    </tr>\n",
       "    <tr>\n",
       "      <th>4</th>\n",
       "      <td>Sora Lee</td>\n",
       "      <td>159</td>\n",
       "      <td>no data</td>\n",
       "      <td>F</td>\n",
       "    </tr>\n",
       "    <tr>\n",
       "      <th>5</th>\n",
       "      <td>Kiyoon You</td>\n",
       "      <td>185</td>\n",
       "      <td>116</td>\n",
       "      <td>M</td>\n",
       "    </tr>\n",
       "    <tr>\n",
       "      <th>6</th>\n",
       "      <td>Youmin Kim</td>\n",
       "      <td>160</td>\n",
       "      <td>101</td>\n",
       "      <td>F</td>\n",
       "    </tr>\n",
       "    <tr>\n",
       "      <th>7</th>\n",
       "      <td>Doyeon Lee</td>\n",
       "      <td>157</td>\n",
       "      <td>102</td>\n",
       "      <td>F</td>\n",
       "    </tr>\n",
       "    <tr>\n",
       "      <th>8</th>\n",
       "      <td>Hyein Jeong</td>\n",
       "      <td>162</td>\n",
       "      <td>102</td>\n",
       "      <td>F</td>\n",
       "    </tr>\n",
       "    <tr>\n",
       "      <th>9</th>\n",
       "      <td>Soomin Kang</td>\n",
       "      <td>161</td>\n",
       "      <td>99</td>\n",
       "      <td>F</td>\n",
       "    </tr>\n",
       "    <tr>\n",
       "      <th>10</th>\n",
       "      <td>Hyemin Kwon</td>\n",
       "      <td>158</td>\n",
       "      <td>101</td>\n",
       "      <td>F</td>\n",
       "    </tr>\n",
       "    <tr>\n",
       "      <th>11</th>\n",
       "      <td>Jaeyeon Han</td>\n",
       "      <td>172</td>\n",
       "      <td>95</td>\n",
       "      <td>M</td>\n",
       "    </tr>\n",
       "    <tr>\n",
       "      <th>12</th>\n",
       "      <td>Andrew Ng</td>\n",
       "      <td>171</td>\n",
       "      <td>NaN</td>\n",
       "      <td>M</td>\n",
       "    </tr>\n",
       "  </tbody>\n",
       "</table>\n",
       "</div>"
      ],
      "text/plain": [
       "             Name  Height       IQ Gender\n",
       "0   Youngjeon Lee     174       no      M\n",
       "1     Chaebin Lim     172      102      M\n",
       "2     Eunsun Shim     160      102      F\n",
       "3    Daewoong Kim     170      101      M\n",
       "4        Sora Lee     159  no data      F\n",
       "5      Kiyoon You     185      116      M\n",
       "6      Youmin Kim     160      101      F\n",
       "7      Doyeon Lee     157      102      F\n",
       "8     Hyein Jeong     162      102      F\n",
       "9     Soomin Kang     161       99      F\n",
       "10    Hyemin Kwon     158      101      F\n",
       "11    Jaeyeon Han     172       95      M\n",
       "12      Andrew Ng     171      NaN      M"
      ]
     },
     "execution_count": 21,
     "metadata": {},
     "output_type": "execute_result"
    }
   ],
   "source": [
    "import pandas as pd\n",
    "import numpy as np\n",
    "\n",
    "df = pd.read_csv(input())\n",
    "df"
   ]
  },
  {
   "cell_type": "code",
   "execution_count": 22,
   "metadata": {},
   "outputs": [],
   "source": [
    "df['IQ'] = df['IQ'].str.extract('(\\d+)')"
   ]
  },
  {
   "cell_type": "code",
   "execution_count": 23,
   "metadata": {
    "scrolled": true
   },
   "outputs": [
    {
     "data": {
      "text/plain": [
       "23"
      ]
     },
     "execution_count": 23,
     "metadata": {},
     "output_type": "execute_result"
    }
   ],
   "source": [
    "R = int(df.IQ.isnull().sum() * 100 / len(df))\n",
    "R"
   ]
  },
  {
   "cell_type": "code",
   "execution_count": 24,
   "metadata": {},
   "outputs": [],
   "source": [
    "df.loc[df['IQ'].notnull(), 'IQ'] = df.loc[df['IQ'].notnull(), 'IQ'].astype(int)"
   ]
  },
  {
   "cell_type": "code",
   "execution_count": 25,
   "metadata": {
    "scrolled": true
   },
   "outputs": [],
   "source": [
    "df['IQ'] = df['IQ'].groupby(df['Gender']).apply(lambda x: x.fillna(int(x.mean())))"
   ]
  },
  {
   "cell_type": "code",
   "execution_count": 26,
   "metadata": {
    "scrolled": true
   },
   "outputs": [
    {
     "data": {
      "text/html": [
       "<div>\n",
       "<style scoped>\n",
       "    .dataframe tbody tr th:only-of-type {\n",
       "        vertical-align: middle;\n",
       "    }\n",
       "\n",
       "    .dataframe tbody tr th {\n",
       "        vertical-align: top;\n",
       "    }\n",
       "\n",
       "    .dataframe thead th {\n",
       "        text-align: right;\n",
       "    }\n",
       "</style>\n",
       "<table border=\"1\" class=\"dataframe\">\n",
       "  <thead>\n",
       "    <tr style=\"text-align: right;\">\n",
       "      <th></th>\n",
       "      <th>Name</th>\n",
       "      <th>Height</th>\n",
       "      <th>IQ</th>\n",
       "      <th>Gender</th>\n",
       "      <th>expectIQ</th>\n",
       "    </tr>\n",
       "  </thead>\n",
       "  <tbody>\n",
       "    <tr>\n",
       "      <th>0</th>\n",
       "      <td>Youngjeon Lee</td>\n",
       "      <td>174</td>\n",
       "      <td>103</td>\n",
       "      <td>M</td>\n",
       "      <td>104</td>\n",
       "    </tr>\n",
       "    <tr>\n",
       "      <th>1</th>\n",
       "      <td>Chaebin Lim</td>\n",
       "      <td>172</td>\n",
       "      <td>102</td>\n",
       "      <td>M</td>\n",
       "      <td>102</td>\n",
       "    </tr>\n",
       "    <tr>\n",
       "      <th>2</th>\n",
       "      <td>Eunsun Shim</td>\n",
       "      <td>160</td>\n",
       "      <td>102</td>\n",
       "      <td>F</td>\n",
       "      <td>100</td>\n",
       "    </tr>\n",
       "    <tr>\n",
       "      <th>3</th>\n",
       "      <td>Daewoong Kim</td>\n",
       "      <td>170</td>\n",
       "      <td>101</td>\n",
       "      <td>M</td>\n",
       "      <td>100</td>\n",
       "    </tr>\n",
       "    <tr>\n",
       "      <th>4</th>\n",
       "      <td>Sora Lee</td>\n",
       "      <td>159</td>\n",
       "      <td>101</td>\n",
       "      <td>F</td>\n",
       "      <td>99</td>\n",
       "    </tr>\n",
       "    <tr>\n",
       "      <th>5</th>\n",
       "      <td>Kiyoon You</td>\n",
       "      <td>185</td>\n",
       "      <td>116</td>\n",
       "      <td>M</td>\n",
       "      <td>115</td>\n",
       "    </tr>\n",
       "    <tr>\n",
       "      <th>6</th>\n",
       "      <td>Youmin Kim</td>\n",
       "      <td>160</td>\n",
       "      <td>101</td>\n",
       "      <td>F</td>\n",
       "      <td>100</td>\n",
       "    </tr>\n",
       "    <tr>\n",
       "      <th>7</th>\n",
       "      <td>Doyeon Lee</td>\n",
       "      <td>157</td>\n",
       "      <td>102</td>\n",
       "      <td>F</td>\n",
       "      <td>97</td>\n",
       "    </tr>\n",
       "    <tr>\n",
       "      <th>8</th>\n",
       "      <td>Hyein Jeong</td>\n",
       "      <td>162</td>\n",
       "      <td>102</td>\n",
       "      <td>F</td>\n",
       "      <td>102</td>\n",
       "    </tr>\n",
       "    <tr>\n",
       "      <th>9</th>\n",
       "      <td>Soomin Kang</td>\n",
       "      <td>161</td>\n",
       "      <td>99</td>\n",
       "      <td>F</td>\n",
       "      <td>101</td>\n",
       "    </tr>\n",
       "    <tr>\n",
       "      <th>10</th>\n",
       "      <td>Hyemin Kwon</td>\n",
       "      <td>158</td>\n",
       "      <td>101</td>\n",
       "      <td>F</td>\n",
       "      <td>98</td>\n",
       "    </tr>\n",
       "    <tr>\n",
       "      <th>11</th>\n",
       "      <td>Jaeyeon Han</td>\n",
       "      <td>172</td>\n",
       "      <td>95</td>\n",
       "      <td>M</td>\n",
       "      <td>102</td>\n",
       "    </tr>\n",
       "    <tr>\n",
       "      <th>12</th>\n",
       "      <td>Andrew Ng</td>\n",
       "      <td>171</td>\n",
       "      <td>103</td>\n",
       "      <td>M</td>\n",
       "      <td>101</td>\n",
       "    </tr>\n",
       "  </tbody>\n",
       "</table>\n",
       "</div>"
      ],
      "text/plain": [
       "             Name  Height   IQ Gender  expectIQ\n",
       "0   Youngjeon Lee     174  103      M       104\n",
       "1     Chaebin Lim     172  102      M       102\n",
       "2     Eunsun Shim     160  102      F       100\n",
       "3    Daewoong Kim     170  101      M       100\n",
       "4        Sora Lee     159  101      F        99\n",
       "5      Kiyoon You     185  116      M       115\n",
       "6      Youmin Kim     160  101      F       100\n",
       "7      Doyeon Lee     157  102      F        97\n",
       "8     Hyein Jeong     162  102      F       102\n",
       "9     Soomin Kang     161   99      F       101\n",
       "10    Hyemin Kwon     158  101      F        98\n",
       "11    Jaeyeon Han     172   95      M       102\n",
       "12      Andrew Ng     171  103      M       101"
      ]
     },
     "execution_count": 26,
     "metadata": {},
     "output_type": "execute_result"
    }
   ],
   "source": [
    "df['expectIQ'] = 0\n",
    "df.loc[df['Gender'] == 'M', 'expectIQ'] = df['Height'] - 70\n",
    "df.loc[df['Gender'] == 'F', 'expectIQ'] = df['Height'] - 60\n",
    "df"
   ]
  },
  {
   "cell_type": "code",
   "execution_count": 27,
   "metadata": {},
   "outputs": [
    {
     "data": {
      "text/plain": [
       "2"
      ]
     },
     "execution_count": 27,
     "metadata": {},
     "output_type": "execute_result"
    }
   ],
   "source": [
    "E = int(sum(abs(df['expectIQ'] - df['IQ'])) / len(df))\n",
    "E"
   ]
  },
  {
   "cell_type": "code",
   "execution_count": 28,
   "metadata": {},
   "outputs": [
    {
     "data": {
      "text/plain": [
       "76"
      ]
     },
     "execution_count": 28,
     "metadata": {},
     "output_type": "execute_result"
    }
   ],
   "source": [
    "H = int((((df['Gender'] == 'F') & df['Height'].between(158, 162, inclusive=True)) | ((df['Gender'] == 'M') & df['Height'].between(168, 172, inclusive=True))).sum() * 100 / len(df))\n",
    "H"
   ]
  },
  {
   "cell_type": "code",
   "execution_count": 30,
   "metadata": {},
   "outputs": [
    {
     "name": "stdout",
     "output_type": "stream",
     "text": [
      "23 2 76\n",
      "GodHyeIn\n"
     ]
    }
   ],
   "source": [
    "print(R, E, H)\n",
    "print('GodHyeIn' if R > 25 or E > 5 or H > 50 else 'GodDaeWoong')"
   ]
  }
 ],
 "metadata": {
  "kernelspec": {
   "display_name": "Python 3",
   "language": "python",
   "name": "python3"
  },
  "language_info": {
   "codemirror_mode": {
    "name": "ipython",
    "version": 3
   },
   "file_extension": ".py",
   "mimetype": "text/x-python",
   "name": "python",
   "nbconvert_exporter": "python",
   "pygments_lexer": "ipython3",
   "version": "3.7.3"
  }
 },
 "nbformat": 4,
 "nbformat_minor": 2
}
