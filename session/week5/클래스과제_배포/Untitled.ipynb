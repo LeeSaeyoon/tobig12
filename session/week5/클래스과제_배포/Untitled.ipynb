{
 "cells": [
  {
   "cell_type": "code",
   "execution_count": 1,
   "metadata": {
    "scrolled": true
   },
   "outputs": [],
   "source": [
    "from Apartment import Apartment\n",
    "\n",
    "f = open(\"Apartment.txt\", 'r')\n",
    "N = int(f.readline())\n",
    "\n",
    "apartments=[]\n",
    "for i in range(N):\n",
    "    lst = f.readline().split(' ')\n",
    "    a = Apartment(lst[0], lst[1], lst[2].strip())\n",
    "    apartments.append(a)\n",
    "    \n",
    "f.close()"
   ]
  },
  {
   "cell_type": "code",
   "execution_count": 2,
   "metadata": {
    "scrolled": true
   },
   "outputs": [],
   "source": [
    "# 클래스 리스트 정렬\n",
    "max_index=0\n",
    "# magic method가 작동하는 것을 직관적으로 파악해보기 위해 for문을 이용하여 최댓값을 찾아보세요!\n",
    "for j in range(N):\n",
    "    if apartments[max_index] < apartments[j]:\n",
    "        max_index = j\n",
    "    \"\"\"\n",
    "    magic method인 lt함수 활용\n",
    "    최대 평수를 가진 Apartment 클래스 찾기 \n",
    "    \"\"\""
   ]
  },
  {
   "cell_type": "code",
   "execution_count": 3,
   "metadata": {},
   "outputs": [
    {
     "data": {
      "text/plain": [
       "84"
      ]
     },
     "execution_count": 3,
     "metadata": {},
     "output_type": "execute_result"
    }
   ],
   "source": [
    "apartments[max_index].size"
   ]
  },
  {
   "cell_type": "code",
   "execution_count": 4,
   "metadata": {},
   "outputs": [
    {
     "name": "stdout",
     "output_type": "stream",
     "text": [
      "216동 701호의 5개의 방이 있는 84평의 아파트입니다.\n"
     ]
    }
   ],
   "source": [
    "# 혹시 같은 인덱스가 있으면 같이 출력한다.\n",
    "print(apartments[max_index])\n",
    "for j in range(N):\n",
    "    if apartments[max_index] == apartments[j] and max_index != j:\n",
    "        print(apartments[j])"
   ]
  },
  {
   "cell_type": "code",
   "execution_count": 5,
   "metadata": {},
   "outputs": [
    {
     "name": "stdout",
     "output_type": "stream",
     "text": [
      "['유현로51', '53', '4', 'T\\n']\n",
      "['장기로34', '88', '5', 'F\\n']\n",
      "['풍무로1', '140', '4', 'F\\n']\n"
     ]
    },
    {
     "data": {
      "text/plain": [
       "140"
      ]
     },
     "execution_count": 5,
     "metadata": {},
     "output_type": "execute_result"
    }
   ],
   "source": [
    "from Vile import Vile\n",
    "\n",
    "f = open(\"Vile.txt\", 'r')\n",
    "M = int(f.readline())\n",
    "\n",
    "viles = []\n",
    "for i in range(M):\n",
    "    lst = f.readline().split(' ')\n",
    "    print(lst)\n",
    "    v = Vile(lst[0], lst[1], lst[2], lst[3].strip())\n",
    "    viles.append(v)\n",
    "    \n",
    "f.close()\n",
    "\n",
    "max(viles).size"
   ]
  },
  {
   "cell_type": "code",
   "execution_count": 6,
   "metadata": {
    "scrolled": true
   },
   "outputs": [
    {
     "data": {
      "text/plain": [
       "[<Vile.Vile at 0x1eca0ddbb00>,\n",
       " <Vile.Vile at 0x1eca0db85c0>,\n",
       " <Vile.Vile at 0x1eca0de8cf8>]"
      ]
     },
     "execution_count": 6,
     "metadata": {},
     "output_type": "execute_result"
    }
   ],
   "source": [
    "viles"
   ]
  },
  {
   "cell_type": "code",
   "execution_count": 7,
   "metadata": {},
   "outputs": [
    {
     "data": {
      "text/plain": [
       "4"
      ]
     },
     "execution_count": 7,
     "metadata": {},
     "output_type": "execute_result"
    }
   ],
   "source": [
    "max(viles).rooms"
   ]
  },
  {
   "cell_type": "code",
   "execution_count": 8,
   "metadata": {},
   "outputs": [
    {
     "name": "stdout",
     "output_type": "stream",
     "text": [
      "풍무로1에 위치해 있는 4개의 방이 있고 마당은 없는 140평의 주택입니다.\n"
     ]
    }
   ],
   "source": [
    "print(max(viles))"
   ]
  }
 ],
 "metadata": {
  "kernelspec": {
   "display_name": "Python 3",
   "language": "python",
   "name": "python3"
  },
  "language_info": {
   "codemirror_mode": {
    "name": "ipython",
    "version": 3
   },
   "file_extension": ".py",
   "mimetype": "text/x-python",
   "name": "python",
   "nbconvert_exporter": "python",
   "pygments_lexer": "ipython3",
   "version": "3.7.3"
  }
 },
 "nbformat": 4,
 "nbformat_minor": 2
}
