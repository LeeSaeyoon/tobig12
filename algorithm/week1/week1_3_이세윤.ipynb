{
 "cells": [
  {
   "cell_type": "code",
   "execution_count": 59,
   "metadata": {},
   "outputs": [],
   "source": [
    "fileName = \"phone_book.txt\"\n",
    "new_fileName = \"new_phone_book.txt\"\n",
    "li = list()\n",
    "newLi = list()\n",
    "\n",
    "with open(fileName) as f:\n",
    "    for line in f:\n",
    "        li.append(line.rstrip('\\n'))\n",
    "    f.close()\n",
    "\n",
    "for i in li:\n",
    "    i = i.replace(\"-\",\"\")\n",
    "    if not i.startswith(\"010\"):\n",
    "        del i\n",
    "    else:\n",
    "        a = int(i[3:7])\n",
    "        b = int(i[7:])\n",
    "        if a > b:\n",
    "            newLi.append(i)\n",
    "            \n",
    "with open(new_fileName, 'w') as f:\n",
    "    for i in newLi:\n",
    "        f.write(i + '\\n')\n",
    "    f.close()"
   ]
  }
 ],
 "metadata": {
  "kernelspec": {
   "display_name": "Python 3",
   "language": "python",
   "name": "python3"
  },
  "language_info": {
   "codemirror_mode": {
    "name": "ipython",
    "version": 3
   },
   "file_extension": ".py",
   "mimetype": "text/x-python",
   "name": "python",
   "nbconvert_exporter": "python",
   "pygments_lexer": "ipython3",
   "version": "3.7.3"
  }
 },
 "nbformat": 4,
 "nbformat_minor": 2
}
