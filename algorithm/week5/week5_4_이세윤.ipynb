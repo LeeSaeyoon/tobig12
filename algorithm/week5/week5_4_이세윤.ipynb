{
 "cells": [
  {
   "cell_type": "code",
   "execution_count": 63,
   "metadata": {
    "scrolled": true
   },
   "outputs": [
    {
     "name": "stdout",
     "output_type": "stream",
     "text": [
      "3\n",
      "0 0 0 \n",
      "1 0 0\n",
      "0 0 1\n"
     ]
    }
   ],
   "source": [
    "import numpy as np\n",
    "\n",
    "# C 입력 받기\n",
    "C = int(input())\n",
    "# C개의 줄에서 받은 정수를 리스트로 받아 numpy array로 저장\n",
    "lst = [list(map(int, input().split())) for _ in range(C)]\n",
    "lst = np.array(lst)"
   ]
  },
  {
   "cell_type": "code",
   "execution_count": 64,
   "metadata": {},
   "outputs": [],
   "source": [
    "# 각 작물의 구역 수 딕셔너리\n",
    "cnt = {-1:0, 0:0, 1:0}"
   ]
  },
  {
   "cell_type": "code",
   "execution_count": 65,
   "metadata": {},
   "outputs": [],
   "source": [
    "def fun(lst):\n",
    "    # 리스트의 길이 계산\n",
    "    n = len(lst)\n",
    "    \n",
    "    # 빈 리스트에 구역 내 작물 종류를 넣기\n",
    "    data = []\n",
    "    for i in range(n):\n",
    "        data.extend(lst[i])\n",
    "        \n",
    "    # 구역 내에 같은 작물만 심어져 있거나 구역을 다 나누었을 때\n",
    "    if len(set(data)) == 1 or n == 1:\n",
    "        # 작물 종류에 해당하는 구역 개수 + 1\n",
    "        cnt[list(set(data))[0]] += 1\n",
    "    \n",
    "    # 구역 내에 다른 작물이 존재할 때 9개 구역으로 나누기\n",
    "    else:\n",
    "        for i in range(3):\n",
    "            for j in range(3):\n",
    "                fun(lst[i*int(n/3):(i+1)*int(n/3), j*int(n/3):(j+1)*int(n/3)])\n",
    "        \n",
    "    return cnt"
   ]
  },
  {
   "cell_type": "code",
   "execution_count": 66,
   "metadata": {
    "scrolled": true
   },
   "outputs": [
    {
     "name": "stdout",
     "output_type": "stream",
     "text": [
      "0\n",
      "7\n",
      "2\n"
     ]
    }
   ],
   "source": [
    "cnt = fun(lst)\n",
    "print(cnt[-1])\n",
    "print(cnt[0])\n",
    "print(cnt[1])"
   ]
  }
 ],
 "metadata": {
  "kernelspec": {
   "display_name": "Python 3",
   "language": "python",
   "name": "python3"
  },
  "language_info": {
   "codemirror_mode": {
    "name": "ipython",
    "version": 3
   },
   "file_extension": ".py",
   "mimetype": "text/x-python",
   "name": "python",
   "nbconvert_exporter": "python",
   "pygments_lexer": "ipython3",
   "version": "3.7.3"
  }
 },
 "nbformat": 4,
 "nbformat_minor": 2
}
