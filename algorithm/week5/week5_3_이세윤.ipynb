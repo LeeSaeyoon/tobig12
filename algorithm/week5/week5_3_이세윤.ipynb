{
 "cells": [
  {
   "cell_type": "code",
   "execution_count": 7,
   "metadata": {},
   "outputs": [
    {
     "name": "stdout",
     "output_type": "stream",
     "text": [
      "20\n",
      "7\n",
      "23\n",
      "19\n",
      "10\n",
      "15\n",
      "25\n",
      "8\n",
      "13\n",
      "7\n",
      "8\n",
      "10\n",
      "13\n",
      "19\n",
      "20\n",
      "23\n"
     ]
    }
   ],
   "source": [
    "# 9명의 장군의 손바닥 길이 리스트에 입력\n",
    "n = 9\n",
    "lst = [int(input()) for _ in range(n)]\n",
    "\n",
    "# 리스트 오름차순 정렬\n",
    "lst.sort()\n",
    "# 9명의 손바닥 길이의 합\n",
    "total = sum(lst)\n",
    "\n",
    "for i in range(n):\n",
    "    for j in range(i+1, n):\n",
    "        # 9명 중 2명을 제외한 길이가 100인 경우\n",
    "        if (total - lst[i] - lst[j]) == 100:\n",
    "            for k in range(n):\n",
    "                # 2명을 제외한 손바닥 길이 출력\n",
    "                if k != i and k != j:\n",
    "                    print(lst[k])"
   ]
  }
 ],
 "metadata": {
  "kernelspec": {
   "display_name": "Python 3",
   "language": "python",
   "name": "python3"
  },
  "language_info": {
   "codemirror_mode": {
    "name": "ipython",
    "version": 3
   },
   "file_extension": ".py",
   "mimetype": "text/x-python",
   "name": "python",
   "nbconvert_exporter": "python",
   "pygments_lexer": "ipython3",
   "version": "3.7.3"
  }
 },
 "nbformat": 4,
 "nbformat_minor": 2
}
